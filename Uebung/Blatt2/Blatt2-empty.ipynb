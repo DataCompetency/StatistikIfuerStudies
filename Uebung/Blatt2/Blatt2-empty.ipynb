{
 "cells": [
  {
   "cell_type": "markdown",
   "metadata": {},
   "source": [
    "# Statistik I für Naturwissenschaftler*innen: Übungsblatt 2\n",
    "\n",
    "Bitte beachten Sie: in der Online-Klausur werden Sie nicht nach Rechenwegen gefragt werden. Die Angabe von numerisch korrekten Ergebnissen reicht dort aus. Insofern macht es Sinn, dass Sie sich zur Zeitersparnis mit Python vertraut machen.\n",
    "\n",
    "## Aufgabe 1\n",
    "\n",
    "Zwei Laplace-Würfel werden geworfen. Wie groß ist die Wahrscheinlichkeit, \n",
    "\n",
    "   a) eine Augensumme von 8 zu erhalten"
   ]
  },
  {
   "cell_type": "code",
   "execution_count": null,
   "metadata": {},
   "outputs": [],
   "source": []
  },
  {
   "cell_type": "markdown",
   "metadata": {},
   "source": [
    "   b) eine Augensumme von mindestens 11 zu erhalten? "
   ]
  },
  {
   "cell_type": "code",
   "execution_count": null,
   "metadata": {},
   "outputs": [],
   "source": []
  },
  {
   "cell_type": "markdown",
   "metadata": {},
   "source": [
    "## Aufgabe 2\n",
    "\n",
    "In einer Apotheke werden zwei verschiedene diagnostische Tests für denselben Wirkstoff angeboten. Der erste Test hat eine Nachweiswahrscheinlichkeit von 30%, der zweite Test von 45%. Ein Patient führt beide Tests durch. Mit welcher Wahrscheinlichkeit\n",
    "\n",
    "   a) sind beide Tests positiv?"
   ]
  },
  {
   "cell_type": "code",
   "execution_count": null,
   "metadata": {},
   "outputs": [],
   "source": []
  },
  {
   "cell_type": "markdown",
   "metadata": {},
   "source": [
    "   b) mindestens 1 Test positiv?"
   ]
  },
  {
   "cell_type": "code",
   "execution_count": null,
   "metadata": {},
   "outputs": [],
   "source": []
  },
  {
   "cell_type": "markdown",
   "metadata": {},
   "source": [
    "## Aufgabe 3\n",
    "\n",
    "Hypoxische respiratorische Insuffizienz ist eine lebensbedrohliche Krankheit, die bei Neugeborenen auftreten kann. Wenn ein Neugeborenes erkrankt, wird es üblicherweise mit einer invasiven Methode namens ECMO (extracorporeal membrane oxygenation) behandelt. Eine neuere Behandlungsoption besteht darin, die betroffenen Kinder Stickstoffmonoxid atmen zu lassen. Um die Effektivität der Stickstoffmonoxid-Methode zu untersuchen wurden erkrankte Kinder in zwei gleich große Gruppen eingeteilt: Gruppe $A$ erhielt die ECMO-Behandlung und Gruppe $B$ wurde mit Stickstoffmonoxid beatmet. 44.2% der Kinder in Gruppe $A$ hatten einen negativen Versuchsausgang (verstarben). Von den Kindern der Gruppe $B$ hatten 57.4% einen negativen Versuchsausgang (verstarben oder benötigten zum Überleben eine zusätzliche Behandlung mit ECMO, aus ethischen Gründen war diese optionale Zusatzbehandlung unverzichtbar) (Quelle: veränderte Zahlenwerte nach Daten aus Samuels *et. al* (2012) *Statistics for the Life Sciences*, S. 91f).\n",
    "\n",
    "Wie wahrscheinlich ist ein negativer Versuchsausgang für an der Studie teilnehmende Kinder?"
   ]
  },
  {
   "cell_type": "code",
   "execution_count": null,
   "metadata": {},
   "outputs": [],
   "source": []
  },
  {
   "cell_type": "markdown",
   "metadata": {},
   "source": [
    "## Aufgabe 4\n",
    "\n",
    "Ein HIV-Selbsttest, den zu Testende selbst und zuhause durchführen und auswerten können, habe eine Sensitivität von 91.20% und eine Spezifität von 99.50%. Das bedeutet in diesem Zusammenhang, dass im Mittel bei 91.2% der HIV-Infizierten der Test positiv ist und dass bei 99.5% der nicht HIV-Infizierten der Test negativ ist. Die Prävalenz von HIV in der deutschen Bevölkerung sei etwa 0.0008. Das bedeutet, dass die Wahrscheinlichkeit 0.0008 ist, dass ein unter der Gleichverteilung zufallig ausgewählter Deutscher HIV-infiziert ist (Quelle: veränderte Zahlenwerte nach Daten aus http://www.vergissaidsnicht.de/uploads/media/HIV-Zahlen_Deutschland_2012.pdf und http://www.aerzteblatt.de/nachrichten/50197/FDA-Gutachter-votieren-fuer-HIV-Heimtest).\n",
    "\n",
    "1. Angenommen, eine zufällige Person wird getestet, ohne dass ein begründeter Anfangsverdacht auf eine HIV-Infektion besteht (formelle Annahme: Gleichverteilung auf allen Deutschen). Mit welcher Wahrscheinlichkeit ist der Test positiv?\n",
    "  "
   ]
  },
  {
   "cell_type": "code",
   "execution_count": null,
   "metadata": {},
   "outputs": [],
   "source": []
  },
  {
   "cell_type": "markdown",
   "metadata": {},
   "source": [
    "2. Wie hoch ist die Wahrscheinlichkeit, dass ein zufälliger Deutscher mit positivem Testergebnis auch tatsächlich infiziert ist?"
   ]
  },
  {
   "cell_type": "code",
   "execution_count": null,
   "metadata": {},
   "outputs": [],
   "source": []
  },
  {
   "cell_type": "markdown",
   "metadata": {},
   "source": [
    "## Aufgabe 5\n",
    "\n",
    "In einer städtischen Umfrage wurde festgestellt:\n",
    "\n",
    "* 18% der Haushalte nutzen regelmäßig öffentliche Verkehrsmittel (ÖV-Nutzer)\n",
    "* 25% der Haushalte besitzen ein Fahrrad\n",
    "* In 32% der Haushalte mit Fahrrad wird auch regelmäßig öffentlicher Verkehr genutzt\n",
    "\n",
    "Ist die Nutzung öffentlicher Verkehrsmittel unabhängig vom Fahrradbesitz?"
   ]
  },
  {
   "cell_type": "code",
   "execution_count": null,
   "metadata": {},
   "outputs": [],
   "source": []
  },
  {
   "cell_type": "markdown",
   "metadata": {},
   "source": [
    "## Aufgabe 6\n",
    "\n",
    "In einem Waldgebiet sind etwa 30% der Bäume Fichten und 70% Buchen. Untersuchungen zeigen:\n",
    "\n",
    "* 15% der Fichten sind vom Borkenkäfer befallen\n",
    "* Nur 2% der Buchen zeigen Borkenkäferbefall\n",
    "\n",
    "Wie hoch ist die Wahrscheinlichkeit, dass ein zufällig ausgewählter Baum in diesem Waldgebiet Borkenkäferbefall aufweist?"
   ]
  },
  {
   "cell_type": "code",
   "execution_count": null,
   "metadata": {},
   "outputs": [],
   "source": []
  }
 ],
 "metadata": {
  "kernelspec": {
   "display_name": "Python 3 (ipykernel)",
   "language": "python",
   "name": "python3"
  },
  "language_info": {
   "codemirror_mode": {
    "name": "ipython",
    "version": 3
   },
   "file_extension": ".py",
   "mimetype": "text/x-python",
   "name": "python",
   "nbconvert_exporter": "python",
   "pygments_lexer": "ipython3",
   "version": "3.11.7"
  }
 },
 "nbformat": 4,
 "nbformat_minor": 4
}
