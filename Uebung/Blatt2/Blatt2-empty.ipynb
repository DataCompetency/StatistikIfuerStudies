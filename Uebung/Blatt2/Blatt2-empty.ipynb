{
 "cells": [
  {
   "cell_type": "markdown",
   "metadata": {},
   "source": [
    "# Statistik I für Naturwissenschaftler*innen: Übungsblatt 2\n",
    "\n",
    "Bitte beachten Sie: in der Online-Klausur werden Sie nicht nach Rechenwegen gefragt werden. Die Angabe von numerisch korrekten Ergebnissen reicht dort aus. Insofern macht es Sinn, dass Sie sich zur Zeitersparnis mit Python vertraut machen.\n",
    "\n",
    "## Aufgabe 1\n",
    "\n",
    "\n",
    "\n",
    "Zwei Laplace-Würfel werden geworfen. Wie groß ist die Wahrscheinlichkeit, \n",
    "\n",
    "   a) eine Augensumme von 9 zu erhalten"
   ]
  },
  {
   "cell_type": "code",
   "execution_count": null,
   "metadata": {},
   "outputs": [],
   "source": []
  },
  {
   "cell_type": "markdown",
   "metadata": {},
   "source": [
    "   b) eine Augensumme von mindestens 3 zu erhalten? "
   ]
  },
  {
   "cell_type": "code",
   "execution_count": null,
   "metadata": {},
   "outputs": [],
   "source": []
  },
  {
   "cell_type": "markdown",
   "metadata": {},
   "source": [
    "## Aufgabe 2\n",
    "\n",
    "Auf dem Fischerfest stehen zwei Stände, die Lose verkaufen. Der erste Stand wirbt mit einer Gewinnchance von 25%, der zweite wirbt mit einer Gewinnchance von 40%. Sie kaufen je ein Los bei beiden Ständen. Mit welcher Wahrscheinlichkeit erhalten Sie\n",
    "\n",
    "   a) 2 Gewinnlose? "
   ]
  },
  {
   "cell_type": "code",
   "execution_count": null,
   "metadata": {},
   "outputs": [],
   "source": []
  },
  {
   "cell_type": "markdown",
   "metadata": {},
   "source": [
    "   b) mindestens 1 Gewinnlos?"
   ]
  },
  {
   "cell_type": "code",
   "execution_count": null,
   "metadata": {},
   "outputs": [],
   "source": []
  },
  {
   "cell_type": "markdown",
   "metadata": {},
   "source": [
    "## Aufgabe 3\n",
    "\n",
    "Hypoxische respiratorische Insuffizienz ist eine lebensbedrohliche Krankheit, die bei Neugeborenen auftreten kann. Wenn ein Neugeborenes erkrankt, wird es üblicherweise mit einer invasiven Methode namens ECMO (extracorporeal membrane oxygenation) behandelt. Eine neuere Behandlungsoption besteht darin, die betroffenen Kinder Stickstoffmonoxid atmen zu lassen. Um die Effektivität der Stickstoffmonoxid-Methode zu untersuchen wurden erkrankte Kinder in zwei gleich große Gruppen eingeteilt: Gruppe $A$ erhielt die ECMO-Behandlung und Gruppe $B$ wurde mit Stickstoffmonoxid beatmet. 44.2% der Kinder in Gruppe $A$ hatten einen negativen Versuchsausgang (verstarben). Von den Kindern der Gruppe $B$ hatten 57.4% einen negativen Versuchsausgang}(verstarben oder benötigten zum Überleben eine zusätzliche Behandlung mit ECMO, aus ethischen Gründen war diese optionale Zusatzbehandlung unverzichtbar) (Quelle: veränderte Zahlenwerte nach Daten aus Samuels *et. al* (2012) *Statistics for the Life Sciences*, S. 91f).\n",
    "\n",
    "Wie wahrscheinlich ist ein negativer Versuchsausgang für an der Studie teilnehmende Kinder?"
   ]
  },
  {
   "cell_type": "code",
   "execution_count": null,
   "metadata": {},
   "outputs": [],
   "source": []
  },
  {
   "cell_type": "markdown",
   "metadata": {},
   "source": [
    "## Aufgabe 4\n",
    "\n",
    "Ein HIV-Selbsttest, den zu Testende selbst und zuhause durchführen und auswerten können, habe eine Sensitivität von 91.20% und eine Spezifität von 99.50%. Das bedeutet in diesem Zusammenhang, dass im Mittel bei 91.2% der HIV-Infizierten der Test positiv ist und dass bei 99.5% der nicht HIV-Infizierten der Test negativ ist. Die Prävalenz von HIV in der deutschen Bevölkerung sei etwa 0.0008. Das bedeutet, dass die Wahrscheinlichkeit 0.0008 ist, dass ein unter der Gleichverteilung zufallig ausgewählter Deutscher HIV-infiziert ist (Quelle: veränderte Zahlenwerte nach Daten aus http://www.vergissaidsnicht.de/uploads/media/HIV-Zahlen_Deutschland_2012.pdf und http://www.aerzteblatt.de/nachrichten/50197/FDA-Gutachter-votieren-fuer-HIV-Heimtest).\n",
    "\n",
    "1. Angenommen, eine zufällige Person wird getestet, ohne dass ein begründeter Anfangsverdacht auf eine HIV-Infektion besteht (formelle Annahme: Gleichverteilung auf allen Deutschen). Mit welcher Wahrscheinlichkeit ist der Test positiv?"
   ]
  },
  {
   "cell_type": "code",
   "execution_count": null,
   "metadata": {},
   "outputs": [],
   "source": []
  },
  {
   "cell_type": "markdown",
   "metadata": {},
   "source": [
    "2. Wie hoch ist die Wahrscheinlichkeit, dass ein zufälliger Deutscher mit positivem Testergebnis auch tatsächlich infiziert ist?"
   ]
  },
  {
   "cell_type": "code",
   "execution_count": null,
   "metadata": {},
   "outputs": [],
   "source": []
  },
  {
   "cell_type": "markdown",
   "metadata": {},
   "source": [
    "## Aufgabe 5\n",
    "\n",
    "Angenommen, 15% der in einer Partnerschaft lebenden Männer verzichten auf den Konsum von Fleisch (hier definiert als ``Vegetarier``) und 22% der Partnerinnen (= Freundinnen) sind Vegetarierinnen. In 22% der Partnerschaften, in denen die Frau Vegetarierin ist, verzichten beide Partner auf Fleisch. Ist der Fleischkonsum-Status der männlichen Partner unabhängig von dem ihrer Freundinnen?"
   ]
  },
  {
   "cell_type": "code",
   "execution_count": null,
   "metadata": {},
   "outputs": [],
   "source": []
  },
  {
   "cell_type": "markdown",
   "metadata": {},
   "source": [
    "## Aufgabe 6\n",
    "\n",
    "Angenommen, in Deutschland wären ca. 20% der Erwachsenen Raucher und 80% Nichtraucher. Etwa 10% der Raucher erkranken im Laufe ihres Lebens an Lungenkrebs, von den Nichtrauchern erkranken nur 1% im Laufe ihres Lebens an Lungenkrebs. Wie hoch wäre die Wahrscheinlichkeit, als Erwachsener in Deutschland an Lungenkrebs zu erkranken?"
   ]
  },
  {
   "cell_type": "code",
   "execution_count": null,
   "metadata": {},
   "outputs": [],
   "source": []
  }
 ],
 "metadata": {
  "kernelspec": {
   "display_name": "Python 3",
   "language": "python",
   "name": "python3"
  },
  "language_info": {
   "codemirror_mode": {
    "name": "ipython",
    "version": 3
   },
   "file_extension": ".py",
   "mimetype": "text/x-python",
   "name": "python",
   "nbconvert_exporter": "python",
   "pygments_lexer": "ipython3",
   "version": "3.9.2"
  }
 },
 "nbformat": 4,
 "nbformat_minor": 4
}
