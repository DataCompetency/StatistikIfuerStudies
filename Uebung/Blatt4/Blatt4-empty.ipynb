{
 "cells": [
  {
   "cell_type": "markdown",
   "metadata": {},
   "source": [
    "# Statistik I für Naturwissenschaftler*innen: Übungsblatt 4"
   ]
  },
  {
   "cell_type": "markdown",
   "metadata": {},
   "source": [
    "## Aufgabe 1\n",
    "\n",
    "Eine Zufallsvariable $Y: \\Omega \\rightarrow \\mathbb{R}$ erfasst die Anzahl der Wirkstoffmoleküle, die sich in einer zufällig ausgewählten Tablette befinden. Die Tablette kann zwischen 10 und 20 Wirkstoffmoleküle enthalten, wobei jede Menge gleich wahrscheinlich ist. Berechnen Sie:\n",
    "\n",
    "a) Erwartungswert  \n",
    "b) Varianz und Standardabweichung  \n",
    "c) Median  \n",
    "d) Interquartilsabstand  "
   ]
  },
  {
   "cell_type": "code",
   "execution_count": null,
   "metadata": {},
   "outputs": [],
   "source": []
  },
  {
   "cell_type": "markdown",
   "metadata": {},
   "source": [
    "## Aufgabe 2\n",
    "\n",
    "Eine Zufallsvariable $X: \\Omega \\rightarrow \\mathbb{R}$ besitzt die folgende Dichtefunktion:\n",
    "\n",
    "$$\n",
    "f(x) = \n",
    "\\begin{cases}\n",
    "\\dfrac{10}{13} \\cdot (0.02x + 0.03) & \\text{für } 0 \\leq x \\leq 10\\\\[6pt]\n",
    "0 & \\text{sonst}\n",
    "\\end{cases}\n",
    "$$\n",
    "\n",
    "Berechnen Sie Erwartungswert, Varianz und Standardabweichung!"
   ]
  },
  {
   "cell_type": "code",
   "execution_count": null,
   "metadata": {},
   "outputs": [],
   "source": []
  },
  {
   "cell_type": "markdown",
   "metadata": {},
   "source": [
    "## Aufgabe 3\n",
    "\n",
    "In einem Schutzgebiet werden zwei Kamerafallen an verschiedenen Standorten eingesetzt, um das Auftreten einer bestimmten Wildtierart (z. B. Wildkatze) zu erfassen. Kamera 1 hat eine Erfassungswahrscheinlichkeit von 35 %, Kamera 2 von 50 %. Beide Kameras lösen unabhängig voneinander aus. Sie werten je ein Bild pro Kamera aus.\n",
    "\n",
    "Betrachten Sie die Verteilung der Anzahl der Kameras, die das Tier erfassen.  \n",
    "Berechnen Sie Erwartungswert und Varianz dieser Verteilung!"
   ]
  },
  {
   "cell_type": "code",
   "execution_count": null,
   "metadata": {},
   "outputs": [],
   "source": []
  },
  {
   "cell_type": "markdown",
   "metadata": {},
   "source": [
    "## Aufgabe 4\n",
    "\n",
    "In einem Seminar zur Stadtentwicklung sind 30 Studierende eingeschrieben, davon wohnen 10 im Zentrum, 9 in der inneren Peripherie und 11 im Umland. Jeden Tag wird zufällig eine Person bestimmt, die das Protokoll für die Sitzung schreiben muss.\n",
    "\n",
    "Angenommen, Sie möchten die Wahrscheinlichkeit berechnen, dass in einer Woche (5 Tage) keine Person aus dem Zentrum, drei aus der inneren Peripherie und zwei aus dem Umland das Protokoll schreiben.\n",
    "\n",
    "Welche Verteilung würden Sie verwenden, um diese Wahrscheinlichkeit zu berechnen?"
   ]
  },
  {
   "cell_type": "code",
   "execution_count": null,
   "metadata": {},
   "outputs": [],
   "source": []
  },
  {
   "cell_type": "markdown",
   "metadata": {},
   "source": [
    "## Aufgabe 5\n",
    "\n",
    "In einem klinischen Versuch erhalten 40 PatientInnen entweder Medikament A oder ein Placebo. 24 PatientInnen bekommen Medikament A, 16 ein Placebo. Am Ende der Woche werden stichprobenartig 6 Patient*innen ausgewählt, deren Blutwerte genauer analysiert werden sollen.  \n",
    "\n",
    "Angenommen, Sie möchten die Wahrscheinlichkeit berechnen, dass unter den 6 zufällig ausgewählten PatientInnen genau 4 aus der Medikament-A-Gruppe und 2 aus der Placebo-Gruppe stammen.  \n",
    "\n",
    "Welche Verteilung würden Sie verwenden, um diese Wahrscheinlichkeit zu berechnen?\n"
   ]
  },
  {
   "cell_type": "code",
   "execution_count": null,
   "metadata": {},
   "outputs": [],
   "source": []
  },
  {
   "cell_type": "markdown",
   "metadata": {},
   "source": [
    "## Aufgabe 6\n",
    "\n",
    "In einem großflächigen Bodenmonitoring-Projekt werden in einem bestimmten Jahr 300 Bodenproben aus unterschiedlichen landwirtschaftlich genutzten Flächen genommen. Später stellt sich heraus, dass 15 dieser Proben stark mit einem bestimmten Pestizid belastet waren. Leider wurde bei der Lagerung versäumt, die Proben eindeutig zu kennzeichnen, sodass der Belastungsstatus einzelner Proben nicht mehr bekannt ist.\n",
    "\n",
    "Eine Forscherin möchte nun durch eine gezielte Sequenzierung von Boden-DNA prüfen, ob sich belastete Proben anhand ihrer mikrobiellen Signatur im Nachhinein identifizieren lassen. Sie schlägt vor, 40 Proben zufällig aus dem Lager auszuwählen und zu sequenzieren. Die Hoffnung ist, dass mindestens zwei belastete Proben dabei sind. Sei $X := \\text{Anzahl belasteter Proben in der Stichprobe}$.\n",
    "\n",
    "a) Wie ist die Zufallsvariable $X$ verteilt?\n",
    "\n",
    "b) Berechnen Sie die Wahrscheinlichkeit, dass mindestens eine belastete Probe unter 20 zufällig gezogenen Proben ist."
   ]
  },
  {
   "cell_type": "code",
   "execution_count": null,
   "metadata": {},
   "outputs": [],
   "source": []
  }
 ],
 "metadata": {
  "kernelspec": {
   "display_name": "Python 3 (ipykernel)",
   "language": "python",
   "name": "python3"
  },
  "language_info": {
   "codemirror_mode": {
    "name": "ipython",
    "version": 3
   },
   "file_extension": ".py",
   "mimetype": "text/x-python",
   "name": "python",
   "nbconvert_exporter": "python",
   "pygments_lexer": "ipython3",
   "version": "3.11.7"
  }
 },
 "nbformat": 4,
 "nbformat_minor": 4
}
