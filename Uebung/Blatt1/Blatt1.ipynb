{
 "cells": [
  {
   "cell_type": "markdown",
   "metadata": {},
   "source": [
    "# Statistik I für Naturwissenschaftler*innen: Übungsblatt 1\n",
    "\n",
    "Bitte beachten Sie: in der Online-Klausur werden Sie nicht nach Rechenwegen gefragt werden. Die Angabe von numerisch korrekten Ergebnissen reicht dort aus. Insofern macht es Sinn, dass Sie sich zur Zeitersparnis mit Python vertraut machen.\n",
    "\n",
    "## Aufgabe 1\n",
    "\n",
    "Gegeben seien im Grundbereich der positiven ganzen Zahlen, die nicht größer als 25, oder kleiner als 37 und durch 6 teilbar sind, die folgenden Mengen:\n",
    "\n",
    "   * $G$: gerade Zahlen\n",
    "\n",
    "   * $Q$: Quadratzahlen\n",
    "\n",
    "   * $P$: Primzahlen\n",
    "\n",
    "   * $T$: alle Teiler von 60\n",
    "\n",
    "### Aufgabe 1a\n",
    "\n",
    "Geben Sie die Mengen $G$, $Q$, $P$ und $T$ an! Was ist die Mächtigkeit der Grundmenge? \n",
    "\n",
    "Implementation der Mengen als \"sets\" in Python:"
   ]
  },
  {
   "cell_type": "code",
   "execution_count": 2,
   "metadata": {},
   "outputs": [],
   "source": [
    "Omega = {1, 2, 3, 4, 5, 6, 7, 8, 9, 10, 11, 12, 13, 14, 15, 16, 17, 18, 19, 20, 21, 22, 23, 24, 25, 30, 36}\n",
    "\n",
    "G = {2, 4, 6, 8, 10, 12, 14, 16, 18, 20, 22, 24, 30, 36}\n",
    "Q = {1, 4, 9, 16, 25, 36}\n",
    "P = {2, 3, 5, 7, 11, 13, 17, 19, 23}\n",
    "T = {1, 2, 3, 4, 5, 6, 10, 12, 15, 20, 30}"
   ]
  },
  {
   "cell_type": "markdown",
   "metadata": {},
   "source": [
    "Bestimmung der Mächtigkeit durch Bildung der Vereinigungsmenge und der Länge des resultierenden sets mit len():"
   ]
  },
  {
   "cell_type": "code",
   "execution_count": 3,
   "metadata": {},
   "outputs": [
    {
     "name": "stdout",
     "output_type": "stream",
     "text": [
      "Mächtigkeit von Omega ist:  27\n"
     ]
    }
   ],
   "source": [
    "MaechtigkeitOmega = len(Omega)\n",
    "print(\"Mächtigkeit von Omega ist:  \" + str(MaechtigkeitOmega))"
   ]
  },
  {
   "cell_type": "markdown",
   "metadata": {},
   "source": [
    "### Aufgabe 1b\n",
    "\n",
    "Bestimmen Sie $G \\cup Q$, $Q \\cup T$, $Q\\cap P$, $Q\\cap T$, $Q \\smallsetminus T$, $P \\cap (T\\smallsetminus Q)$\n",
    "\n",
    "Dieser Aufgabentyp ist durchaus effizient von Hand lösbar. Sie finden ein Video zur händischen Lösung unter https://youtu.be/umQ0BOnBi1Y \n",
    "\n",
    "Python kann eine Alternative sein, wenn die Mengen groß sind.\n",
    "\n",
    "$G \\cup Q$:"
   ]
  },
  {
   "cell_type": "code",
   "execution_count": 14,
   "metadata": {},
   "outputs": [
    {
     "name": "stdout",
     "output_type": "stream",
     "text": [
      "{1, 2, 4, 6, 8, 9, 10, 12, 14, 16, 18, 20, 22, 24, 25, 30, 36}\n"
     ]
    }
   ],
   "source": [
    "G_union_Q = G.union(Q)\n",
    "print(G_union_Q)"
   ]
  },
  {
   "cell_type": "markdown",
   "metadata": {},
   "source": [
    "$Q \\cup T$:"
   ]
  },
  {
   "cell_type": "code",
   "execution_count": 15,
   "metadata": {},
   "outputs": [
    {
     "name": "stdout",
     "output_type": "stream",
     "text": [
      "{1, 2, 3, 4, 5, 6, 9, 10, 12, 15, 16, 20, 25, 30, 36}\n"
     ]
    }
   ],
   "source": [
    "Q_union_T = Q.union(T)\n",
    "print(Q_union_T)"
   ]
  },
  {
   "cell_type": "markdown",
   "metadata": {},
   "source": [
    "$Q\\cap P$:"
   ]
  },
  {
   "cell_type": "code",
   "execution_count": 16,
   "metadata": {},
   "outputs": [
    {
     "name": "stdout",
     "output_type": "stream",
     "text": [
      "set()\n"
     ]
    }
   ],
   "source": [
    "Q_intersect_P = Q.intersection(P)\n",
    "print(Q_intersect_P) # leere Menge"
   ]
  },
  {
   "cell_type": "markdown",
   "metadata": {},
   "source": [
    "$Q\\cap T$:"
   ]
  },
  {
   "cell_type": "code",
   "execution_count": 17,
   "metadata": {},
   "outputs": [
    {
     "name": "stdout",
     "output_type": "stream",
     "text": [
      "{1, 4}\n"
     ]
    }
   ],
   "source": [
    "Q_intersect_T = Q.intersection(T)\n",
    "print(Q_intersect_T) "
   ]
  },
  {
   "cell_type": "markdown",
   "metadata": {},
   "source": [
    "$Q \\smallsetminus T$"
   ]
  },
  {
   "cell_type": "code",
   "execution_count": 18,
   "metadata": {},
   "outputs": [
    {
     "name": "stdout",
     "output_type": "stream",
     "text": [
      "{16, 9, 36, 25}\n"
     ]
    }
   ],
   "source": [
    "Q_diff_T = Q.difference(T)\n",
    "print(Q_diff_T)"
   ]
  },
  {
   "cell_type": "markdown",
   "metadata": {},
   "source": [
    "$P \\cap (T\\smallsetminus Q)$:"
   ]
  },
  {
   "cell_type": "code",
   "execution_count": 19,
   "metadata": {},
   "outputs": [
    {
     "name": "stdout",
     "output_type": "stream",
     "text": [
      "{2, 3, 5}\n"
     ]
    }
   ],
   "source": [
    "P_intersect_diff_of_T_and_Q = P.intersection(T.difference(Q))\n",
    "print(P_intersect_diff_of_T_and_Q)"
   ]
  },
  {
   "cell_type": "markdown",
   "metadata": {},
   "source": [
    "## Aufgabe 2\n",
    "\n",
    "Gegeben sei die Funktion $f: [-1.5, 1.5] \\rightarrow \\mathbb{R}$ mit $f(x) = 5x^{4} - e^{3x^{2}} + 2x^{2} + 3$\n",
    "\n",
    "### Aufgabe 2a\n",
    "\n",
    " Wie ist die Steigung der Funktion für $x = 0.5$?\n",
    " \n",
    " Diese Art von Aufgaben können Sie effizient in Python lösen. Zunächst bestimmen wir die 1. Ableitung:"
   ]
  },
  {
   "cell_type": "code",
   "execution_count": 43,
   "metadata": {},
   "outputs": [
    {
     "data": {
      "text/latex": [
       "$\\displaystyle - 6.0 \\cdot 2.71828182845905^{3 x^{2}} x + 20 x^{3} + 4 x$"
      ],
      "text/plain": [
       "-6.0*2.71828182845905**(3*x**2)*x + 20*x**3 + 4*x"
      ]
     },
     "execution_count": 43,
     "metadata": {},
     "output_type": "execute_result"
    }
   ],
   "source": [
    "import math # for e\n",
    "from sympy import * # for symbols & differentiation\n",
    "x  = symbols(\"x\")\n",
    "\n",
    "def f(x):\n",
    "    return(5*x**4 - math.e**(3*x**2) + 2*x**2 + 3)\n",
    "\n",
    "f1 = diff(f(x), x, 1) # 1. Ableitung nach x\n",
    "f1"
   ]
  },
  {
   "cell_type": "markdown",
   "metadata": {},
   "source": [
    "Dann setzen wir 0.5 in die erste Ableitung ein:"
   ]
  },
  {
   "cell_type": "code",
   "execution_count": null,
   "metadata": {},
   "outputs": [
    {
     "name": "stdout",
     "output_type": "stream",
     "text": [
      "Die Steigung von f(x) in x = 0.5 ist -1.8510000498380323\n"
     ]
    }
   ],
   "source": [
    "import math\n",
    "\n",
    "f1_lam = lambdify(x, f1)\n",
    "x = 0.5\n",
    "\n",
    "print(\"Die Steigung von f(x) in x = 0.5 ist \" + str(f1_lam(x)))"
   ]
  },
  {
   "cell_type": "markdown",
   "metadata": {},
   "source": [
    "Selbstverständlich können Sie solche Aufgaben auch leicht \"von Hand\" lösen:\n",
    "\n",
    "Für die Berechnung der Steigung in einem Punkt benötigt man die 1. Ableitung:\n",
    "\n",
    "$$f'(x) = 20 x^{3} - 6 e ^{3 x^{2}} x + 4x$$\n",
    "\n",
    "Anschließend wird der entsprechende $x$-Wert in die 1. Ableitung eingesetzt:\n",
    "\n",
    "$$f'(0.5) = 20 \\cdot 0.5^{3} - 6 \\cdot e ^{3 \\cdot 0.5^{2}} \\cdot 0.5 + 4 \\cdot 0.5 =  -1.851 $$\n",
    "\n",
    "Die Steigung für $x = 0.5$ beträgt ca. -1.851.\n",
    "\n",
    "Sie finden ein Video zur händischen Lösung unter https://youtu.be/UWVzQbbkM2k\n",
    "\n",
    "### Aufgabe 2b\n",
    "\n",
    "An welchem Punkt schneidet die Funktion die $y$-Achse?\n",
    "\n",
    "Hier setzen wir einfach 0 in f(x) ein:"
   ]
  },
  {
   "cell_type": "code",
   "execution_count": 18,
   "metadata": {},
   "outputs": [
    {
     "name": "stdout",
     "output_type": "stream",
     "text": [
      "Die Funktion schneidet die y-Achse im Punkt x = 0, y = 2.0\n"
     ]
    }
   ],
   "source": [
    "y = f(0)\n",
    "print(\"Die Funktion schneidet die y-Achse im Punkt x = 0, y = \" + str(y))"
   ]
  },
  {
   "cell_type": "markdown",
   "metadata": {},
   "source": [
    "Auch das kann man natürlich ausführlich von Hand rechnen (dauert aber vielleicht länger):\n",
    "\n",
    "$$f(0) = 5\\cdot 0 ^{4} - e^{3\\cdot 0^{2}} + 2\\cdot 0 ^{2} +3 = 0 - 1 + 0 +3 = 2$$\n",
    "\n",
    "Ein Video zur händischen Lösung finden Sie unter https://youtu.be/4VDmlhxOs2c\n",
    "\n",
    "### Aufgabe 2c\n",
    "\n",
    "Gegeben sei die Funktion $f: \\mathbb{R} \\rightarrow \\mathbb{R}$ mit $f(x) = 10x + 5$. Wie ist die Steigung der Funktion? An welchem Punkt schneidet die Funktion die $y$-Achse?\n",
    "\n",
    "Es ist nicht immer sinnvoll, eine Programmiersprache oder einen Taschenrechner zu benutzen. Diese Aufgabe ist ein typisches Beispiel dafür.\n",
    "\n",
    "Die Steigung der Funktion ist 10, denn es handelt sich um eine Gerade $m \\cdot x + b$ mit der Steigung $m = 10$ und dem Achsenabschnitt $b = 5$. \n",
    "\n",
    "Damit ist der Schnittpunkt mit der $y$-Achse $P(0,5)$. \n",
    "\n",
    "Rechnerisch von Hand:\n",
    "\n",
    "$$f(0) =  10 \\cdot 0 + 5 = 5$$\n",
    "\n",
    "Video: https://youtu.be/jUMnXNEbfXY\n",
    "\n",
    "Rechnerisch mit Python:"
   ]
  },
  {
   "cell_type": "code",
   "execution_count": 19,
   "metadata": {},
   "outputs": [
    {
     "name": "stdout",
     "output_type": "stream",
     "text": [
      "Steigung von f(x):\n"
     ]
    },
    {
     "data": {
      "text/latex": [
       "$\\displaystyle 10$"
      ],
      "text/plain": [
       "10"
      ]
     },
     "execution_count": 19,
     "metadata": {},
     "output_type": "execute_result"
    }
   ],
   "source": [
    "from sympy import * # for symbols & differentiation\n",
    "x,y  = symbols(\"x y\", real=True)\n",
    "\n",
    "def f(x):\n",
    "    return(10*x + 5)\n",
    "\n",
    "print(\"Steigung von f(x):\")\n",
    "diff(f(x), x) # 1. Ableitung nach x = Steigung einer Geraden\n"
   ]
  },
  {
   "cell_type": "code",
   "execution_count": 20,
   "metadata": {},
   "outputs": [
    {
     "name": "stdout",
     "output_type": "stream",
     "text": [
      "Die Funktion schneidet die y Achse im Punkt x = 0, y = 5\n"
     ]
    }
   ],
   "source": [
    "print(\"Die Funktion schneidet die y Achse im Punkt x = 0, y = \" + str(f(0)))"
   ]
  },
  {
   "cell_type": "markdown",
   "metadata": {},
   "source": [
    "## Aufgabe 3\n",
    "\n",
    "Gegeben sei die Funktion $f: \\mathbb{R} \\smallsetminus \\{-2\\} \\rightarrow \\mathbb{R} $ mit $f(x) = \\frac{2x^{2}}{x+2}$. Bestimmen Sie die Extrempunkte der Funktion. Hinweis Quotientenregel: \n",
    "\n",
    "$$f(x) = \\frac{g(x)}{h(x)} \\rightarrow f'(x) = \\frac{h(x) \\cdot g'(x) - g(x) \\cdot h'(x)}{[h(x)]^{2}}$$\n",
    "\n",
    "... Die Quotientenregel benötigen Sie natürlich nur, wenn Sie diese Aufgabe händisch lösen. Python kann Ihnen hier viel Arbeit abnehmen.\n",
    "\n",
    "### Schritt 1: Ableitungen bestimmen\n"
   ]
  },
  {
   "cell_type": "code",
   "execution_count": 2,
   "metadata": {},
   "outputs": [
    {
     "data": {
      "text/latex": [
       "$\\displaystyle \\frac{2 x \\left(x + 4\\right)}{x^{2} + 4 x + 4}$"
      ],
      "text/plain": [
       "2*x*(x + 4)/(x**2 + 4*x + 4)"
      ]
     },
     "execution_count": 2,
     "metadata": {},
     "output_type": "execute_result"
    }
   ],
   "source": [
    "from sympy import * # for symbols & differentiation\n",
    "x, y  = symbols(\"x y\", real = True)\n",
    "\n",
    "def f(x):\n",
    "    return((2*x**2)/(x+2))\n",
    "\n",
    "f1 = simplify(diff(f(x), x)) # 1. Ableitung zum Angucken\n",
    "f1"
   ]
  },
  {
   "cell_type": "code",
   "execution_count": 39,
   "metadata": {},
   "outputs": [
    {
     "data": {
      "text/latex": [
       "$\\displaystyle \\frac{16}{x^{3} + 6 x^{2} + 12 x + 8}$"
      ],
      "text/plain": [
       "16/(x**3 + 6*x**2 + 12*x + 8)"
      ]
     },
     "execution_count": 39,
     "metadata": {},
     "output_type": "execute_result"
    }
   ],
   "source": [
    "f2 = simplify(diff(f1, x)) # 2. Ableitung zum Angucken\n",
    "f2"
   ]
  },
  {
   "cell_type": "markdown",
   "metadata": {},
   "source": [
    "Wenn wir das von Hand machen, dann sieht das so aus:\n",
    "\n",
    "$$f'(x) = \\frac{(x+2) \\cdot 4x - 2x^{2} \\cdot 1}{(x+2)^{2}}$$\n",
    "$$= \\frac{4x^{2}+8x-2x^{2}}{(x+2)^{2}}$$\n",
    "$$= \\frac{2x^{2}+8x}{(x+2)^{2}}$$\n",
    "$$= 2 \\cdot \\frac{x^{2}+4x}{(x+2)^{2}}$$\n",
    "\n",
    "(Ja, diese Lösung ist äquivalent zu der von Python bestimmten Ableitung.)\n",
    "\n",
    "$$f''(x) = 2 \\cdot \\frac{(x+2)^{2} \\cdot (2x +4) - 2 \\cdot (x+2) \\cdot 1 \\cdot (x^{2}+4x)}{[(x+2)^{2}]^{2}}$$\n",
    "$$= 2 \\cdot \\frac{(x+2) \\cdot [(x+2)\\cdot (2x +4) - 2 \\cdot (x^{2}+4x)]}{(x+2)^{4}}$$\n",
    "$$= 2 \\cdot \\frac{2x^{2} + 4x + 4x +8 - 2x^{2} - 8x}{(x+2)^{3}}$$\n",
    "$$= 2 \\cdot \\frac{8}{(x+2)^{3}}$$\n",
    "$$= \\frac{16}{(x+2)^{3}}$$\n",
    "\n",
    "(Auch diese Lösung ist äquivalent.)\n",
    "\n",
    "Ich wage zu behaupten, dass es länger dauert, das von Hand zu machen. Video: https://youtu.be/Q2X-p_CZj-E\n",
    "### Schritt 2: Nullstellen der 1. Ableitung bestimmen:\n",
    "\n",
    "sympy.solvers.solve() setzt gleich 0 und löst nach dem zweiten Argument (hier x) auf:"
   ]
  },
  {
   "cell_type": "code",
   "execution_count": 40,
   "metadata": {},
   "outputs": [
    {
     "data": {
      "text/plain": [
       "[-4, 0]"
      ]
     },
     "execution_count": 40,
     "metadata": {},
     "output_type": "execute_result"
    }
   ],
   "source": [
    "x, y  = symbols(\"x y\", real = True)\n",
    "solve(f1, x)"
   ]
  },
  {
   "cell_type": "markdown",
   "metadata": {},
   "source": [
    "Das bedeutet: es gibt zwei Nullstellen: $x_1 = -4$ und $x_2 = 0$\n",
    "\n",
    "Von Hand hätte die Lösung so ausgesehen:\n",
    "\n",
    "$$f'(x) = 2 \\cdot \\frac{x^{2}+4x}{(x+2)^{2}} = 0$$\n",
    "$$x^{2}+4x = 0$$\n",
    "$$x \\cdot (x+4) = 0$$"
   ]
  },
  {
   "cell_type": "markdown",
   "metadata": {},
   "source": [
    "### Schritt 3: Einsetzen der Nullstellen in die 2. Ableitung\n",
    "\n",
    "Wir prüfen, ob es sich um einen Hoch- oder Tiefpunkt handelt:"
   ]
  },
  {
   "cell_type": "code",
   "execution_count": 41,
   "metadata": {},
   "outputs": [
    {
     "data": {
      "text/plain": [
       "-2.0"
      ]
     },
     "execution_count": 41,
     "metadata": {},
     "output_type": "execute_result"
    }
   ],
   "source": [
    "lam_f2 = lambdify(x, f2) # lambdify enables us to use the sympy derivative, which is symbolic, as a function\n",
    "lam_f2(-4)"
   ]
  },
  {
   "cell_type": "markdown",
   "metadata": {},
   "source": [
    "Die -2 ist negativ, also gehört die Nullstelle $x_1$ zu einem Hochpunkt."
   ]
  },
  {
   "cell_type": "code",
   "execution_count": 42,
   "metadata": {},
   "outputs": [
    {
     "data": {
      "text/plain": [
       "2.0"
      ]
     },
     "execution_count": 42,
     "metadata": {},
     "output_type": "execute_result"
    }
   ],
   "source": [
    "lam_f2(0)"
   ]
  },
  {
   "cell_type": "markdown",
   "metadata": {},
   "source": [
    "Die 2 ist positiv, also gehört die Nullstelle $x_2$ zu einem Tiefpunkt.\n",
    "\n",
    "Natürlich könnten wir das auch ohne Python herausfinden:\n",
    "\n",
    "$$f''(x_{1}) = f''(-4) = \\frac{16}{(-4+2)^{3}} = \\frac{16}{-8} = -2 < 0$$\n",
    "\n",
    "$\\rightarrow$ $x_{1}$ gehört zu einem Hochpunkt.\n",
    "\n",
    "$$f''(x_{2}) = f''(0) = \\frac{16}{(0+2)^{3}} = \\frac{16}{8} = 2 > 0 $$\n",
    "\n",
    "$\\rightarrow$ $x_{2}$ gehört zu einem Tiefpunkt.\n"
   ]
  },
  {
   "cell_type": "markdown",
   "metadata": {},
   "source": [
    "### Schritt 4: y-Koordinate berechnen\n",
    "\n",
    "y-Koordinaten berechnen durch Einsetzen von $x_{1}$ und $x_{2}$ in $f(x)$:"
   ]
  },
  {
   "cell_type": "code",
   "execution_count": 20,
   "metadata": {},
   "outputs": [
    {
     "data": {
      "text/plain": [
       "-16.0"
      ]
     },
     "execution_count": 20,
     "metadata": {},
     "output_type": "execute_result"
    }
   ],
   "source": [
    "f(-4)"
   ]
  },
  {
   "cell_type": "markdown",
   "metadata": {},
   "source": [
    "$\\rightarrow$ $H(-4, 16)$"
   ]
  },
  {
   "cell_type": "code",
   "execution_count": 21,
   "metadata": {},
   "outputs": [
    {
     "data": {
      "text/plain": [
       "0.0"
      ]
     },
     "execution_count": 21,
     "metadata": {},
     "output_type": "execute_result"
    }
   ],
   "source": [
    "f(0)"
   ]
  },
  {
   "cell_type": "markdown",
   "metadata": {},
   "source": [
    "$\\rightarrow$ $T(0,0)$"
   ]
  },
  {
   "cell_type": "markdown",
   "metadata": {},
   "source": [
    "Von Hand würde die Rechnung so aussehen:\n",
    "\n",
    "$$f(x_{1}) = f(-4) = \\frac{2 \\cdot (-4)^{2}}{-4+2} = \\frac{32}{-2} =  -16 $$\n",
    "\n",
    "$\\rightarrow$ $H(-4,-16)$\n",
    "\n",
    "$$f(x_{2}) = f(0) = \\frac{2 \\cdot 0^{2}}{0+2} = 0$$\n",
    "\n",
    "$\\rightarrow$ $T(0,0)$\n",
    "\n",
    "\n",
    "## Aufgabe 4\n",
    "\n",
    "### Aufgabe 4a\n",
    "\n",
    "Gegeben sei die Funktion $f: [-2\\pi, 2\\pi] \\rightarrow \\mathbb{R}$ mit $f(x) = \\sin(2x) \\cdot 2x^{2}$\n",
    "\n",
    "Wie ist die Steigung der Funktion für $x = \\frac {\\pi}{4}$?\n",
    "\n",
    "Hinweis: Die Ableitung von $\\sin()$ ist $\\cos()$. ... diesen Hinweis benötigen Sie natürlich nur, wenn Sie die Aufgabe händisch lösen. Sollten Sie den händischen Ansatz verfolgen, achten Sie bitte unbedingt darauf, Grad nicht mit Bogenmaß zu verwechseln. Dazu ein Video: https://www.youtube.com/watch?v=pRArgWnxbP0 Wenn Sie Python nutzen, müssen Sie da eigentlich nicht drüber nachdenken.\n",
    "\n",
    "Ableitung 1 und Steigung in Python bestimmen:"
   ]
  },
  {
   "cell_type": "code",
   "execution_count": 4,
   "metadata": {},
   "outputs": [
    {
     "data": {
      "text/latex": [
       "$\\displaystyle 4 x \\left(x \\cos{\\left(2 x \\right)} + \\sin{\\left(2 x \\right)}\\right)$"
      ],
      "text/plain": [
       "4*x*(x*cos(2*x) + sin(2*x))"
      ]
     },
     "execution_count": 4,
     "metadata": {},
     "output_type": "execute_result"
    }
   ],
   "source": [
    "import math # for pi\n",
    "\n",
    "x, y  = symbols(\"x y\")\n",
    "\n",
    "def f(x):\n",
    "    return(sin(2*x) * 2*x**2)\n",
    "\n",
    "f1 = simplify(diff(f(x), x)) # 1. Ableitung\n",
    "f1"
   ]
  },
  {
   "cell_type": "code",
   "execution_count": 36,
   "metadata": {},
   "outputs": [
    {
     "data": {
      "text/plain": [
       "3.141592653589793"
      ]
     },
     "execution_count": 36,
     "metadata": {},
     "output_type": "execute_result"
    }
   ],
   "source": [
    "f1_lam = lambdify(x, f1)\n",
    "f1_lam(math.pi/4) # Steigung an pi/4"
   ]
  },
  {
   "cell_type": "markdown",
   "metadata": {},
   "source": [
    "Wenn Sie so eine Aufgabe von Hand lösen wollen, dann müssen Sie einiges beachten:\n",
    "\n",
    "$$f(x) =  \\sin(2x) \\cdot 2x^{2} = 2(\\sin(2x) \\cdot x^{2})$$\n",
    "\n",
    "   * Bei einem Produkt mit einer Konstante (reelle Zahl) wird die Konstante nicht abgeleitet:\n",
    " $2 \\cdot f(x) \\Rightarrow 2 \\cdot f'(x)$\n",
    " \n",
    "   * $\\sin(2x)$ ist eine verschachtelte Funktion $\\rightarrow$ Ableitung mit der *Kettenregel*:\n",
    " $\\sin(2x) \\Rightarrow cos(2x) \\cdot 2$\n",
    "\n",
    "   * Wir bezeichnen $\\sin(2x) = a(x)$, dann ist $a(x) \\cdot x^{2}$ ein Produkt $\\rightarrow$ Ableitung mit der *Produktregel*:\n",
    " $a(x) \\cdot x^{2} \\Rightarrow a(x) \\cdot 2x + a'(x) \\cdot x^{2}$\n",
    " \n",
    "$$f'(x) = 2 (\\sin(2x) \\cdot 2x + \\cos(2x) \\cdot 2 \\cdot  x^{2})$$\n",
    "\n",
    "$$= 4x \\cdot \\sin(2x) + 4x^{2} \\cdot \\cos(2x)$$\n",
    "\n",
    "\n",
    "$$f'(\\frac {\\pi}{4}) = 4 \\cdot \\frac {\\pi}{4} \\cdot \\sin(2 \\cdot \\frac {\\pi}{4}) + 4 \\cdot {(\\frac {\\pi}{4})}^{2} \\cdot \\cos(2 \\cdot \\frac {\\pi}{4})$$\n",
    "$$= \\pi \\cdot \\sin(\\frac {\\pi}{2}) + 4 \\cdot \\frac {\\pi^{2}}{16} \\cdot \\cos(\\frac {\\pi}{2})$$\n",
    "$$= \\pi \\cdot 1 + \\frac {\\pi^{2}}{4} \\cdot 0$$\n",
    "$$= \\pi + 0 = \\pi = 3.14159$$\n",
    "\n",
    "Auch hier ist die Lösung ohne Python vermutlich zeitaufwändiger. Video zur händischen Lösung: https://youtu.be/SWMbt4DM_Ng\n",
    "\n",
    "### Aufgabe 4b\n",
    "\n",
    "Berechnen Sie folgendes Integral:\n",
    "$$\\int\\limits_{0}^{1} 5 \\cdot e^{x} + x dx$$\n",
    "\n",
    "In Python ist das schnell erledigt:"
   ]
  },
  {
   "cell_type": "code",
   "execution_count": 5,
   "metadata": {},
   "outputs": [
    {
     "name": "stdout",
     "output_type": "stream",
     "text": [
      "9.091409142295227\n"
     ]
    }
   ],
   "source": [
    "from scipy import integrate\n",
    "import math\n",
    "\n",
    "def f(x):\n",
    "    return(5 * math.e**x + x)\n",
    "\n",
    "integral, error = integrate.quad(f, 0, 1)\n",
    "print(integral)"
   ]
  },
  {
   "cell_type": "markdown",
   "metadata": {},
   "source": [
    "Von Hand würden Sie wie folgt vorgehen:\n",
    "\n",
    "$$\\int\\limits_{0}^{1} 5 \\cdot e^{x} + x dx = 5 \\cdot \\int\\limits_{0}^{1}  e^{x} dx +\\int\\limits_{0}^{1} x dx $$\n",
    "$$= 5 \\cdot \\Big [ e^{x} \\Big ]^{1}_{0} + \\Big[\\frac{1}{2} x^{2} \\Big ]^{1}_{0}$$\n",
    "$$= 5 \\cdot (e^{1} - e^{0}) + (\\frac{1}{2} 1^{2} - \\frac{1}{2} 0^{2)}$$\n",
    "$$= 5 \\cdot (e - 1) + 0.5$$\n",
    "$$= 9.0914.. $$\n",
    "\n",
    "Video zur händischen Lösung: https://youtu.be/gzDTR3SB_2A\n",
    "\n",
    "### Aufgabe 4c\n",
    "\n",
    "Gegeben ist die Vorzeichenfunktion $sgn: \\mathbb{R} \\rightarrow \\mathbb{R}$ mit $sgn(x) = \\begin{cases}\n",
    "          1 & falls  x > 0,\\\\\n",
    "0 & falls  x=0,\\\\\n",
    "-1 & falls  x < 0\\\\\n",
    "         \\end{cases}$\n",
    "\n",
    "Skizzieren Sie die Funktion. Ist die Funktion stetig?\n",
    "\n",
    "Eine handschriftliche Skizze auf einem Schmierblatt reicht völlig aus, um festzustellen, ob Sprungstellen vorhanden sind. Sie müssen für die Klausur nicht die Vorzeichenfunktion plotten können! Der folgende Code dient nur der Illustration."
   ]
  },
  {
   "cell_type": "code",
   "execution_count": 25,
   "metadata": {},
   "outputs": [
    {
     "data": {
      "text/plain": [
       "[<matplotlib.lines.Line2D at 0x7f28c84156d0>]"
      ]
     },
     "execution_count": 25,
     "metadata": {},
     "output_type": "execute_result"
    },
    {
     "data": {
      "image/png": "[encoded data removed]",
      "text/plain": [
       "<Figure size 432x288 with 1 Axes>"
      ]
     },
     "metadata": {
      "needs_background": "light"
     },
     "output_type": "display_data"
    }
   ],
   "source": [
    "import matplotlib.pyplot as plt\n",
    "import numpy as np\n",
    "\n",
    "xs1 = np.linspace(0.0001, 1.2, 100)\n",
    "xs2 = np.linspace(-1.2, -0.0001, 100)\n",
    "\n",
    "blue=\"#007ec1\"\n",
    "\n",
    "plt.axis(\"off\")\n",
    "plt.axhline(color=\"black\")\n",
    "plt.axvline(color=\"black\")\n",
    "plt.ylim((-1.2, 1.2))\n",
    "\n",
    "plt.plot(xs1, np.sign(xs1), color=blue)\n",
    "plt.plot(xs2, np.sign(xs2), color=blue)\n",
    "plt.plot([0], [0], \"o\", color=blue)\n",
    "plt.plot([0], [1], \"o\", markerfacecolor=\"white\", color=blue)\n",
    "plt.plot([0], [-1], \"o\", markerfacecolor=\"white\", color=blue)"
   ]
  },
  {
   "cell_type": "markdown",
   "metadata": {},
   "source": [
    "Nein, sie ist nicht stetig, denn sie hat eine Sprungstelle.\n",
    "\n",
    "Video dazu: https://youtu.be/-uAtYEHL2Sg\n",
    "\n",
    "## Aufgabe 5\n",
    "\n",
    "Für den Bau eines Wohnhauses soll eine 150m$^{2}$ große und 2.5m tiefe Grube ausgehoben werden. Der Boden auf dem Bauland ist mit Altlasten (Gift) verseucht. An der Oberfläche wird eine Giftkonzentration von 6 $\\frac{g}{m^{3}}$ gemessen. Die Giftkonzentration $k(x)$ (in $\\frac{g}{m^{3}}$) mit x Tiefe in m folgt einem Exponentialgesetz, bei dem sie sich pro 1m Tiefe halbiert.\n",
    "\n",
    "### Aufgabe 5a\n",
    "\n",
    "Geben Sie die Giftkonzentration $k = k(x)$ als Formel an.\n",
    " \n",
    "Die Funktion für exponentiellen Abfall $f(x) = ae^{rx}$ ist aus der Vorlesung bekannt. Laut Aufgabenstellung ist $a = 6 \\frac{g}{m^{3}}$. Ebenfalls ist aus der Vorlesung die Formel für die Halbwertszeit bekannt. $ T_{\\frac{1}{2}} = \\frac {\\ln{2}} {-r}$. Es stellt sich die Frage, wie groß $r$ ist.Da wir ja nun wissen, dass *eine* Halbwertszeit $= \\frac {\\ln{2}} {-r}$, können wir nach $r$ auflösen (und zwar schnell und unkompliziert von Hand):\n",
    "\n",
    "$$1 = \\frac{1}{-r} \\ln{2} \\bigg \\vert \\cdot r$$\n",
    "$$r  = -\\ln{2} $$\n",
    "\n",
    "Wir setzen $a$ und $r$ in die Formel ein und erhalten die Gleichung:\n",
    "\n",
    "$$k(x) = 6 e^{x \\cdot (-\\ln 2)}$$\n",
    "$$= 6 e^{(- \\ln 2) x}$$\n",
    "\n",
    "Video: https://youtu.be/JZnleZzyuUo\n",
    "\n",
    "### Aufgabe 5b\n",
    "\n",
    "Die Giftmenge in der Baugrube lässt sich mit Hilfe des Integrals von 0 bis 2.5 Meter über die Funktion $k(x)$ berechnen (eine Säule unendlich kleinen Durchmessers):\n",
    "\n",
    "$$\\int_{0}^{2.5} k(x) dx = 6 \\int_{0}^{2.5} e^{(-\\ln 2) x} dx $$\n",
    "\n",
    "Das können wir in Python sehr leicht ausrechnen (am Ende müssen wir noch mit der Fläche der Grube multiplizieren):"
   ]
  },
  {
   "cell_type": "code",
   "execution_count": 26,
   "metadata": {},
   "outputs": [
    {
     "name": "stdout",
     "output_type": "stream",
     "text": [
      "Die Giftmenge beträgt: 1068.8941613157895\n"
     ]
    }
   ],
   "source": [
    "import math\n",
    "from scipy import integrate\n",
    "\n",
    "def k(x):\n",
    "    return(6 * math.e ** (x * (-1 * log(2))))\n",
    "\n",
    "integral, error = integrate.quad(k, 0, 2.5)\n",
    "print(\"Die Giftmenge beträgt: \" + str(150 * integral))"
   ]
  },
  {
   "cell_type": "markdown",
   "metadata": {},
   "source": [
    "Die händische Lösung ist hier um ein Vielfaches aufwändiger:\n",
    "\n",
    "Wiederholung Schulstoff: **Integration durch Substitution** (brauchen Sie nicht mehr zu wissen, wenn Sie Python nutzen...)\n",
    "\n",
    "Gesucht ist die Stammfunktion von $f(x) =  e^{(-\\ln 2) x}$. Wir setzen zunächst $z = (-\\ln{2})x$ ein und leiten dieses ab:\n",
    "\n",
    "$$ \\frac{dz}{dx} = -\\ln{2}$$\n",
    "\n",
    "Wir stellen nach $dx$ um: \n",
    "\n",
    "$$dx = \\frac{dz}{-\\ln{2}}$$\n",
    "\n",
    "Wir ersetzen in der Ausgangsfunktion $(-\\ln{2})x$ durch $z$:\n",
    "\n",
    "$$\\int e^{(-\\ln 2) x} dx= \\int e^{z} \\cdot \\frac{dz}{-\\ln{2}}$$\n",
    "$$= \\frac{1}{-\\ln{2}} \\int e^{z} dz$$\n",
    "\n",
    "Damit bilden wir die Stammfunktion:\n",
    "\n",
    "$$F(x) = \\frac{1}{-\\ln{2}} e^{z} + C$$\n",
    "$$=\\frac{1}{-\\ln{2}} e^{(-\\ln{2})x} + C$$\n",
    "\n",
    "Da wir die Stammfunktion jetzt kennen, können wir die Giftkonzentration in einer Säule von unendlich kleinem Durchmesser von der Oberfläche bis auf eine Tiefe von 2.5 Metern wie folgt berechnen:\n",
    "\n",
    "$$6 \\int_{0}^{2.5} e^{(-\\ln 2) x} dx = 6 \\Big [ \\frac{1}{-\\ln 2} e^{-(\\ln 2) x} \\Big ]_{0}^{2.5}$$\n",
    "$$= 6  \\Big (  \\Big( \\frac{1}{-\\ln 2} e^{- \\ln 2 \\cdot 2.5}\\Big ) -  \\Big (\\frac{1}{-\\ln 2} e^{-\\ln 2 \\cdot 0}\\Big) \\Big )$$\n",
    "$$= 6 \\Big ( -0.255 - (-1.443) \\Big ) = 7.128$$\n",
    "\n",
    "Nun müssen wir das Ergebnis noch mit der Fläche der Baugrube multiplizieren:\n",
    "\n",
    "$$150 \\cdot 6 \\int_{0}^{2.5} e^{(-\\ln 2) x} dx = 150 \\cdot 7.128 = 1069.2$$\n",
    "\n",
    "Im Aushub aus der Baugrube werden sich 1069.2g Gift befinden. Sie stellen hier vermutlich fest: es gibt eine numerische Abweichung, da wir ungenauer gerechnet haben, als der Computer.\n",
    "\n",
    "Video zur händischen Lösung: https://youtu.be/JZnleZzyuUo"
   ]
  },
  {
   "cell_type": "code",
   "execution_count": null,
   "metadata": {},
   "outputs": [],
   "source": []
  }
 ],
 "metadata": {
  "kernelspec": {
   "display_name": "Python 3",
   "language": "python",
   "name": "python3"
  },
  "language_info": {
   "codemirror_mode": {
    "name": "ipython",
    "version": 3
   },
   "file_extension": ".py",
   "mimetype": "text/x-python",
   "name": "python",
   "nbconvert_exporter": "python",
   "pygments_lexer": "ipython3",
   "version": "3.9.2"
  }
 },
 "nbformat": 4,
 "nbformat_minor": 4
}
