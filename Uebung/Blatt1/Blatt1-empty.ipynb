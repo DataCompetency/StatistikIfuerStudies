{
 "cells": [
  {
   "cell_type": "markdown",
   "metadata": {},
   "source": [
    "# Statistik I für Naturwissenschaftler*innen: Übungsblatt 1\n",
    "\n",
    "Bitte beachten Sie: in der Online-Klausur werden Sie nicht nach Rechenwegen gefragt werden. Die Angabe von numerisch korrekten Ergebnissen reicht dort aus. Insofern macht es Sinn, dass Sie sich zur Zeitersparnis mit Python vertraut machen.\n",
    "\n",
    "## Aufgabe 1\n",
    "\n",
    "Gegeben seien im Grundbereich der positiven ganzen Zahlen, die nicht größer als 25 oder kleiner als 37 und durch 6 teilbar sind, die folgenden Mengen:\n",
    "\n",
    "   * $G$: gerade Zahlen\n",
    "\n",
    "   * $Q$: Quadratzahlen\n",
    "\n",
    "   * $P$: Primzahlen\n",
    "\n",
    "   * $T$: alle Teiler von 60\n",
    "\n",
    "### Aufgabe 1a\n",
    "\n",
    "Geben Sie die Mengen $G$, $Q$, $P$ und $T$ an! Was ist die Mächtigkeit der Grundmenge? "
   ]
  },
  {
   "cell_type": "code",
   "execution_count": null,
   "metadata": {},
   "outputs": [],
   "source": []
  },
  {
   "cell_type": "markdown",
   "metadata": {},
   "source": [
    "### Aufgabe 1b\n",
    "\n",
    "Bestimmen Sie $G \\cup Q$, $Q \\cup T$, $Q\\cap P$, $Q\\cap T$, $Q \\smallsetminus T$, $P \\cap (T\\smallsetminus Q)$"
   ]
  },
  {
   "cell_type": "code",
   "execution_count": null,
   "metadata": {},
   "outputs": [],
   "source": []
  },
  {
   "cell_type": "markdown",
   "metadata": {},
   "source": [
    "## Aufgabe 2\n",
    "\n",
    "Gegeben sei die Funktion $f: [-1.5, 1.5] \\rightarrow \\mathbb{R}$ mit $f(x) = 5x^{4} - e^{3x^{2}} + 2x^{2} + 3$\n",
    "\n",
    "### Aufgabe 2a\n",
    "\n",
    " Wie ist die Steigung der Funktion für $x = 0.5$?"
   ]
  },
  {
   "cell_type": "code",
   "execution_count": null,
   "metadata": {},
   "outputs": [],
   "source": []
  },
  {
   "cell_type": "markdown",
   "metadata": {},
   "source": [
    "### Aufgabe 2b\n",
    "\n",
    "An welchem Punkt schneidet die Funktion die $y$-Achse?"
   ]
  },
  {
   "cell_type": "code",
   "execution_count": null,
   "metadata": {},
   "outputs": [],
   "source": []
  },
  {
   "cell_type": "markdown",
   "metadata": {},
   "source": [
    "### Aufgabe 2c\n",
    "\n",
    "Gegeben sei die Funktion $f: \\mathbb{R} \\rightarrow \\mathbb{R}$ mit $f(x) = 10x + 5$. Wie ist die Steigung der Funktion? An welchem Punkt schneidet die Funktion die $y$-Achse?"
   ]
  },
  {
   "cell_type": "code",
   "execution_count": null,
   "metadata": {},
   "outputs": [],
   "source": []
  },
  {
   "cell_type": "markdown",
   "metadata": {},
   "source": [
    "## Aufgabe 3\n",
    "\n",
    "Gegeben sei die Funktion $f: \\mathbb{R} \\smallsetminus \\{-2\\} \\rightarrow \\mathbb{R} $ mit $f(x) = \\frac{2x^{2}}{x+2}$. Bestimmen Sie die Extrempunkte der Funktion. Hinweis Quotientenregel: \n",
    "\n",
    "$$f(x) = \\frac{g(x)}{h(x)} \\rightarrow f'(x) = \\frac{h(x) \\cdot g'(x) - g(x) \\cdot h'(x)}{[h(x)]^{2}}$$\n",
    "\n",
    "... Die Quotientenregel benötigen Sie natürlich nur, wenn Sie diese Aufgabe händisch lösen. Python kann Ihnen hier viel Arbeit abnehmen."
   ]
  },
  {
   "cell_type": "code",
   "execution_count": null,
   "metadata": {},
   "outputs": [],
   "source": []
  },
  {
   "cell_type": "markdown",
   "metadata": {},
   "source": [
    "## Aufgabe 4\n",
    "\n",
    "### Aufgabe 4a\n",
    "\n",
    "Gegeben sei die Funktion $f: [-2\\pi, 2\\pi] \\rightarrow \\mathbb{R}$ mit $f(x) = \\sin(2x) \\cdot 2x^{2}$\n",
    "\n",
    "Wie ist die Steigung der Funktion für $x = \\frac {\\pi}{4}$?\n",
    "\n",
    "Hinweis: Die Ableitung von $\\sin()$ ist $\\cos()$. ... diesen Hinweis benötigen Sie natürlich nur, wenn Sie die Aufgabe händisch lösen. Sollten Sie den händischen Ansatz verfolgen, achten Sie bitte unbedingt darauf, Grad nicht mit Bogenmaß zu verwechseln."
   ]
  },
  {
   "cell_type": "code",
   "execution_count": null,
   "metadata": {},
   "outputs": [],
   "source": []
  },
  {
   "cell_type": "markdown",
   "metadata": {},
   "source": [
    "### Aufgabe 4b\n",
    "\n",
    "Berechnen Sie folgendes Integral:\n",
    "$$\\int\\limits_{0}^{1} 5 \\cdot e^{x} + x \\text{ dx}$$"
   ]
  },
  {
   "cell_type": "code",
   "execution_count": null,
   "metadata": {},
   "outputs": [],
   "source": []
  },
  {
   "cell_type": "markdown",
   "metadata": {},
   "source": [
    "### Aufgabe 4c\n",
    "\n",
    "Gegeben ist die Vorzeichenfunktion $sgn: \\mathbb{R} \\rightarrow \\mathbb{R}$ mit $sgn(x) = \\begin{cases}\n",
    "          1 & \\text{falls  x > 0,}\\\\\n",
    "0 & \\text{falls  x=0,}\\\\\n",
    "-1 & \\text{falls  x < 0}\\\\\n",
    "         \\end{cases}$\n",
    "\n",
    "Skizzieren Sie die Funktion. Ist die Funktion stetig?\n",
    "\n",
    "Eine handschriftliche Skizze auf einem Schmierblatt reicht völlig aus, um festzustellen, ob Sprungstellen vorhanden sind. Sie müssen für die Klausur nicht die Vorzeichenfunktion plotten können!"
   ]
  },
  {
   "cell_type": "markdown",
   "metadata": {},
   "source": [
    "## Aufgabe 5\n",
    "\n",
    "Für den Bau eines Wohnhauses soll eine 150m$^{2}$ große und 2.5m tiefe Grube ausgehoben werden. Der Boden auf dem Bauland ist mit Altlasten (Gift) verseucht. An der Oberfläche wird eine Giftkonzentration von 6 $\\frac{g}{m^{3}}$ gemessen. Die Giftkonzentration $k(x)$ (in $\\frac{g}{m^{3}}$) mit x Tiefe in m folgt einem Exponentialgesetz, bei dem sie sich pro 1m Tiefe halbiert.\n",
    "\n",
    "### Aufgabe 5a\n",
    "\n",
    "Geben Sie die Giftkonzentration $k = k(x)$ als Formel an.\n",
    "\n",
    "### Aufgabe 5b\n",
    "\n",
    "Wieviel Gift befindet sich im Aushub der Baugrube?"
   ]
  },
  {
   "cell_type": "code",
   "execution_count": null,
   "metadata": {},
   "outputs": [],
   "source": []
  }
 ],
 "metadata": {
  "kernelspec": {
   "display_name": "Python 3",
   "language": "python",
   "name": "python3"
  },
  "language_info": {
   "codemirror_mode": {
    "name": "ipython",
    "version": 3
   },
   "file_extension": ".py",
   "mimetype": "text/x-python",
   "name": "python",
   "nbconvert_exporter": "python",
   "pygments_lexer": "ipython3",
   "version": "3.9.2"
  }
 },
 "nbformat": 4,
 "nbformat_minor": 4
}
