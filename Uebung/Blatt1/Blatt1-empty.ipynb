{
 "cells": [
  {
   "cell_type": "markdown",
   "id": "848e35b9-a3a1-4ca4-9bee-72663b08d806",
   "metadata": {},
   "source": [
    "# Statistik I für Naturwissenschaftler*innen: Übungsblatt 1\n",
    "\n",
    "Bitte beachten Sie: In der Online-Klausur werden Sie nicht nach Rechenwegen gefragt. Die Angabe von numerisch korrekten Ergebnissen reicht dort aus. Insofern macht es Sinn, sich zur Zeitersparnis mit Python vertraut zu machen.\n",
    "\n",
    "## Aufgabe 1\n",
    "\n",
    "Gegeben seien im Grundbereich die positiven ganzen Zahlen kleiner gleich 20 sowie alle Zahlen zwischen 30 und 45, die durch 5 teilbar sind. Bestimmen Sie die folgenden Mengen:\n",
    "\n",
    "- **G**: Gerade Zahlen\n",
    "- **Q**: Quadratzahlen\n",
    "- **P**: Primzahlen\n",
    "- **T**: Teiler von 100\n",
    "\n",
    "Bestimmen Sie außerdem die Mächtigkeit der Grundmenge. (Diese Aufgabe kann ohne Python auf Papier/am Whiteboard geloest werden!)"
   ]
  },
  {
   "cell_type": "markdown",
   "id": "222d274a-66af-4b8b-b254-5d04c1970136",
   "metadata": {},
   "source": [
    "## Aufgabe 2\n",
    "\n",
    "Gegeben sei die Funktion $f: [-1.5, 1.5] \\rightarrow \\mathbb{R}$ mit\n",
    "\n",
    "$$f(x) = 3x^{4} - e^{2x^{2}} + x^{2} + 5$$\n",
    "\n",
    "### Aufgabe 2a\n",
    "\n",
    "Wie ist die Steigung der Funktion für $x = 0.7$?"
   ]
  },
  {
   "cell_type": "code",
   "execution_count": null,
   "id": "613b9b98-9f29-4e4d-9257-c759502106a4",
   "metadata": {},
   "outputs": [],
   "source": []
  },
  {
   "cell_type": "markdown",
   "id": "bfdc6fd5-d50d-467a-9297-a89a3adef267",
   "metadata": {},
   "source": [
    "### Aufgabe 2b\n",
    "\n",
    "An welchem Punkt schneidet die Funktion die $y$-Achse?"
   ]
  },
  {
   "cell_type": "code",
   "execution_count": null,
   "id": "e2d0913a-bdf0-4898-8c78-b04dd67129b4",
   "metadata": {},
   "outputs": [],
   "source": []
  },
  {
   "cell_type": "markdown",
   "id": "a8fef08a-a90c-4efc-bf76-e1c52003b6ff",
   "metadata": {},
   "source": [
    "### Aufgabe 2c\n",
    "\n",
    "Gegeben sei die Funktion $f: \\mathbb{R} \\rightarrow \\mathbb{R}$ mit $f(x) = 8x + 3$. Wie ist die Steigung der Funktion? An welchem Punkt schneidet die Funktion die $y$-Achse?"
   ]
  },
  {
   "cell_type": "code",
   "execution_count": null,
   "id": "d2046cdf-433b-4fb1-a039-86fc2dc3df7f",
   "metadata": {},
   "outputs": [],
   "source": []
  },
  {
   "cell_type": "markdown",
   "id": "2e34480a-eaf1-4008-8dc6-12840f713e91",
   "metadata": {},
   "source": [
    "## Aufgabe 3\n",
    "\n",
    "Gegeben sei die Funktion $f: \\mathbb{R} \\smallsetminus \\{-3\\} \\rightarrow \\mathbb{R}$ mit\n",
    "\n",
    "$$f(x) = \\frac{3x^{2}}{x+3}$$\n",
    "\n",
    "Bestimmen Sie die Extrempunkte der Funktion."
   ]
  },
  {
   "cell_type": "code",
   "execution_count": null,
   "id": "a1263529-ded0-4965-b304-1f082bfb9249",
   "metadata": {},
   "outputs": [],
   "source": []
  },
  {
   "cell_type": "markdown",
   "id": "acae9936-2906-409d-a242-dac54134ab05",
   "metadata": {},
   "source": [
    "## Aufgabe 4\n",
    "\n",
    "### Aufgabe 4a\n",
    "\n",
    "Gegeben sei die Funktion $f: [-2\\pi, 2\\pi] \\rightarrow \\mathbb{R}$ mit\n",
    "\n",
    "$$f(x) = \\sin(3x) \\cdot 3x^{2}$$\n",
    "\n",
    "Wie ist die Steigung der Funktion für $x = \\frac {\\pi}{6}$?"
   ]
  },
  {
   "cell_type": "code",
   "execution_count": null,
   "id": "ad4adea0-0859-422c-a719-f5d5f3924225",
   "metadata": {},
   "outputs": [],
   "source": []
  },
  {
   "cell_type": "markdown",
   "id": "3a8f7e9b-bd3d-4e7f-9c78-7fe57942f3ac",
   "metadata": {},
   "source": [
    "### Aufgabe 4b\n",
    "\n",
    "Berechnen Sie folgendes Integral:\n",
    "\n",
    "$$\\int_{0}^{1} 4 \\cdot e^{x} + 2x dx$$"
   ]
  },
  {
   "cell_type": "code",
   "execution_count": null,
   "id": "b5f9d5dd-230b-4293-9a38-3c35ae28d31b",
   "metadata": {},
   "outputs": [],
   "source": []
  },
  {
   "cell_type": "markdown",
   "id": "4f41c946-f7a3-4acd-918c-e046ae004906",
   "metadata": {},
   "source": [
    "### Aufgabe 4c\n",
    "\n",
    "Gegeben ist die Vorzeichenfunktion $sgn: \\mathbb{R} \\rightarrow \\mathbb{R}$ mit $sgn(x) = \\begin{cases}\n",
    "          1 & falls  x > 0,\\\\\n",
    "0 & falls  x=0,\\\\\n",
    "-1 & falls  x < 0\\\\\n",
    "         \\end{cases}$\n",
    "\n",
    "Skizzieren Sie die Funktion. Ist die Funktion stetig?\n",
    "\n",
    "Eine handschriftliche Skizze auf einem Schmierblatt reicht völlig aus, um festzustellen, ob Sprungstellen vorhanden sind. Sie müssen für die Klausur nicht die Vorzeichenfunktion plotten können!"
   ]
  },
  {
   "cell_type": "markdown",
   "id": "ad49bc2c-66b5-4e41-8727-61ae83d06816",
   "metadata": {},
   "source": [
    "## Aufgabe 5\n",
    "\n",
    "Die Konzentration eines Schadstoffes an einer Seeoberfläche beträgt 8 g/m³ und nimmt mit jedem Meter Tiefe exponentiell ab, wobei sie sich pro Meter halbiert.\n",
    "\n",
    "### Aufgabe 5a\n",
    "\n",
    "Geben Sie die Schadstoffkonzentration $k(x)$ an."
   ]
  },
  {
   "cell_type": "markdown",
   "id": "85b715de-20d8-4c5c-904e-6b9f65b1fa9a",
   "metadata": {},
   "source": [
    "### Aufgabe 5b\n",
    "\n",
    "Berechnen Sie die Schadstoffmenge in den oberen 3 Metern bei einer Oberfläche von 200 m²."
   ]
  },
  {
   "cell_type": "code",
   "execution_count": null,
   "id": "75a28d0c-48e1-4d01-b196-249019467e8c",
   "metadata": {},
   "outputs": [],
   "source": []
  }
 ],
 "metadata": {
  "kernelspec": {
   "display_name": "Python 3 (ipykernel)",
   "language": "python",
   "name": "python3"
  },
  "language_info": {
   "codemirror_mode": {
    "name": "ipython",
    "version": 3
   },
   "file_extension": ".py",
   "mimetype": "text/x-python",
   "name": "python",
   "nbconvert_exporter": "python",
   "pygments_lexer": "ipython3",
   "version": "3.11.7"
  }
 },
 "nbformat": 4,
 "nbformat_minor": 5
}
