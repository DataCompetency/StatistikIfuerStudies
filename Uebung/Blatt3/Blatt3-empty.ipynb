{
 "cells": [
  {
   "cell_type": "markdown",
   "metadata": {},
   "source": [
    "# Statistik I für Naturwissenschaftler*innen: Übungsblatt 3\n",
    "\n",
    "Bitte beachten Sie: in der Online-Klausur werden Sie nicht nach Rechenwegen gefragt werden. Die Angabe von numerisch korrekten Ergebnissen reicht dort aus. Insofern macht es Sinn, dass Sie sich zur Zeitersparnis mit Python vertraut machen.\n",
    "\n",
    "## Aufgabe 1\n",
    "\n",
    "Bei einer Untersuchung von Waldbäumen wurde festgestellt, dass 35% der Bäume einer bestimmten Art von einem Pilz befallen sind. Wenn wir zufällig 100 Bäume untersuchen, wie hoch ist dann die Wahrscheinlichkeit, dass genau 30 Bäume befallen sind?"
   ]
  },
  {
   "cell_type": "code",
   "execution_count": null,
   "metadata": {},
   "outputs": [],
   "source": []
  },
  {
   "cell_type": "markdown",
   "metadata": {},
   "source": [
    "## Aufgabe 2\n",
    "\n",
    "Folgende Tabelle zeigt die empirische Verteilung der Studiengänge zufällig ausgewählter Teilnehmer*innen an einer geographischen Exkursion:\n",
    "\n",
    "| Studiengang $k$ | Geographie      | Umweltwissenschaften     | Geologie      | Biologie      | Humanbiologie      | Andere      |\n",
    "|----------------|--------|--------|--------|--------|--------|--------|\n",
    "| $P(X = k)$       | 0.35 | 0.25 | 0.15 | 0.12 | 0.08 | 0.05 |\n",
    "\n",
    "   a) Wie hoch ist die Wahrscheinlichkeit, dass eine zufälliger Teilnehmer*in Geographie oder Umweltwissenschaft studiert?\n",
    "   \n",
    "   b)Wie hoch ist die Wahrscheinlichkeit, dass eine Teilnehmerin entweder Geologie, Biologie oder Humanbiologie studiert?\n",
    " "
   ]
  },
  {
   "cell_type": "code",
   "execution_count": null,
   "metadata": {},
   "outputs": [],
   "source": []
  },
  {
   "cell_type": "markdown",
   "metadata": {},
   "source": [
    "## Aufgabe 3\n",
    "\n",
    "Eine Zufallsvariable $X$ ist stetig gleichverteilt auf dem Intervall von 0 bis 20.\n",
    "\n",
    "   a) Geben Sie die Dichtefunktion an\n",
    "\n",
    "   b) Bestimmten Sie die Wahrscheinlichkeit $P(3.5 < X \\leq 9)$\n",
    "   "
   ]
  },
  {
   "cell_type": "code",
   "execution_count": null,
   "metadata": {},
   "outputs": [],
   "source": []
  },
  {
   "cell_type": "markdown",
   "metadata": {},
   "source": [
    "## Aufgabe 4\n",
    "\n",
    "In diesem Ordner finden Sie eine Tabelle der Flächeninhalte unter dem Graphen der Standardnormalverteilung (normal_quantile_table.csv). Nutzen Sie diese Tabelle (oder die aus dem Vorlesungsskript zu Themenblock 3), um folgende Werte anzugeben:\n",
    "\n",
    "  a) Das 75\\%-Quantil: $\\tilde{z}_{0.75}$\n",
    "  \n",
    "  b) Den Flächeninhalt unter der Dichtefunktion auf dem Intervall von $z = 0.99$ bis $z = 1.44$: $P(0.99 < Z \\leq 1.44)$\n",
    "  \n",
    "  c) Das 3\\%-Quantil: $\\tilde{z}_{0.03}$\n",
    "  \n",
    "  d) Den Flächeninhalt unter der Dichtefunktion auf dem Intervall von $z = -\\infty$ bis $z = -2$: $P(Z \\leq -2)$\n",
    "\n",
    "Üben Sie außerdem den Umgang mit Python, insbesondere mit den Methoden `cdf()` und `ppf()`."
   ]
  },
  {
   "cell_type": "code",
   "execution_count": null,
   "metadata": {},
   "outputs": [],
   "source": []
  },
  {
   "cell_type": "markdown",
   "metadata": {},
   "source": [
    "## Aufgabe 5\n",
    "\n",
    "In einer klinischen Studie wurden 600 Patienten mit einer bestimmten Erkrankung untersucht:\n",
    "\n",
    "* 320 Patienten erhielten das neue Medikament A\n",
    "* 280 Patienten erhielten das Standardmedikament B\n",
    "* Von den Medikament A-Patienten zeigten 48 Nebenwirkungen\n",
    "* Von den Medikament B-Patienten zeigten 42 Nebenwirkungen\n",
    "\n",
    "Hängt die Wahrscheinlichkeit für Nebenwirkungen von der Art der Medikation ab?"
   ]
  },
  {
   "cell_type": "code",
   "execution_count": null,
   "metadata": {},
   "outputs": [],
   "source": []
  },
  {
   "cell_type": "markdown",
   "metadata": {
    "jp-MarkdownHeadingCollapsed": true
   },
   "source": [
    "# Code zum Generieren der Quantils-Tabelle (Normalverteilung)"
   ]
  },
  {
   "cell_type": "code",
   "execution_count": null,
   "metadata": {},
   "outputs": [],
   "source": [
    "import pandas as pd\n",
    "import numpy as np\n",
    "import scipy.stats as stats\n",
    "\n",
    "def generate_normal_quantile_table(filename=\"normal_quantile_table.csv\"):\n",
    "    \"\"\"\n",
    "    Generates a normal quantile table with rows ranging from 0.0 to 2.9 in steps of 0.1\n",
    "    and columns ranging from 0 to 9, and exports it to a CSV file.\n",
    "    Rows are labeled with Z-scores in 0.0, 0.1, ..., 2.9 format.\n",
    "    Probabilities are rounded to **five decimal places**.\n",
    "    \"\"\"\n",
    "\n",
    "    # Define first and second decimal ranges\n",
    "    first_decimals = np.arange(0.0, 3.0, 0.1)  # 0.0, 0.1, ..., 2.9\n",
    "    second_decimals = np.arange(0, 10)         # 0, 1, ..., 9\n",
    "\n",
    "    # Initialize a 2D list to hold the data\n",
    "    data = []\n",
    "\n",
    "    for first in first_decimals:\n",
    "        row_data = []\n",
    "        for second in second_decimals:\n",
    "            # Correct Z-score: first (tenths) + second (hundredths)\n",
    "            z = first + second / 100\n",
    "            cdf = round(stats.norm.cdf(z), 5)  # Round to 5 decimal places\n",
    "            row_data.append(cdf)\n",
    "        data.append(row_data)\n",
    "\n",
    "    # Create the DataFrame\n",
    "    df = pd.DataFrame(data, columns=second_decimals)\n",
    "    df.index = [f\"{x:.1f}\" for x in first_decimals]  # Format index to 1 decimal place\n",
    "    df.index.name = \"z \\ *\"  # Fixed: No backslash needed\n",
    "    df.columns.name = \"Second Decimal\"\n",
    "\n",
    "    # Export to CSV\n",
    "    df.to_csv(filename)\n",
    "\n",
    "    return df\n",
    "\n",
    "# Generate the table and export it\n",
    "quantile_table = generate_normal_quantile_table()\n",
    "print(\"Table generated and exported to normal_quantile_table.csv\")"
   ]
  }
 ],
 "metadata": {
  "kernelspec": {
   "display_name": "Python 3 (ipykernel)",
   "language": "python",
   "name": "python3"
  },
  "language_info": {
   "codemirror_mode": {
    "name": "ipython",
    "version": 3
   },
   "file_extension": ".py",
   "mimetype": "text/x-python",
   "name": "python",
   "nbconvert_exporter": "python",
   "pygments_lexer": "ipython3",
   "version": "3.10.9"
  }
 },
 "nbformat": 4,
 "nbformat_minor": 4
}
