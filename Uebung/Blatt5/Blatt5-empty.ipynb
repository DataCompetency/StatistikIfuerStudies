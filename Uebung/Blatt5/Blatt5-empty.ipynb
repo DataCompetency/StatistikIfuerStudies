{
 "cells": [
  {
   "cell_type": "markdown",
   "metadata": {},
   "source": [
    "# Statistik I für Naturwissenschaftler*innen: Übungsblatt 5"
   ]
  },
  {
   "cell_type": "markdown",
   "metadata": {},
   "source": [
    "## Aufgabe 1\n",
    "\n",
    "Geben Sie zur Erfassung folgender Merkmale passende Skalen und Beispiele des Wertebereichs an:\n",
    "\n",
    "\n",
    "a) Transekte (http://de.wikipedia.org/wiki/Transekt: \"Ein Transekt (engl. transect) ist ein Satz von Mess- bzw. Beobachtungspunkten entlang einer geraden Linie. Transekte werden methodisch in wissenschaftlichen Disziplinen verwandt, die einen räumlichen Bezug zu dem untersuchten Gegenstand herstellen. Vor allem werden Transekte bei Felduntersuchungen (Kartierung) in der Ökologie (Botanik und Zoologie), wie auch in der Geologie und Geoökologie genutzt.\") der Ostsee: Salzgehalt\n",
    "\n",
    "b) Transekte der Ostsee: absolute Wassertemperatur\n",
    "\n",
    "c) Transekte der Ostsee: Wassertemperatur in Bezug auf den Gefrierpunkt\n",
    "\n",
    "d) Abgegebene Wahlzettel: gewählte Partei\n",
    "\n",
    "e) Abgegebene Wahlzettel: Stimmen pro Partei\n",
    "\n",
    "f) Ereignisse: Wahrscheinlichkeiten\n",
    "\n",
    "g) Auf Covid-19 getestete Menschen: Testergebnis\n",
    "\n",
    "h) Schwangere Frauen: Gewichtszunahme vom ersten bis zum letzten Tag der Schwangerschaft\n",
    "\n",
    "Hinweis: diese Aufgabe auf Papier lösen!\n"
   ]
  },
  {
   "cell_type": "markdown",
   "metadata": {},
   "source": [
    "## Aufgabe 2\n",
    "\n",
    "Gegeben ist eine Stichprobe mit folgenden Werten: $x = (16, 8, 23, 3, 14, 19, 1, 12)$. \n",
    "\n",
    "Berechnen Sie folgende Kennwerte, insoweit sie definiert sind:\n",
    "\n",
    "a) Stichprobenmittelwert\n",
    "\n",
    "b) Stichprobenvarianz\n",
    "\n",
    "c) Standardabweichung\n",
    "\n",
    "d) Median\n",
    "\n",
    "e) Interquartilabstand\n",
    "\n",
    "f) Modalwert"
   ]
  },
  {
   "cell_type": "code",
   "execution_count": null,
   "metadata": {},
   "outputs": [],
   "source": []
  },
  {
   "cell_type": "markdown",
   "metadata": {},
   "source": [
    "## Aufgabe 3\n",
    "\n",
    "Gegeben ist folgende Stichprobe: $x = (4, 6, 12, 17, 1, 15, 13, 4, 18)$. Skizzieren Sie einen Boxplot dieser Stichprobe. Zeichnen Sie alle Werte, die extremer als $1.5\\cdot IQR$  sind (vom 25\\% bzw.~75\\% Quantil aus), als Ausreißer ein. \n",
    "\n",
    "Hinweis: in der Klausur werden wir den Upload einer mit Python erstellten PDF-Datei erwarten!"
   ]
  },
  {
   "cell_type": "code",
   "execution_count": null,
   "metadata": {},
   "outputs": [],
   "source": []
  },
  {
   "cell_type": "markdown",
   "metadata": {},
   "source": [
    "## Aufgabe 4\n",
    "\n",
    "Gegeben ist folgende Stichprobe: $x = (5, 3, 3, 5, 3, 2)$. Skizzieren Sie ein Histogramm absoluter Häufigkeiten mit einer Balkenbreite von 1 für diese Stichprobe.\n",
    "\n",
    "Hinweis: in der Klausur werden wir den Upload einer mit Python erstellen PDF-Datei erwarten!"
   ]
  },
  {
   "cell_type": "code",
   "execution_count": null,
   "metadata": {},
   "outputs": [],
   "source": []
  },
  {
   "cell_type": "markdown",
   "metadata": {},
   "source": [
    "## Aufgabe 5\n",
    "\n",
    "Die mittlere Körperlänge von Kindern (cm) wurde für verschiedene Altersgruppen (Alter in Monaten) erfasst\\footnote{veränderte Zahlenwerte nach Daten aus Moore \\textit{et al.}~(1989). Introduction to the Practice of Statistics, S. 118.}:\n",
    "\n",
    "| X: Alter (Monate)   | 18 | 19   | 20   | 21   | 22   | 23 |\n",
    "|---------------------|----|------|------|------|------|----|\n",
    "| Y: Körpergröße (cm) | 76 | 77.1 | 77.9 | 78.2 | 78.8 | 80 |\n",
    "\n",
    "Beschreiben Sie den Zusammenhang von Körpergröße und Alter\n",
    "\n",
    "a) graphisch durch einen Scatterplot (In der Klausur werden wir den Upload einer mit Python erstellten PDF-Datei erwarten!)\n",
    "\n",
    "b) durch den Bravais-Pearson-Korrelationskoeffizient (mit Interpretation!)"
   ]
  },
  {
   "cell_type": "code",
   "execution_count": null,
   "metadata": {},
   "outputs": [],
   "source": []
  },
  {
   "cell_type": "markdown",
   "metadata": {},
   "source": [
    "## Aufgabe 6\n",
    "\n",
    "Folgende Tabelle gibt die Sonnenscheindauer und die mittlere Tagestemperatur für fünf Tage an:\n",
    "\n",
    "| Sonnenscheindauer (h)                       | 12 | 10 | 5  | 9  |\n",
    "|---------------------------------------------|----|----|----|----|\n",
    "| Tagesdurchschnittstemperatur (Grad Celsius) | 30 | 28 | 28 | 17 |\n",
    "\n",
    "Berechnen und interpretieren Sie den Spearman-Korrelationskoeffizient.\n"
   ]
  },
  {
   "cell_type": "code",
   "execution_count": null,
   "metadata": {},
   "outputs": [],
   "source": []
  },
  {
   "cell_type": "markdown",
   "metadata": {},
   "source": [
    "## Aufgabe 7\n",
    "\n",
    "Zur Kalibrierung eines Gaschromatographen wurden vordefinierte Standards unterschiedlicher Konzentration einer Substanz gemessen. Die Antwortvariable ist die Ausgabe des Gaschromatographen (veränderte Zahlenwerte nach Daten aus http://lib.stat.cmu.edu/DASL/Datafiles/Chromatography.html). Pro Standardkonzentration wurden 5 Wiederholungen gemessen.\n",
    "\n",
    "Berechnen Sie auf Grundlagen der folgenden Zusammenfassung der Daten ein lineares Regressionsmodell sowie die Schätzgüte dieses Modells. Diskutieren Sie eventuelle Probleme, die aus den Rohdaten (graphische Darstellung) ersichtlich sind.\n",
    "\n",
    "|                       | $X$ = Standardkonzentration | $Y$ = Rückgabewert |\n",
    "|-----------------------|-----------------------------|--------------------|\n",
    "| Stichprobenmittelwert | 6.5                         | 269.975            |\n",
    "| Standardabweichung    | 8.224                       | 350.97766          |\n",
    "\n",
    "$$r_{X,Y} = 0.9996$$"
   ]
  },
  {
   "cell_type": "code",
   "execution_count": null,
   "metadata": {},
   "outputs": [],
   "source": []
  }
 ],
 "metadata": {
  "kernelspec": {
   "display_name": "Python 3",
   "language": "python",
   "name": "python3"
  },
  "language_info": {
   "codemirror_mode": {
    "name": "ipython",
    "version": 3
   },
   "file_extension": ".py",
   "mimetype": "text/x-python",
   "name": "python",
   "nbconvert_exporter": "python",
   "pygments_lexer": "ipython3",
   "version": "3.9.2"
  }
 },
 "nbformat": 4,
 "nbformat_minor": 4
}
