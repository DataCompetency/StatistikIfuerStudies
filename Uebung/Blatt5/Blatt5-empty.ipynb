{
 "cells": [
  {
   "cell_type": "markdown",
   "metadata": {},
   "source": [
    "# Statistik I für Naturwissenschaftler*innen: Übungsblatt 5"
   ]
  },
  {
   "cell_type": "markdown",
   "metadata": {},
   "source": [
    "## Aufgabe 1\n",
    "\n",
    "Geben Sie zur Erfassung folgender Merkmale passende Skalen und Beispiele des Wertebereichs an:\n",
    "\n",
    "a) Transekte im Wattenmeer: Schlickdicke  \n",
    "b) Transekte im Wattenmeer: pH-Wert des Sediments  \n",
    "c) Transekte im Wattenmeer: Temperaturunterschied zwischen Sediment und Wasser  \n",
    "d) Online-Beteiligungskarten zu Verkehrsprojekten: bevorzugtes Verkehrsmittel  \n",
    "e) Online-Beteiligungskarten zu Verkehrsprojekten: Zahl der Eingaben pro Verkehrsmitteltyp  \n",
    "f) Umfragen zu Klimawandelwahrnehmung: Zustimmung zu Aussagen  \n",
    "g) Personen in einem Evakuierungsplan: Teilnahme am Notfalltraining (ja/nein)  \n",
    "h) Wanderer*innen: zurückgelegte Strecke während eines Tages\n",
    "\n"
   ]
  },
  {
   "cell_type": "markdown",
   "metadata": {},
   "source": [
    "## Aufgabe 2\n",
    "\n",
    "Gegeben ist eine Stichprobe mit folgenden Werten (z. B. gemessene Plasmakonzentrationen eines Medikaments in ng/ml nach Einnahme durch verschiedene Patient*innen):  \n",
    "$x = (21, 15, 18, 27, 12, 10, 30, 17)$\n",
    "\n",
    "Berechnen Sie folgende Kennwerte, insoweit sie definiert sind:\n",
    "\n",
    "a) Stichprobenmittelwert  \n",
    "b) Stichprobenvarianz  \n",
    "c) Standardabweichung  \n",
    "d) Median  \n",
    "e) Interquartilabstand  \n",
    "f) Modalwert"
   ]
  },
  {
   "cell_type": "code",
   "execution_count": null,
   "metadata": {},
   "outputs": [],
   "source": []
  },
  {
   "cell_type": "markdown",
   "metadata": {},
   "source": [
    "## Aufgabe 3\n",
    "\n",
    "Gegeben ist folgende Stichprobe:\n",
    "$x = (3, 9, 2, 14, 7, 8, 6, 11, 13, 25)$\n",
    "Es handelt sich um die gezählten Individuen einer bestimmten Pflanzenart auf zehn zufällig gewählten Probeflächen entlang eines Transektes durch ein Moorgebiet.\n",
    "\n",
    "Erstellen Sie mit Python einen Boxplot dieser Stichprobe. Per Default werden in Python alle Werte, die extremer als $1.5 \\cdot IQR$ vom 25 %- bzw. 75 %-Quantil entfernt sind, als Ausreißer eingezeichnet.\n",
    "\n",
    "Üben Sie den Download der Boxplot-Datei aus dem AppHub. Sie werden in der Klausur solche Plot-Dateien herunterladen und in Moodle hochladen müssen. Fotos/Screenshots/Zeichnungen von Hand werden in der Klausur nicht mit Punkten bewertet werden.\n"
   ]
  },
  {
   "cell_type": "code",
   "execution_count": null,
   "metadata": {},
   "outputs": [],
   "source": []
  },
  {
   "cell_type": "markdown",
   "metadata": {},
   "source": [
    "## Aufgabe 4\n",
    "\n",
    "Gegeben ist folgende Stichprobe:\n",
    "$x = (4, 2, 5, 5, 4, 1, 3, 2)$\n",
    "Es handelt sich um die Anzahl der Fahrräder, die an acht verschiedenen Zählstellen in einer Stadt innerhalb einer Stunde gezählt wurden.\n",
    "\n",
    "Skizzieren Sie ein Histogramm absoluter Häufigkeiten mit einer Balkenbreite von 1 für diese Stichprobe."
   ]
  },
  {
   "cell_type": "code",
   "execution_count": null,
   "metadata": {},
   "outputs": [],
   "source": []
  },
  {
   "cell_type": "markdown",
   "metadata": {},
   "source": [
    "## Aufgabe 5\n",
    "\n",
    "Bei einer klinischen Studie wurde die mittlere Konzentration eines Medikaments im Blutplasma (in ng/ml) für verschiedene Zeitpunkte nach der Einnahme erfasst (vereinfachte Daten):\n",
    "\n",
    "| X: Zeit nach Einnahme (h) | 1   | 2    | 3    | 4    | 5    | 6    |\n",
    "|---------------------------|-----|------|------|------|------|------|\n",
    "| Y: Konzentration (ng/ml)  | 15.2 | 12.5 | 10.1 | 8.4  | 6.3  | 4.7  |\n",
    "\n",
    "Beschreiben Sie den Zusammenhang von Wirkstoffkonzentration und Zeit:\n",
    "\n",
    "**a)** graphisch durch einen Scatterplot  \n",
    "**b)** durch den Bravais-Pearson-Korrelationskoeffizienten (mit Interpretation)"
   ]
  },
  {
   "cell_type": "code",
   "execution_count": null,
   "metadata": {},
   "outputs": [],
   "source": []
  },
  {
   "cell_type": "markdown",
   "metadata": {},
   "source": [
    "## Aufgabe 6\n",
    "\n",
    "Folgende Tabelle zeigt die relative Bodenfeuchte (%) und den Vegetationsindex (NDVI) an vier Messpunkten eines Untersuchungsgebiets:\n",
    "\n",
    "| Bodenfeuchte (%) | 80 | 65 | 40 | 70 |\n",
    "|------------------|----|----|----|----|\n",
    "| NDVI             | 0.85 | 0.76 | 0.50 | 0.78 |\n",
    "\n",
    "Berechnen und interpretieren Sie den **Spearman-Korrelationskoeffizienten**."
   ]
  },
  {
   "cell_type": "code",
   "execution_count": null,
   "metadata": {},
   "outputs": [],
   "source": []
  },
  {
   "cell_type": "markdown",
   "metadata": {},
   "source": [
    "## Aufgabe 7\n",
    "\n",
    "Zur Analyse von Düngeeffekten wurde in einem Versuch die Beziehung zwischen dem Stickstoffgehalt des Bodens (mg/kg) und der oberirdischen Biomasseproduktion (g/m²) untersucht. Pro Stickstoffkonzentration wurden 5 Wiederholungsmessungen durchgeführt. Die Daten befinden sich in der Datei [regression_data.csv](regression_data.csv).\n",
    "\n",
    "Berechnen Sie auf Grundlage der folgenden Daten ein **lineares Regressionsmodell** sowie die **Schätzgüte dieses Modells**.  \n",
    "\n",
    "Diskutieren Sie potenzielle Probleme anhand der grafischen Darstellung der Rohdaten."
   ]
  },
  {
   "cell_type": "code",
   "execution_count": null,
   "metadata": {},
   "outputs": [],
   "source": []
  }
 ],
 "metadata": {
  "kernelspec": {
   "display_name": "Python 3 (ipykernel)",
   "language": "python",
   "name": "python3"
  },
  "language_info": {
   "codemirror_mode": {
    "name": "ipython",
    "version": 3
   },
   "file_extension": ".py",
   "mimetype": "text/x-python",
   "name": "python",
   "nbconvert_exporter": "python",
   "pygments_lexer": "ipython3",
   "version": "3.11.7"
  }
 },
 "nbformat": 4,
 "nbformat_minor": 4
}
