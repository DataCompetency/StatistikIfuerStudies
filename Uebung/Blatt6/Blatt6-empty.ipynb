{
 "cells": [
  {
   "cell_type": "markdown",
   "metadata": {},
   "source": [
    "# Statistik I für Naturwissenschaftler*innen: Übungsblatt 6"
   ]
  },
  {
   "cell_type": "markdown",
   "metadata": {},
   "source": [
    "## Aufgabe 1\n",
    "\n",
    "Pharmazeutinnen möchten untersuchen, ob die Konzentration eines Wirkstoffs im Blut nach der Einnahme als Tablette **höher** ist als nach Gabe in Tropfenform. Sie verabreichen sieben Probandinnen die Tablettenform und sieben anderen die Tropfenform. Eine Stunde nach Einnahme messen sie die Konzentration des Wirkstoffs in ng/ml.\n",
    "\n",
    "Die Rohdaten befinden sich in der Datei [wirkstoffverteilung.csv](wirkstoffverteilung.csv).\n",
    "\n",
    "a) Formulieren Sie geeignete Test-Hypothesen.\n",
    "b) Ist mit den gegebenen Daten ein 2-Stichproben-t-Test ohne gravierende Verletzung der Annahmen möglich? Bitte begründen. Falls ja, führen Sie den Test durch ($\\alpha = 0.05$) und interpretieren Sie das Ergebnis (inkl. Teststatistik, p-Wert, Konfidenzintervall).\n",
    "\n",
    "Boxplot ist Teil der Aufgabenstellung, kann wie folgt erzeugt werden:"
   ]
  },
  {
   "cell_type": "code",
   "execution_count": null,
   "metadata": {},
   "outputs": [],
   "source": [
    "import pandas as pd\n",
    "import matplotlib.pyplot as plt\n",
    "\n",
    "df = pd.read_csv(\"wirkstoffverteilung.csv\", sep=\"\\t\")\n",
    "\n",
    "fig, ax = plt.subplots(figsize=(8, 6))\n",
    "df.boxplot(column=['Konzentration (ng/ml)'], by='Darreichungsform', ax=ax)\n",
    "plt.title(\"\")\n",
    "plt.suptitle(\"\")\n",
    "plt.xlabel(\"Darreichungsform\")\n",
    "plt.ylabel(\"Konzentration (ng/ml)\")\n",
    "plt.savefig(\"wirkstoffverteilung_boxplot.pdf\")"
   ]
  },
  {
   "cell_type": "code",
   "execution_count": null,
   "metadata": {},
   "outputs": [],
   "source": []
  },
  {
   "cell_type": "markdown",
   "metadata": {},
   "source": [
    "## Aufgabe 2\n",
    "\n",
    "Zwei verschiedene Bodentypen, Lehm und Sand, wurden in einer kontrollierten Versuchsanordnung für 24 Stunden der Sonne ausgesetzt. Danach wurde die verbleibende Bodenfeuchte (%) an sieben Proben jedes Bodentyps gemessen.\n",
    "\n",
    "Die Rohdaten befinden sich in der Datei [bodenfeuchte.csv](bodenfeuchte.csv).\n",
    "\n",
    "Der Boxplot kann wie folgt erzeugt werden:"
   ]
  },
  {
   "cell_type": "code",
   "execution_count": null,
   "metadata": {},
   "outputs": [],
   "source": [
    "import pandas as pd\n",
    "import matplotlib.pyplot as plt\n",
    "\n",
    "salad = pd.read_csv(\"bodenfeuchte.csv\", sep=\"\\t\")\n",
    "\n",
    "fig, ax = plt.subplots(figsize=(12, 8))\n",
    "salad.boxplot(column=[\"Feuchte (%)\"], by=\"Bodentyp\", fontsize=\"large\", ax=ax)\n",
    "plt.title(\"\")\n",
    "plt.suptitle(\"\")\n",
    "plt.savefig(\"bodenfeuchte.pdf\")"
   ]
  },
  {
   "cell_type": "markdown",
   "metadata": {},
   "source": [
    " a) Formulieren Sie geeignete Testhypothesen.\n",
    " \n",
    " b) Ist mit den gegebenen Daten ein 2-Stichproben t-Test ohne gravierende Verletzung der Annahmen möglich?  Bitte begründen. Falls ja, führen Sie den Test durch ($\\alpha = 0.05$) und interpretieren Sie das Ergebnis (Teststatistik und Konfidenzintervall)! Falls nur die Voraussetzung der Varianzhomogenität verletzt sein sollte, führen Sie die gegenüber Varianzheterogenität robustere **Welch t-Test Variante** durch. Für Studierende der Pharmazie geben wir hier explizit den Hinweis, dass dies mit dem Argument `equal_var=False` in der Funktion `ttest_ind()`, bzw. mit dem Argument `usevar=\"unequal\"` in der Funktion `tconfint_diff()` umgesetzt werden kann. Studierende der anderen Studiengänge wissen das bereits."
   ]
  },
  {
   "cell_type": "code",
   "execution_count": null,
   "metadata": {},
   "outputs": [],
   "source": []
  },
  {
   "cell_type": "markdown",
   "metadata": {},
   "source": [
    "## Aufgabe 3\n",
    "\n",
    "War das Jahr 2021 in Mecklenburg-Vorpommern im Durchschnitt wärmer als das Jahr 2020? An vier Wetterstationen wurden die Jahresdurchschnittstemperaturen (in Grad Celsius) für beide Jahre erfasst (vereinfachte und veränderte Werte basierend auf https://www.dwd.de).\n",
    "\n",
    "| Station    | 2020 | 2021 |\n",
    "|------------|------|------|\n",
    "| Greifswald | 10.2 | 9.8  |\n",
    "| Rostock    | 9.7  | 10.4 |\n",
    "| Schwerin   | 9.5  | 9.6  |\n",
    "| Waren      | 10.1 | 10.3 |\n",
    "\n",
    "Die Rohdaten befinden sich in der Datei [temperature.csv](temperature.csv).\n",
    "\n",
    "a) Formulieren Sie geeignete Hypothesen\n",
    "\n",
    "b) Eine der Annahmen für den 2-Stichproben t-Test ist die Unabhängigkeit beider Stichproben. Ist diese Annahme hier verletzt? Studierende der Landschaftsökologie oder Geographie schlagen bitte ein alternatives Testverfahren vor, falls die Annahme der Unabhängigkeit hier verletzt sein sollte.\n"
   ]
  },
  {
   "cell_type": "code",
   "execution_count": null,
   "metadata": {},
   "outputs": [],
   "source": []
  },
  {
   "cell_type": "markdown",
   "metadata": {},
   "source": [
    "## Aufgabe 4\n",
    "\n",
    "Um zu untersuchen, ob sich zwei häufige Laufkäferarten (Laufkäfer A und Laufkäfer B) hinsichtlich ihrer **mittleren Laufgeschwindigkeit** unterscheiden (Konfidenzniveau 95 %), wurden Individuen beider Arten in einem geradlinigen Pfadversuch gemessen. Dabei wurde die **mittlere Laufgeschwindigkeit in cm/s** erfasst.  \n",
    "\n",
    "**Beantworten Sie unter Einbezug des Boxplots folgende Fragen.**  \n",
    "\n",
    "Boxplot:"
   ]
  },
  {
   "cell_type": "code",
   "execution_count": null,
   "metadata": {},
   "outputs": [],
   "source": [
    "import pandas as pd\n",
    "import matplotlib.pyplot as plt\n",
    "\n",
    "df = pd.read_csv(\"kaefer.csv\", sep=\"\\t\")\n",
    "\n",
    "fig, ax = plt.subplots(figsize=(8, 6))\n",
    "df.boxplot(column=[\"Geschwindigkeit (cm/s)\"], by=\"Art\", ax=ax)\n",
    "plt.title(\"\")\n",
    "plt.suptitle(\"\")\n",
    "plt.ylabel(\"Geschwindigkeit (cm/s)\")\n",
    "plt.savefig(\"kaefer.pdf\")"
   ]
  },
  {
   "cell_type": "markdown",
   "metadata": {},
   "source": [
    "a) Ist die Stichprobe von Laufkäfer A annähernd normalverteilt?  \n",
    "b) Ist die Stichprobe von Laufkäfer B annähernd normalverteilt?  \n",
    "c) Sind die Varianzen eher homogen oder eher heterogen?  \n",
    "d) Sehen Sie die stochastische Unabhängigkeit der Stichproben als offensichtlich verletzt an?  \n",
    "e) Welchen statistischen Test würden Sie wählen, um herauszufinden, ob sich die beiden Arten hinsichtlich ihrer Laufgeschwindigkeit unterscheiden?  (Hinweis für Studierende der Pharmazie: Bei Verletzung der Varianzhomogenität ist ein Welch-t-Test die Alternative zum klassischen t-Test.)  \n",
    "f) Welche Testhypothesen werden beim verwendeten Test geprüft?  \n",
    "g) Interpretieren Sie den p-Wert!  \n",
    "h) Interpretieren Sie das Konfidenzintervall!"
   ]
  },
  {
   "cell_type": "code",
   "execution_count": null,
   "metadata": {},
   "outputs": [],
   "source": []
  }
 ],
 "metadata": {
  "kernelspec": {
   "display_name": "Python 3 (ipykernel)",
   "language": "python",
   "name": "python3"
  },
  "language_info": {
   "codemirror_mode": {
    "name": "ipython",
    "version": 3
   },
   "file_extension": ".py",
   "mimetype": "text/x-python",
   "name": "python",
   "nbconvert_exporter": "python",
   "pygments_lexer": "ipython3",
   "version": "3.11.7"
  }
 },
 "nbformat": 4,
 "nbformat_minor": 4
}
