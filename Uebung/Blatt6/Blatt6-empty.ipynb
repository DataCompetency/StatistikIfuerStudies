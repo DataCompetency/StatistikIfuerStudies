{
 "cells": [
  {
   "cell_type": "markdown",
   "metadata": {},
   "source": [
    "# Statistik I für Naturwissenschaftler*innen: Übungsblatt 6"
   ]
  },
  {
   "cell_type": "markdown",
   "metadata": {},
   "source": [
    "## Aufgabe 1\n",
    "\n",
    "Biolog\\*innen haben die Theorie aufgestellt, dass männliche Monarchfalter eine größere Brust haben, als weibliche Monarchfalter. Um diese Theorie zu belegen, sammelten sie sieben männliche und acht weibliche Monarchfalter und wogen deren Brust in mg (Samuels *et al.*, 2012, Statistics for the Life Sciences, S. 208f, Werte verändert):\n",
    "\n",
    "| Männlich | Weiblich |\n",
    "|----------|----------|\n",
    "| 78       | 61       |\n",
    "| 83       | 75       |\n",
    "| 69       | 63       |\n",
    "| 85       | 58       |\n",
    "| 77       | 70       |\n",
    "| 81       | 68       |\n",
    "| 92       | 65       |\n",
    "|          | 62       |\n",
    "\n",
    "Die Rohdaten befinden sich in der Datei butterly.csv. \n",
    "\n",
    "a) Formulieren Sie geeignete Test-Hypothesen.\n",
    "\n",
    "b) Ist mit den gegebenen Daten ein 2-Stichproben t-Test ohne gravierende Verletzung der Annahmen möglich? Bitte begründen. Falls ja, führen Sie den Test durch ($\\alpha = 0.05$) und interpretieren Sie das Ergebnis (Teststatistik und Konfidenzintervall)!\n",
    "\n",
    "Boxplot ist Teil der Aufgabenstellung, kann wie folgt erzeugt werden:"
   ]
  },
  {
   "cell_type": "code",
   "execution_count": 6,
   "metadata": {},
   "outputs": [
    {
     "data": {
      "image/png": "[encoded data removed]",
      "text/plain": [
       "<Figure size 864x576 with 1 Axes>"
      ]
     },
     "metadata": {
      "needs_background": "light"
     },
     "output_type": "display_data"
    }
   ],
   "source": [
    "import pandas as pd\n",
    "import matplotlib.pyplot as plt\n",
    "\n",
    "butterfly = pd.read_csv('butterfly.csv', sep=\"\\t\")\n",
    "\n",
    "fig, ax = plt.subplots(figsize=(12,8))\n",
    "butterfly.boxplot(column=['Brustkorbgewicht'], by='Geschlecht', fontsize='large', ax = ax)\n",
    "plt.savefig('butterfly.pdf')"
   ]
  },
  {
   "cell_type": "code",
   "execution_count": null,
   "metadata": {},
   "outputs": [],
   "source": []
  },
  {
   "cell_type": "markdown",
   "metadata": {},
   "source": [
    "## Aufgabe 2\n",
    "\n",
    "Zwei Salatvarietäten, Salad Bowl und Bibb, wurden für 16 Tage in einem kontrollierten Umfeld herangezogen. Die folgende Tabelle und der Boxplot zeigen das Trockengewicht der Blätter (Knight and Mitchell, 2000, zitiert nach Samuels and Witmer, 2003, S. 226, Werte verändert):\n",
    "\n",
    "| Bowl | Bibb |\n",
    "|------|------|\n",
    "| 2.88 | 1.42 |\n",
    "| 2.68 | 1.51 |\n",
    "| 2.77 | 1.33 |\n",
    "| 3.11 | 1.27 |\n",
    "| 3.12 | 1.45 |\n",
    "| 2.97 | 1.37 |\n",
    "| 3.65 |      |\n",
    "| 3.43 |      |\n",
    "| 3.56 |      |\n",
    "\n",
    "Die Rohdaten befinden sich in Datei salad.csv.\n",
    "\n",
    "Boxplot ist Teil der Aufgabenstellung kann wie folgt erzeugt werden:"
   ]
  },
  {
   "cell_type": "code",
   "execution_count": 3,
   "metadata": {},
   "outputs": [
    {
     "data": {
      "image/png": "[encoded data removed]",
      "text/plain": [
       "<Figure size 864x576 with 1 Axes>"
      ]
     },
     "metadata": {
      "needs_background": "light"
     },
     "output_type": "display_data"
    }
   ],
   "source": [
    "import pandas as pd\n",
    "import matplotlib.pyplot as plt\n",
    "\n",
    "salad = pd.read_csv('salad.csv', sep=\"\\t\")\n",
    "\n",
    "fig, ax = plt.subplots(figsize=(12,8))\n",
    "salad.boxplot(column=['Gewicht'], by='Sorte', fontsize='large', ax = ax)\n",
    "plt.savefig('salad.pdf')"
   ]
  },
  {
   "cell_type": "markdown",
   "metadata": {},
   "source": [
    " a) Formulieren Sie geeignete Testhypothesen.\n",
    " \n",
    " b) Ist mit den gegebenen Daten ein 2-Stichproben t-Test ohne gravierende Verletzung der Annahmen möglich? Bitte begründen. Falls ja, führen Sie den Test durch ($\\alpha = 0.05$) und interpretieren Sie das Ergebnis (Teststatistik und Konfidenzintervall)! Falls nur die Voraussetzung der Varianzhomogenität verletzt sein sollte, führen Sie die gegenüber Varianzheterogenität robustere Welch t-Test Variante durch. Für Studierende der Pharmazie geben wir hier explizit den Hinweis, dass dies mit dem Argument `equal_var=False` in der Funktion `ttest_ind()`, bzw. mit dem Argument `usevar=\"unequal\"` in der Funktion `tconfint_diff()` umgesetzt werden kann. Studierende der anderen Studiengänge wissen das bereits."
   ]
  },
  {
   "cell_type": "code",
   "execution_count": null,
   "metadata": {},
   "outputs": [],
   "source": []
  },
  {
   "cell_type": "markdown",
   "metadata": {},
   "source": [
    "## Aufgabe 3\n",
    "\n",
    "Hat es 2011 (total verregneter Sommer) in Mecklenburg-Vorpommern mehr geregnet als 2010 (super sonniger Sommer)? An 4 Messstationen wurde in den Jahren 2010 und 2011 jeweils der Niederschlag (Liter pro Quadratmeter) gemessen (Daten: http://www.wetterkontor.net/). \n",
    "\n",
    "| Station    | 2010  | 2011  |\n",
    "|------------|-------|-------|\n",
    "| Greifswald | 848.4 | 694.5 |\n",
    "| Rostock    | 706.7 | 954.6 |\n",
    "| Arkona     | 733.3 | 713.8 |\n",
    "| Schwerin   | 672.8 | 701.6 |\n",
    "\n",
    "a) Formulieren Sie geeignete Hypothesen\n",
    "\n",
    "b) Eine der Annahmen für den 2-Stichproben t-Test ist die Unabhängigkeit beider Stichproben. Ist diese Annahme hier verletzt? Studierende der Landschaftsökologie oder Geographie schlagen bitte ein alternatives Testverfahren vor, falls die Annahme der Unabhängigkeit hier verletzt sein sollte.\n"
   ]
  },
  {
   "cell_type": "code",
   "execution_count": null,
   "metadata": {},
   "outputs": [],
   "source": []
  },
  {
   "cell_type": "markdown",
   "metadata": {},
   "source": [
    "## Aufgabe 4\n",
    "\n",
    "Um herauszufinden, ob Arbeiterinnen der Schwarzen Wegameise (*Lasius niger*) und der Roten Gartenameise (*Murmica rubra*) unterschiedlich schnell laufen können (Konfidenzniveau 95\\%), wurden je 30 Individuen jeder Art in einen Tunnel von 3 Metern Länge gesetzt, an dessen Ende sich die Quelle eines potenten Lock-Pheromons befand. Gemessen wurde die Zeit in Sekunden, die die Ameisen benötigen, um den Tunnel zu durchqueren. Beantworten Sie unter Einbezug des Boxplots folgende Fragen:"
   ]
  },
  {
   "cell_type": "code",
   "execution_count": 4,
   "metadata": {},
   "outputs": [
    {
     "data": {
      "image/png": "[encoded data removed]",
      "text/plain": [
       "<Figure size 432x288 with 1 Axes>"
      ]
     },
     "metadata": {
      "needs_background": "light"
     },
     "output_type": "display_data"
    }
   ],
   "source": [
    "import matplotlib.pyplot as plt\n",
    "\n",
    "rot = [60, 55, 50, 35, 63, 75, 59, 45, 61, 58, 62]\n",
    "schwarz = [65, 60, 63, 70, 73, 64, 68, 62]\n",
    "\n",
    "plt.boxplot([rot, schwarz]) # Plotten der Differenzen zwischen den beiden Jahren\n",
    "plt.savefig('ants.pdf')"
   ]
  },
  {
   "cell_type": "markdown",
   "metadata": {},
   "source": [
    "a) Ist die Stichprobe der schwarzen Wegameise annähernd normalverteilt?\n",
    "\n",
    "b) Ist die Stichprobe der roten Gartenameise annähernd normalverteilt?\n",
    "\n",
    "c) Sind die Varianzen eher homogen oder eher heterogen?\n",
    "\n",
    "d) Sehen Sie die stochastische Unabhängigkeit der Stichproben als offensichtlich verletzt an?\n",
    "\n",
    "e)  Welchen statistischen Test würden Sie wählen, um herauszufinden, ob sich die beiden Ameisenarten hinsichtlich der Zeit, die sie benötigen, um den Tunnel zu durchqueren, unterscheiden? (Hinweis für Studierende der Pharmazie: bei Verletzung der Varianzhomogenität ist ein Welch-t-Test die Alternative zum klassichen t-Test.)\n",
    "\n",
    "f) Unabhänging von Ihren persönlichen Antworten auf die vorhergehenden Fragen wurde in Python ein 2-Stichproben Welch-t-Test durchgeführt (Hinweis für Studierende der Pharmazie: die Hypothesen dieses Tests sind identisch mit denen des klassischen t-Tests, auch der p-Wert und die Konfidenzintervalle werden genauso interpretiert.):"
   ]
  },
  {
   "cell_type": "code",
   "execution_count": 5,
   "metadata": {},
   "outputs": [
    {
     "name": "stdout",
     "output_type": "stream",
     "text": [
      "T is -2.55869171346176\n",
      "P is 0.022527137743729476\n",
      "Confidence Interval:\n",
      "(-16.512774690375934, -1.4644980368967992)\n"
     ]
    }
   ],
   "source": [
    "from scipy import stats\n",
    "import statsmodels.stats.api as sms\n",
    "\n",
    "rot = [60, 55, 50, 35, 63, 75, 59, 45, 61, 58, 62]\n",
    "schwarz = [65, 60, 63, 70, 73, 64, 68, 62]\n",
    "\n",
    "T, p = stats.ttest_ind(rot, schwarz, equal_var=False, alternative = \"two-sided\")\n",
    "print(\"T is \" + str(T))\n",
    "print(\"P is \" + str(p))\n",
    "\n",
    "# compute confidence interval\n",
    "print(\"Confidence Interval:\")\n",
    "print(sms.CompareMeans(sms.DescrStatsW(rot), sms.DescrStatsW(schwarz)\n",
    "                      ).tconfint_diff(alpha=0.05, \n",
    "                                      alternative=\"two-sided\", usevar=\"unequal\"))"
   ]
  },
  {
   "cell_type": "markdown",
   "metadata": {},
   "source": [
    "f) Notieren Sie die Testhypothesen dieses Tests!\n",
    "\n",
    "g) Interpretieren Sie den p-Wert!\n",
    "\n",
    "h) Interpretieren Sie das Konfidenzintervall!"
   ]
  },
  {
   "cell_type": "code",
   "execution_count": null,
   "metadata": {},
   "outputs": [],
   "source": []
  }
 ],
 "metadata": {
  "kernelspec": {
   "display_name": "Python 3 (ipykernel)",
   "language": "python",
   "name": "python3"
  },
  "language_info": {
   "codemirror_mode": {
    "name": "ipython",
    "version": 3
   },
   "file_extension": ".py",
   "mimetype": "text/x-python",
   "name": "python",
   "nbconvert_exporter": "python",
   "pygments_lexer": "ipython3",
   "version": "3.9.2"
  }
 },
 "nbformat": 4,
 "nbformat_minor": 4
}
