{
 "cells": [
  {
   "cell_type": "markdown",
   "metadata": {},
   "source": [
    "# Python Material zu Themenblock 3: Reelle Zufallsvariablen und ihre Verteilungen"
   ]
  },
  {
   "cell_type": "markdown",
   "metadata": {},
   "source": [
    "## P3.1 Die Bernoulli-Verteilung praktisch nutzen\n",
    "\n",
    "Vorlesungsskript S. 7\n",
    "\n",
    "Video: https://grypstube.uni-greifswald.de/w/5D8LrusnL5yVfRsSPgip3i"
   ]
  },
  {
   "cell_type": "code",
   "execution_count": 92,
   "metadata": {},
   "outputs": [
    {
     "name": "stdout",
     "output_type": "stream",
     "text": [
      "Die Wahrscheinlichkeit, dass die bernoulliverteilte Zufallsvariable X  mit dem Parameter p =  0.6  den Wert  0  annimmt ist:  0.4\n",
      "Der Erwartungswert der Zufallsvariablen ist 0.6 , die Varianz ist 0.24\n"
     ]
    }
   ],
   "source": [
    "from scipy.stats import bernoulli\n",
    "\n",
    "p = 0.6 # Erfolgswahrscheinlichkeit\n",
    "x = 0 # sollte sinnvollerweise entweder 1 für Erfolg oder 0 für Misserfolg sein\n",
    "rv = bernoulli(p) # erstellt eine Bernoulliverteilung mit dem Parameter p\n",
    "P_von_X_ist_x = rv.pmf(x) # zieht aus dieser Verteilung die Wahrscheinlichkeit für X=x\n",
    "print(\"Die Wahrscheinlichkeit, dass die bernoulliverteilte Zufallsvariable X  mit dem Parameter p = \", p, \n",
    "      \" den Wert \", x, \" annimmt ist: \", P_von_X_ist_x)\n",
    "\n",
    "m, v = rv.stats('mv') # Kennwerte von Zufallsvariablen, im Skript S. 33\n",
    "print(\"Der Erwartungswert der Zufallsvariablen ist\", m, \", die Varianz ist\", v)"
   ]
  },
  {
   "cell_type": "markdown",
   "metadata": {},
   "source": [
    "## P3.2 Die Diskrete Gleichverteilung praktisch nutzen\n",
    "\n",
    "Vorlesungsskript S. 8\n",
    "\n",
    "Video: https://youtu.be/RvTCVVDnXrM"
   ]
  },
  {
   "cell_type": "code",
   "execution_count": 93,
   "metadata": {},
   "outputs": [
    {
     "name": "stdout",
     "output_type": "stream",
     "text": [
      "Die Wahrscheinlichkeit, dass die diskret gleichverteilte Zufallsvariable X  mit dem Parameter k =  6  den Wert  3  annimmt ist:  0.16666666666666666\n",
      "Der Erwartungswert der Zufallsvariablen ist 3.5 , die Varianz ist 2.9166666666666665\n"
     ]
    }
   ],
   "source": [
    "from scipy.stats import randint\n",
    "\n",
    "k = 6 # mögliche Versuchsausgänge\n",
    "x = 3 # sollte ein Wert zwischen 1 und k sein, sonst Ergebnis 0\n",
    "rv = randint(1, k+1) # erstellt eine diskrete Gleichverteilung für 1 bis k, \n",
    "                     # beachte: wie immer in Python ist der letzte Wert des Intervalls nicht Teil des Intervalls, deshalb k+1!\n",
    "P_von_X_ist_x = rv.pmf(x) # zieht aus dieser Verteilung die Wahrscheinlichkeit für X=x\n",
    "print(\"Die Wahrscheinlichkeit, dass die diskret gleichverteilte Zufallsvariable X  mit dem Parameter k = \", k, \n",
    "      \" den Wert \", x, \" annimmt ist: \", P_von_X_ist_x)\n",
    "\n",
    "m, v = rv.stats('mv') # Kennwerte von Zufallsvariablen, im Skript S. 33\n",
    "print(\"Der Erwartungswert der Zufallsvariablen ist\", m, \", die Varianz ist\", v)"
   ]
  },
  {
   "cell_type": "markdown",
   "metadata": {},
   "source": [
    "## P3.3 Die Binomialverteilung praktisch nutzen\n",
    "\n",
    "Vorlesungsskript S. 10\n",
    "\n",
    "Video : https://grypstube.uni-greifswald.de/w/wSXqZxfUv4sRrFXxtNno31"
   ]
  },
  {
   "cell_type": "code",
   "execution_count": 94,
   "metadata": {},
   "outputs": [
    {
     "name": "stdout",
     "output_type": "stream",
     "text": [
      "Die Wahrscheinlichkeit, dass die binomialverteilte Zufallsvariable X  mit den Parametern n =  5  und p =  0.5  den Wert  2  annimmt ist:  0.3125\n",
      "Der Erwartungswert der Zufallsvariablen ist 2.5 , die Varianz ist 1.25\n"
     ]
    }
   ],
   "source": [
    "from scipy.stats import binom\n",
    "\n",
    "n=5 # Anzahl Ziehungen mit Zurücklegen\n",
    "p=0.5 # Erfolgswahrscheinlichkeit\n",
    "k=2 # Zahl der Erfolge in n Versuchen\n",
    "rv = binom(n, p) # erstellt eine Biomialverteilung mit den Parametern n und p\n",
    "P_von_X_ist_k = rv.pmf(k) # zieht aus dieser Binomialverteilung die Wahrscheinlichkeit für X=k\n",
    "print(\"Die Wahrscheinlichkeit, dass die binomialverteilte Zufallsvariable X  mit den Parametern n = \", n, \n",
    "      \" und p = \", p, \" den Wert \", k, \" annimmt ist: \", P_von_X_ist_k)\n",
    "\n",
    "m, v = rv.stats('mv') # Kennwerte von Zufallsvariablen, im Skript S. 33\n",
    "print(\"Der Erwartungswert der Zufallsvariablen ist\", m, \", die Varianz ist\", v)"
   ]
  },
  {
   "cell_type": "markdown",
   "metadata": {},
   "source": [
    "## P3.4 Die Multinomialverteilung praktisch nutzen\n",
    "\n",
    "Vorlesungsskript S. 14\n",
    "\n",
    "Video: https://grypstube.uni-greifswald.de/w/m2BUs31eswCmTCKPyasKJX"
   ]
  },
  {
   "cell_type": "code",
   "execution_count": 95,
   "metadata": {},
   "outputs": [
    {
     "name": "stdout",
     "output_type": "stream",
     "text": [
      "Die Wahrscheinlichkeit, dass die multinomialverteilte Zufallsvariable X  mit den Parametern n =  4  und p =  [0.16666666666666666, 0.16666666666666666, 0.16666666666666666, 0.16666666666666666, 0.16666666666666666, 0.16666666666666666]  die Werte  [2, 0, 0, 1, 0, 1]  annimmt ist:  0.009259259259259257\n"
     ]
    }
   ],
   "source": [
    "from scipy.stats import multinomial\n",
    "\n",
    "n=4 # Anzahl Ziehungen/Würfeln\n",
    "#  1    2    3    4    5    6    <- Notation der Augenzahlen, zu denen die Wahrscheinlichkeiten hier gehören\n",
    "p=[1/6, 1/6, 1/6, 1/6, 1/6, 1/6] # Erfolgswahrscheinlichkeiten für die einzelnen Versuchsausgänge, \n",
    "                                 # z.B. beim Würfeln gibt es 6 mögliche Augenzahlen, \n",
    "                                 # alle haben die Wahrscheinlichtkeit 1/6\n",
    "# 2x1, 0x2, 0x3, 1x4, 0x5, 1x6 <- Notation der hier beispielhaft implementierten Versuchsausgänge\n",
    "k=[2, 0, 0, 1, 0, 1] # gewünschte Versuchsausgänge\n",
    "rv = multinomial(n, p) # erstellt eine Multinomialverteilung zur Anzahl der Ziehungen n und den Wahrscheinlichkeiten p\n",
    "P_von_X_ist_k = rv.pmf(k) # zieht aus dieser Multinomialverteilung die Wahrscheinlichkeit für X=k\n",
    "print(\"Die Wahrscheinlichkeit, dass die multinomialverteilte Zufallsvariable X  mit den Parametern n = \", n, \n",
    "      \" und p = \", p, \" die Werte \", k, \" annimmt ist: \", P_von_X_ist_k)\n",
    "\n",
    "# rv.stats() funktioniert hier nicht! ... ist für uns auch nicht weiter wichtig."
   ]
  },
  {
   "cell_type": "markdown",
   "metadata": {},
   "source": [
    "## P3.5 Die hypergeometrische Verteilung praktisch nutzen\n",
    "\n",
    "Vorlesungsskript S. 18.\n",
    "\n",
    "Video: https://grypstube.uni-greifswald.de/w/rVA5MDdUJBBJ5dQ1YB6D78\n",
    "\n",
    "**Achtung:** Python nutzt eine andere Notation für die Parameter, am Besten wirklich diesen Beispielcode einfach benutzen, die Hilfeseiten zur hypergeom-Funktion sind verwirrend."
   ]
  },
  {
   "cell_type": "code",
   "execution_count": 96,
   "metadata": {},
   "outputs": [
    {
     "name": "stdout",
     "output_type": "stream",
     "text": [
      "Die Wahrscheinlichkeit, dass die hypergeometrische Zufallsvariable X  mit den Parametern N =  49 , K =  6  und n =  6  den Wert  1  annimmt ist:  0.4130194504847612\n",
      "Der Erwartungswert der Zufallsvariablen ist 0.7346938775510203 , die Varianz ist 0.5775718450645564\n"
     ]
    }
   ],
   "source": [
    "from scipy.stats import hypergeom\n",
    "\n",
    "N=49 # die Anzahl aller Kugeln in der Urne\n",
    "K=6 # die Anzahl der \"Guten\"\n",
    "n=6 # die Anzahl der Ziehungen\n",
    "k=1 # die Anzahl der \"Erfolge\"/\"Guten\" in n Ziehungen\n",
    "rv = hypergeom(N, K, n) # erstellt eine hypergeometrische Verteilung mit den Parametern N, K und n\n",
    "P_von_X_ist_k = rv.pmf(k) # zieht aus dieser hybergeometrischen Verteilung die Wahrscheinlichkeit für X=k\n",
    "print(\"Die Wahrscheinlichkeit, dass die hypergeometrische Zufallsvariable X  mit den Parametern N = \", N, \n",
    "      \", K = \", K, \" und n = \", n, \" den Wert \", k, \" annimmt ist: \", P_von_X_ist_k) \n",
    "      # der Ausgabesatz ist an die Formelnotation im Vorlesungsskript angepasst!\n",
    "    \n",
    "m, v = rv.stats('mv') # Kennwerte von Zufallsvariablen, im Skript S. 33\n",
    "print(\"Der Erwartungswert der Zufallsvariablen ist\", m, \", die Varianz ist\", v)"
   ]
  },
  {
   "cell_type": "markdown",
   "metadata": {},
   "source": [
    "## P3.6 Die Poissonverteilung praktisch nutzen\n",
    "\n",
    "Vorlesungsskript S. 19.\n",
    "\n",
    "Video: https://grypstube.uni-greifswald.de/w/qfJJWQ6UxtHC8sWXJP11NJ"
   ]
  },
  {
   "cell_type": "code",
   "execution_count": 97,
   "metadata": {},
   "outputs": [
    {
     "name": "stdout",
     "output_type": "stream",
     "text": [
      "Die Wahrscheinlichkeit, dass die poissonverteilte Zufallsvariable X  mit dem Parameter Lambda =  2  den Wert  3  annimmt ist:  0.18044704431548356\n",
      "Der Erwartungswert der Zufallsvariablen ist 2.0 , die Varianz ist 2.0\n"
     ]
    }
   ],
   "source": [
    "from scipy.stats import poisson\n",
    "\n",
    "lambd = 2 # Parameter Lambda\n",
    "k = 3 # 0, 1, 2, ..., unendlich\n",
    "rv = poisson(lambd) # erstellt eine Poissonverteilung mit dem Parameter Lambda\n",
    "P_von_X_ist_k = rv.pmf(k) # zieht aus dieser Verteilung die Wahrscheinlichkeit für X=k\n",
    "print(\"Die Wahrscheinlichkeit, dass die poissonverteilte Zufallsvariable X  mit dem Parameter Lambda = \", lambd, \n",
    "      \" den Wert \", k, \" annimmt ist: \", P_von_X_ist_k)\n",
    "\n",
    "m, v = rv.stats('mv') # Kennwerte von Zufallsvariablen, im Skript S. 33\n",
    "print(\"Der Erwartungswert der Zufallsvariablen ist\", m, \", die Varianz ist\", v)"
   ]
  },
  {
   "cell_type": "markdown",
   "metadata": {},
   "source": [
    "## P3.7 Die geometrische Verteilung praktisch nutzen\n",
    "\n",
    "Vorlesungsskript S. 21. In Python in die Variante A implementiert.\n",
    "\n",
    "Video: https://grypstube.uni-greifswald.de/w/gCxcADh3f53L7oWwuJh28E"
   ]
  },
  {
   "cell_type": "code",
   "execution_count": 98,
   "metadata": {},
   "outputs": [
    {
     "name": "stdout",
     "output_type": "stream",
     "text": [
      "Die Wahrscheinlichkeit, dass die geometrisch verteilte Zufallsvariable X  mit dem Parameter p =  0.16666666666666666  den Wert  1  annimmt ist:  0.16666666666666666\n",
      "Der Erwartungswert der Zufallsvariablen ist 6.0 , die Varianz ist 30.000000000000007\n"
     ]
    }
   ],
   "source": [
    "from scipy.stats import geom # Variante A der geometrischen Verteilung\n",
    "\n",
    "p=1/6\n",
    "k=1\n",
    "rv = geom(p) # erstellt eine geometrische Verteilung mit dem Parameter p\n",
    "P_von_X_ist_k= rv.pmf(k) # zieht aus dieser Verteilung die Wahrscheinlichkeit für X=k\n",
    "print(\"Die Wahrscheinlichkeit, dass die geometrisch verteilte Zufallsvariable X  mit dem Parameter p = \", p, \n",
    "      \" den Wert \", k, \" annimmt ist: \", P_von_X_ist_k)\n",
    "\n",
    "m, v = rv.stats('mv') # Kennwerte von Zufallsvariablen, im Skript S. 33\n",
    "print(\"Der Erwartungswert der Zufallsvariablen ist\", m, \", die Varianz ist\", v)"
   ]
  },
  {
   "cell_type": "markdown",
   "metadata": {},
   "source": [
    "## P3.8 Die stetige Gleichverteilung praktisch nutzen\n",
    "\n",
    "Vorlesungsskript S. 27.\n",
    "\n",
    "Video: https://grypstube.uni-greifswald.de/w/7uuoLGRyhgsox1UkQWqSiX"
   ]
  },
  {
   "cell_type": "code",
   "execution_count": 99,
   "metadata": {},
   "outputs": [
    {
     "name": "stdout",
     "output_type": "stream",
     "text": [
      "Der y-Wert der Dichtefunktion zu x= 0.8 ist 0.0 , also f( 0.8 ) =  0.0\n",
      "Der y-Wert der Verteilungsfunktion zu x= 0.8 ist 0.0 , also F( 0.8 ) =  0.0\n",
      "Das  90.0 %-Quantil dieser Verteilung ist 20.700000000000003\n",
      "Der Erwartungswert der Zufallsvariablen ist 15.5 , die Varianz ist 14.083333333333332\n"
     ]
    }
   ],
   "source": [
    "from scipy.stats import uniform\n",
    "\n",
    "a=9 # untere Grenze\n",
    "b=22 # obere Grenze\n",
    "rv = uniform(loc=a, scale=b-a) # Stetige Gleichverteilung auf dem Intervall von a bis b\n",
    "                               # loc erwartet den Position des Beginns des Intervalls (hier a)\n",
    "                               # scale erwartet die Breite des Intervalls, also hier von b - a\n",
    "x = 0.8 # ein Wert auf der x-Achse\n",
    "print(\"Der y-Wert der Dichtefunktion zu x=\", x, \"ist\", rv.pdf(x), \", also f(\", x, \") = \", rv.pdf(x)) \n",
    "    # pdf bedeutet probability density function, d.h. Dichtefunktion, hier wird der y-Wert zu einem x-Wert berechnet\n",
    "print(\"Der y-Wert der Verteilungsfunktion zu x=\", x, \"ist\", rv.cdf(x), \", also F(\", x, \") = \", rv.cdf(x)) \n",
    "    # cdf bedeutet cumulative densitiy function, d.h. Verteilungsfunktion, auch hier wird der y-Wert zu einem x-Wert berechnet\n",
    "\n",
    "q = 0.9\n",
    "print(\"Das \", 100*q, \"%-Quantil dieser Verteilung ist\", rv.ppf(q)) \n",
    "    # ppf bedeutet percent point function, also die Umkehrfunktion von cdf, d.h. damit bekommen wir die Quantile\n",
    "    \n",
    "m, v = rv.stats('mv') # Kennwerte von Zufallsvariablen, im Skript S. 33\n",
    "print(\"Der Erwartungswert der Zufallsvariablen ist\", m, \", die Varianz ist\", v)"
   ]
  },
  {
   "cell_type": "markdown",
   "metadata": {},
   "source": [
    "## P3.9 Die Normalverteilung praktisch nutzen\n",
    "\n",
    "Vorlesungsskript S. 32. Python ist hier deutlich einfacher, als die Handhabung des Tabellenwerks.\n",
    "\n",
    "Video: https://grypstube.uni-greifswald.de/w/nAj87s28pSNZ5Xy2BWmKJT"
   ]
  },
  {
   "cell_type": "code",
   "execution_count": 100,
   "metadata": {},
   "outputs": [
    {
     "name": "stdout",
     "output_type": "stream",
     "text": [
      "Der y-Wert der Dichtefunktion zu x= 0.8 ist 0.28969155276148273 , also f( 0.8 ) =  0.28969155276148273\n",
      "Der y-Wert der Verteilungsfunktion zu x= 0.8 ist 0.7881446014166034 , also F( 0.8 ) =  0.7881446014166034\n",
      "Das  80.0 %-Quantil dieser Verteilung ist 0.8416212335729143\n",
      "P(Z <= 0.84) = 0.7995458067395503\n",
      "P(Z <= -0.25) = 0.4012936743170763\n",
      "P(Z > 0.39) = 1 - P(Z <= 0.39) = 0.3482682734640177\n",
      "Das  70.0 %-Quantil dieser Verteilung ist 0.5244005127080407\n",
      "Das  30.0 %-Quantil dieser Verteilung ist -0.5244005127080409\n",
      "Der Erwartungswert der Zufallsvariablen ist 100.0 , die Varianz ist 144.0 , die Standardabweichung ist 12.0\n"
     ]
    }
   ],
   "source": [
    "from scipy.stats import norm\n",
    "\n",
    "rv = norm() # Standardnormalverteilung\n",
    "\n",
    "x = 0.8 # ein Wert auf der x-Achse\n",
    "print(\"Der y-Wert der Dichtefunktion zu x=\", x, \"ist\", rv.pdf(x), \", also f(\", x, \") = \", rv.pdf(x)) \n",
    "    # pdf bedeutet probability density function, d.h. Dichtefunktion, hier wird der y-Wert zu einem x-Wert berechnet\n",
    "print(\"Der y-Wert der Verteilungsfunktion zu x=\", x, \"ist\", rv.cdf(x), \", also F(\", x, \") = \", rv.cdf(x)) \n",
    "    # cdf bedeutet cumulative densitiy function, d.h. Verteilungsfunktion, auch hier wird der y-Wert zu einem x-Wert berechnet\n",
    "\n",
    "q = 0.8\n",
    "print(\"Das \", 100*q, \"%-Quantil dieser Verteilung ist\", rv.ppf(q)) \n",
    "    # ppf bedeutet percent point function, also die Umkehrfunktion von cdf, d.h. damit bekommen wir die Quantile\n",
    "\n",
    "# Noch ein paar Beispiele analog zum Vorlesungsskript, S. 30\n",
    "print(\"P(Z <= 0.84) =\", rv.cdf(0.84))\n",
    "print(\"P(Z <= -0.25) =\", rv.cdf(-0.25))\n",
    "print(\"P(Z > 0.39) = 1 - P(Z <= 0.39) =\", 1 - rv.cdf(0.39))\n",
    "print(\"Das \", 100*0.7, \"%-Quantil dieser Verteilung ist\", rv.ppf(0.7)) \n",
    "print(\"Das \", 100*0.3, \"%-Quantil dieser Verteilung ist\", rv.ppf(0.3)) \n",
    "\n",
    "# Normalverteilung mit anderen Erwartungwert und anderer Standardabweichung:\n",
    "rv = norm(100, 12) # Erwartungswert 100, Standardabweichung 12, ansonsten funktionert alles analog zur Standardnormalverteilung, \n",
    "                   # d.h. eine Z-Transformation muss man nicht von Hand machen.\n",
    "    \n",
    "import math\n",
    "m, v = rv.stats('mv') # Kennwerte von Zufallsvariablen, im Skript S. 33\n",
    "print(\"Der Erwartungswert der Zufallsvariablen ist\", m, \", die Varianz ist\", v, \", die Standardabweichung ist\", math.sqrt(v))"
   ]
  },
  {
   "cell_type": "markdown",
   "metadata": {},
   "source": [
    "## P3.10 Die Exponentialverteilung praktisch nutzen\n",
    "\n",
    "Vorlesungsskript S. 35. Diese Verteilung ist für die Übungsaufgaben nicht relevant. Die Klausuraufgaben orientieren sich an den Übungsaufgaben."
   ]
  },
  {
   "cell_type": "code",
   "execution_count": 101,
   "metadata": {},
   "outputs": [
    {
     "name": "stdout",
     "output_type": "stream",
     "text": [
      "Der y-Wert der Dichtefunktion zu x= 0.8 ist 0.40379303598931077 , also f( 0.8 ) =  0.40379303598931077\n",
      "Der y-Wert der Verteilungsfunktion zu x= 0.8 ist 0.7981034820053446 , also F( 0.8 ) =  0.7981034820053446\n",
      "Der Erwartungswert der Zufallsvariablen ist 0.5 , die Varianz ist 0.25\n"
     ]
    }
   ],
   "source": [
    "from scipy.stats import expon\n",
    "\n",
    "lambd = 2\n",
    "rv = expon(scale = 1/lambd) # remember to specify 1/Lambda, not Lambda alone as scale parameter\n",
    "x = 0.8 # ein Wert auf der x-Achse\n",
    "print(\"Der y-Wert der Dichtefunktion zu x=\", x, \"ist\", rv.pdf(x), \", also f(\", x, \") = \", rv.pdf(x)) \n",
    "    # pdf bedeutet probability density function, d.h. Dichtefunktion, hier wird der y-Wert zu einem x-Wert berechnet\n",
    "print(\"Der y-Wert der Verteilungsfunktion zu x=\", x, \"ist\", rv.cdf(x), \", also F(\", x, \") = \", rv.cdf(x)) \n",
    "    # cdf bedeutet cumulative densitiy function, d.h. Verteilungsfunktion, auch hier wird der y-Wert zu einem x-Wert berechnet\n",
    "    \n",
    "m, v = rv.stats('mv') # Kennwerte von Zufallsvariablen, im Skript S. 33\n",
    "print(\"Der Erwartungswert der Zufallsvariablen ist\", m, \", die Varianz ist\", v)"
   ]
  },
  {
   "cell_type": "markdown",
   "metadata": {},
   "source": [
    "## P3.11 Median\n",
    "\n",
    "Vorlesungsskript S. 43. Hier an den Beispielen der Bernoulliverteilung und der Standardnormalverteilung. Es funktioniert für andere Verteilungen analog.\n",
    "\n",
    "Video: https://grypstube.uni-greifswald.de/w/qeYUqeVBkjS3VpnNponDLs"
   ]
  },
  {
   "cell_type": "code",
   "execution_count": 102,
   "metadata": {},
   "outputs": [
    {
     "name": "stdout",
     "output_type": "stream",
     "text": [
      "Der Median dieser Verteilung ist: 0.0\n"
     ]
    }
   ],
   "source": [
    "from scipy.stats import bernoulli\n",
    "\n",
    "p=0.5 # Erfolgswahrscheinlichkeit\n",
    "rv = bernoulli(p)\n",
    "print(\"Der Median dieser Verteilung ist:\", rv.median())"
   ]
  },
  {
   "cell_type": "code",
   "execution_count": 103,
   "metadata": {},
   "outputs": [
    {
     "name": "stdout",
     "output_type": "stream",
     "text": [
      "Der Median dieser Verteilung ist: 5.0\n"
     ]
    }
   ],
   "source": [
    "from scipy.stats import norm\n",
    "\n",
    "rv = norm(5,2)\n",
    "print(\"Der Median dieser Verteilung ist:\", rv.median())"
   ]
  },
  {
   "cell_type": "markdown",
   "metadata": {},
   "source": [
    "# P3.12 IQR\n",
    "\n",
    "Vorlesungsskript S. 44. Hier an den Beispielen der Bernoulliverteilung und der Standardnormalverteilung. Es funktioniert für andere Verteilungen analog.\n",
    "\n",
    "Video: https://grypstube.uni-greifswald.de/w/p3powphHv1fBr42vyaXwq1"
   ]
  },
  {
   "cell_type": "code",
   "execution_count": 104,
   "metadata": {},
   "outputs": [
    {
     "name": "stdout",
     "output_type": "stream",
     "text": [
      "Der IQR dieser Verteilung ist: 1.0\n"
     ]
    }
   ],
   "source": [
    "from scipy.stats import bernoulli\n",
    "\n",
    "p=0.5 # Erfolgswahrscheinlichkeit\n",
    "rv = bernoulli(p)\n",
    "\n",
    "print(\"Der IQR dieser Verteilung ist:\", rv.ppf(0.75) - rv.ppf(0.25))"
   ]
  },
  {
   "cell_type": "code",
   "execution_count": 105,
   "metadata": {},
   "outputs": [
    {
     "name": "stdout",
     "output_type": "stream",
     "text": [
      "Der IQR dieser Verteilung ist: 2.6979590007843264\n"
     ]
    }
   ],
   "source": [
    "from scipy.stats import norm\n",
    "\n",
    "rv = norm(5,2)\n",
    "print(\"Der IQR dieser Verteilung ist:\", rv.ppf(0.75) - rv.ppf(0.25))"
   ]
  },
  {
   "cell_type": "markdown",
   "metadata": {},
   "source": [
    "## Verteilungen selbst definieren\n",
    "\n",
    "### P3.13 Diskrete Wahrscheinlichkeitsfunktion\n",
    "\n",
    "Seite 43 im Vorlesungsskript.\n",
    "\n",
    "Video: https://grypstube.uni-greifswald.de/w/9xPUKk6Etv4Tyvn6V7yc2a\n",
    "\n",
    "Eine Zufallsvariable $X: \\Omega \\rightarrow \\mathbb{R}$ hat die Wahrscheinlichkeitsfunktion\n",
    "\n",
    "$$P(X = 0) = 0.2$$\n",
    "\n",
    "$$P(X = 1) = 0.4$$\n",
    "\n",
    "$$P(X = 2) = 0.4$$"
   ]
  },
  {
   "cell_type": "code",
   "execution_count": 106,
   "metadata": {},
   "outputs": [
    {
     "name": "stdout",
     "output_type": "stream",
     "text": [
      "Der IQR dieser Zufallsvariable ist: 1.0\n",
      "Der Median dieser Zufallsvariable ist: 1.0\n",
      "Der Erwartungswert der Zufallsvariable ist: 1.2000000000000002\n",
      "Die Varianz der Zufallsvariable ist: 0.5599999999999996\n"
     ]
    }
   ],
   "source": [
    "from scipy import stats\n",
    "import numpy as np\n",
    "\n",
    "xk = np.arange(3) # erzeugt die Zahlen 0 1 2\n",
    "pk = (0.2, 0.4, 0.4) # das sind die Wahrscheinlichkeiten zu den Zahlen 0 1 2\n",
    "rv = stats.rv_discrete(name='custm', values=(xk, pk))\n",
    "\n",
    "print(\"Der IQR dieser Zufallsvariable ist:\", rv.ppf(0.75) - rv.ppf(0.25))\n",
    "print(\"Der Median dieser Zufallsvariable ist:\", rv.median())\n",
    "print(\"Der Erwartungswert der Zufallsvariable ist:\", rv.mean())\n",
    "print(\"Die Varianz der Zufallsvariable ist:\", rv.var())"
   ]
  },
  {
   "cell_type": "markdown",
   "metadata": {},
   "source": [
    "### P3.14 Stetige Dichtefunktion\n",
    "\n",
    "Seite 43 im Vorlesungsskript.\n",
    "\n",
    "Video: https://grypstube.uni-greifswald.de/w/2PWK6cDAPuGqob5SpECfXH\n",
    "\n",
    "Eine Zufallsvariable $X: \\Omega \\rightarrow \\mathbb{R}$ hat die Dichtefunktion \n",
    "\n",
    "$$f(x) = \\begin{cases}\n",
    "          2x & \\text{ für } 0 \\leq x \\leq 1\\\\\n",
    "0 & \\text{ sonst}\\\\\n",
    "         \\end{cases}$$"
   ]
  },
  {
   "cell_type": "code",
   "execution_count": 107,
   "metadata": {},
   "outputs": [
    {
     "name": "stdout",
     "output_type": "stream",
     "text": [
      "Der IQR dieser Zufallsvariable ist: 0.36602540378443876\n",
      "Der Median dieser Zufallsvariable ist: 0.7071067811865476\n",
      "Der Erwartungswert der Zufallsvariable ist: 0.6666666666666667\n",
      "Die Varianz der Zufallsvariable ist: 0.0555555555555558\n"
     ]
    }
   ],
   "source": [
    "import scipy.stats as st\n",
    "\n",
    "class my_pdf(st.rv_continuous):\n",
    "    def _pdf(self,x):\n",
    "        return 2*x  # Hier die Funktion eingeben\n",
    "                    # Beim Aufruf geben wir an, in welchem Bereich die Funktion definiert ist\n",
    "\n",
    "rv = my_pdf(a=0, b=1, name='my_pdf') # diese Funktion ist von a = 0 bis b = 1 definiert\n",
    "print(\"Der IQR dieser Zufallsvariable ist:\", rv.ppf(0.75) - rv.ppf(0.25))\n",
    "print(\"Der Median dieser Zufallsvariable ist:\", rv.median())\n",
    "print(\"Der Erwartungswert der Zufallsvariable ist:\", rv.mean())\n",
    "print(\"Die Varianz der Zufallsvariable ist:\", rv.var())"
   ]
  },
  {
   "cell_type": "code",
   "execution_count": null,
   "metadata": {},
   "outputs": [],
   "source": []
  }
 ],
 "metadata": {
  "kernelspec": {
   "display_name": "Python 3",
   "language": "python",
   "name": "python3"
  },
  "language_info": {
   "codemirror_mode": {
    "name": "ipython",
    "version": 3
   },
   "file_extension": ".py",
   "mimetype": "text/x-python",
   "name": "python",
   "nbconvert_exporter": "python",
   "pygments_lexer": "ipython3",
   "version": "3.9.2"
  }
 },
 "nbformat": 4,
 "nbformat_minor": 4
}
