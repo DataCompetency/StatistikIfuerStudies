{
 "cells": [
  {
   "cell_type": "markdown",
   "metadata": {},
   "source": [
    "# Python Material zu Themenblock 1: Grundlagen der Analysis\n",
    "\n",
    "## Paketinstallation\n",
    "\n",
    "Über das Python Basis-System hinaus können Sie viele zusätzliche Funktionen durch \"Pakete\" importieren. Dies geschieht mit einem \"import\" statement, z.B.:\n",
    "\n",
    "    import math\n",
    "    \n",
    "Gelegentlich sind die zu importierenden Paketnamen lang und vergibt ein \"Alias\", um schnell auf das importierte Paket zugreifen zu können, z.B.:\n",
    "\n",
    "    import numpy as np\n",
    "    \n",
    "Wenn so ein Import einmal nicht funktioniert, dann ist höchstwahrscheinlich das entsprechende Paket auf Ihrem System noch nicht installiert. Sie können Pakete mit pip bzw. pip3 installieren, z.B.:\n",
    "\n",
    "    pip install numpy\n",
    "\n",
    "bzw.\n",
    "\n",
    "    pip3 install numpy\n",
    "    \n",
    "Ob Sie die \"3\" an den pip-Befehl anhängen müssen, hängt im Wesentlichen davon ab, ob Sie mehr als eine Python-Version auf Ihrem System installiert haben. Meist ist die 3 nicht notwendig, weil python3 mittlerweile der Default, also der Standard ist.\n",
    "\n",
    "### Gültigkeit eines import Statements\n",
    "\n",
    "Sie müssen zur Nutzung von Funktionen aus Paketen das entsprechende Paket *einmal* importieren. Das geschieht in JupyterNotebooks meist innerhalb oder oberhalb der Zelle, in der Sie die Funktionalität des Pakets benötigen. Wenn Sie das JupyterNotebook schließen und anschließend neu öffnen, dann müssen Sie die Zelle mit dem Import erneut ausführen, um die Funktionalität wieder verfügbar zu haben.\n",
    "\n",
    "## Mengen und Zahlen\n",
    "\n",
    "### P1.1: Bruchzahlen\n",
    "\n",
    "Video: https://grypstube.uni-greifswald.de/w/4MEUP7uE58GtEy6jBHVse5\n",
    "\n",
    "Auf Englisch heißt Bruchzahl \"Fraction\"."
   ]
  },
  {
   "cell_type": "code",
   "execution_count": 33,
   "metadata": {},
   "outputs": [
    {
     "name": "stdout",
     "output_type": "stream",
     "text": [
      "2/3\n",
      "2839/500\n",
      "56/99  =  0.5656565656565656\n"
     ]
    }
   ],
   "source": [
    "from fractions import Fraction\n",
    "\n",
    "print(Fraction(2,3)) # vor dem Komma steht der Zähler, nach dem Komma steht der Nenner\n",
    "\n",
    "a = Fraction(5,1) + Fraction(6,10) + Fraction(7,100) + Fraction(8,1000)\n",
    "print(a)\n",
    "\n",
    "b = Fraction(56,99)\n",
    "print(b, \" = \", float(b))"
   ]
  },
  {
   "cell_type": "markdown",
   "metadata": {},
   "source": [
    "### P1.2: Konstanten\n",
    "\n",
    "Video: https://grypstube.uni-greifswald.de/w/3iZ9LaMN5aaRvhpy3B4syR"
   ]
  },
  {
   "cell_type": "code",
   "execution_count": 34,
   "metadata": {},
   "outputs": [
    {
     "name": "stdout",
     "output_type": "stream",
     "text": [
      "pi: 3.141592653589793\n",
      "e: 2.718281828459045\n"
     ]
    }
   ],
   "source": [
    "import math # z.B. für Konstanten und Quadratwurzel\n",
    "print(\"pi: \" + str(math.pi))\n",
    "print(\"e: \" + str(math.e))"
   ]
  },
  {
   "cell_type": "markdown",
   "metadata": {},
   "source": [
    "### P1.3: Logische Operatoren\n",
    "\n",
    "Video: https://grypstube.uni-greifswald.de/w/8x8pNFU9WuXzhixJ8qrAvZ\n",
    "\n",
    "Bitte verwechseln Sie nicht das einfache Gleichheitszeichen, welches wir zur Zuweisung von Werten an Variablen nutzen (z.B. a = 5.9) mit dem doppelten Gleichheitszeichen, welches wir zum Vergleich von zwei Werten miteinander nutzen."
   ]
  },
  {
   "cell_type": "code",
   "execution_count": 35,
   "metadata": {},
   "outputs": [
    {
     "data": {
      "text/plain": [
       "True"
      ]
     },
     "execution_count": 35,
     "metadata": {},
     "output_type": "execute_result"
    }
   ],
   "source": [
    "a = 5.9\n",
    "b = 3\n",
    "a >= b"
   ]
  },
  {
   "cell_type": "code",
   "execution_count": 36,
   "metadata": {},
   "outputs": [
    {
     "name": "stdout",
     "output_type": "stream",
     "text": [
      "a <= b:True\n",
      "a == b:True\n",
      "a < b:False\n"
     ]
    }
   ],
   "source": [
    "a = 3.2\n",
    "b = 3.2\n",
    "print(\"a <= b:\" + str(a <= b))\n",
    "print(\"a == b:\" + str(a == b))\n",
    "print(\"a < b:\" + str(a < b))"
   ]
  },
  {
   "cell_type": "markdown",
   "metadata": {},
   "source": [
    "### P1.4: Absolutbetrag"
   ]
  },
  {
   "cell_type": "code",
   "execution_count": 37,
   "metadata": {},
   "outputs": [
    {
     "name": "stdout",
     "output_type": "stream",
     "text": [
      "2\n",
      "5\n"
     ]
    }
   ],
   "source": [
    "a = 2\n",
    "print(abs(a))\n",
    "b = -5\n",
    "print(abs(b)) # Die Funktion abs() wandelt die negative Zahl -5 in den Absolutbetrag von -5 um: 5"
   ]
  },
  {
   "cell_type": "markdown",
   "metadata": {},
   "source": [
    "### P1.5: Mengenoperatoren\n",
    "\n",
    "Video: https://grypstube.uni-greifswald.de/w/9ZEaJiSi7GL43p7xaaaw2n"
   ]
  },
  {
   "cell_type": "code",
   "execution_count": 38,
   "metadata": {},
   "outputs": [
    {
     "data": {
      "text/plain": [
       "{1}"
      ]
     },
     "execution_count": 38,
     "metadata": {},
     "output_type": "execute_result"
    }
   ],
   "source": [
    "a = {1, 2, 3} # Hier wird eine Menge als \"set\" erstellt, Syntax: geschweifte Klammern, Komma-separierte Werte\n",
    "b = {0, 1} # Hier wird eine andere Menge als \"set\" erstellt\n",
    "a.intersection(b) # Schnittmenge"
   ]
  },
  {
   "cell_type": "code",
   "execution_count": 39,
   "metadata": {},
   "outputs": [
    {
     "data": {
      "text/plain": [
       "{0, 1, 2, 3}"
      ]
     },
     "execution_count": 39,
     "metadata": {},
     "output_type": "execute_result"
    }
   ],
   "source": [
    "a.union(b) # Vereinigungsmenge"
   ]
  },
  {
   "cell_type": "code",
   "execution_count": 40,
   "metadata": {},
   "outputs": [
    {
     "data": {
      "text/plain": [
       "{2, 3}"
      ]
     },
     "execution_count": 40,
     "metadata": {},
     "output_type": "execute_result"
    }
   ],
   "source": [
    "a.difference(b) # Differenzmenge"
   ]
  },
  {
   "cell_type": "code",
   "execution_count": 1,
   "metadata": {},
   "outputs": [
    {
     "data": {
      "text/plain": [
       "{1, 2, 3, 8}"
      ]
     },
     "execution_count": 1,
     "metadata": {},
     "output_type": "execute_result"
    }
   ],
   "source": [
    "A = {1, 2, 3, 8, 10}\n",
    "\n",
    "B = {8, 10, 11, 12, 14, 15}\n",
    "\n",
    "C = {6, 8, 12, 13, 14}\n",
    "\n",
    "x = B.difference(C)\n",
    "y = A.difference(x)\n",
    "y"
   ]
  },
  {
   "cell_type": "markdown",
   "metadata": {},
   "source": [
    "Die Mächtigkeit einer Menge können wir mit len(), der Funktion zur Bestimmung der Länge eines Sets, ausgeben lassen:"
   ]
  },
  {
   "cell_type": "code",
   "execution_count": 2,
   "metadata": {},
   "outputs": [
    {
     "data": {
      "text/plain": [
       "5"
      ]
     },
     "execution_count": 2,
     "metadata": {},
     "output_type": "execute_result"
    }
   ],
   "source": [
    "len(A)"
   ]
  },
  {
   "cell_type": "markdown",
   "metadata": {},
   "source": [
    "### P1.6: Potenzen\n",
    "\n",
    "Video: https://grypstube.uni-greifswald.de/w/7suoSDUK7dC8jXEhF1NzJP"
   ]
  },
  {
   "cell_type": "code",
   "execution_count": 42,
   "metadata": {},
   "outputs": [
    {
     "data": {
      "text/plain": [
       "9"
      ]
     },
     "execution_count": 42,
     "metadata": {},
     "output_type": "execute_result"
    }
   ],
   "source": [
    "3**2 # drei hoch zwei"
   ]
  },
  {
   "cell_type": "code",
   "execution_count": 43,
   "metadata": {},
   "outputs": [
    {
     "data": {
      "text/plain": [
       "3.0"
      ]
     },
     "execution_count": 43,
     "metadata": {},
     "output_type": "execute_result"
    }
   ],
   "source": [
    "import math\n",
    "math.sqrt(9) # Quadratwurzel aus 9 ist mit der Methode sqrt aus dem importierten Paket math berechenbar"
   ]
  },
  {
   "cell_type": "code",
   "execution_count": 44,
   "metadata": {},
   "outputs": [
    {
     "data": {
      "text/plain": [
       "True"
      ]
     },
     "execution_count": 44,
     "metadata": {},
     "output_type": "execute_result"
    }
   ],
   "source": [
    "4 ** (3/2) == math.sqrt(4)**3"
   ]
  },
  {
   "cell_type": "markdown",
   "metadata": {},
   "source": [
    "### P1.7: Logarithmen"
   ]
  },
  {
   "cell_type": "code",
   "execution_count": 45,
   "metadata": {},
   "outputs": [
    {
     "data": {
      "text/plain": [
       "3.0"
      ]
     },
     "execution_count": 45,
     "metadata": {},
     "output_type": "execute_result"
    }
   ],
   "source": [
    "import math\n",
    "\n",
    "math.log(8,2) # Logarithmus von 8 zur Basis 2\n"
   ]
  },
  {
   "cell_type": "markdown",
   "metadata": {},
   "source": [
    "### P1.8: Loop to compute a sum\n",
    "\n",
    "Video: https://grypstube.uni-greifswald.de/w/m7npV4eh5dyVUXyJtw48VH"
   ]
  },
  {
   "cell_type": "code",
   "execution_count": 46,
   "metadata": {},
   "outputs": [
    {
     "name": "stdout",
     "output_type": "stream",
     "text": [
      "1/2\n"
     ]
    }
   ],
   "source": [
    "from fractions import Fraction\n",
    "\n",
    "p = Fraction(1,6)\n",
    "\n",
    "result = 0\n",
    "for i in range(1,4): # die 4 ist nicht im Wertebereich\n",
    "    result = result + p\n",
    "    \n",
    "print(result)"
   ]
  },
  {
   "cell_type": "markdown",
   "metadata": {},
   "source": [
    "### P1.9: Ableitungen einer Funktion bestimmen\n",
    "\n",
    "Video: https://grypstube.uni-greifswald.de/w/gGxJfu9ML2mn1jxSDWqJZZ"
   ]
  },
  {
   "cell_type": "code",
   "execution_count": 47,
   "metadata": {},
   "outputs": [
    {
     "name": "stdout",
     "output_type": "stream",
     "text": [
      "-1\n"
     ]
    }
   ],
   "source": [
    "from sympy import * # z.B. für symbols() & diff()\n",
    "import math\n",
    "\n",
    "x,y  = symbols(\"x y\",real=True) # für diff ist es notwendig, x und y als Symbole für reelle Zahlen zu deklarieren\n",
    "\n",
    "def f(x):\n",
    "    return(-1 * (x+(-1)**4) -5)\n",
    "\n",
    "f1 = diff(f(x), x) # 1. Ableitung nach x\n",
    "\n",
    "print(f1)"
   ]
  },
  {
   "cell_type": "code",
   "execution_count": 48,
   "metadata": {},
   "outputs": [
    {
     "data": {
      "text/latex": [
       "$\\displaystyle 0$"
      ],
      "text/plain": [
       "0"
      ]
     },
     "execution_count": 48,
     "metadata": {},
     "output_type": "execute_result"
    }
   ],
   "source": [
    "f2 = diff(f1, x) # 2. Ableitung nach x\n",
    "f2"
   ]
  },
  {
   "cell_type": "code",
   "execution_count": 49,
   "metadata": {},
   "outputs": [
    {
     "data": {
      "text/plain": [
       "0"
      ]
     },
     "execution_count": 49,
     "metadata": {},
     "output_type": "execute_result"
    }
   ],
   "source": [
    "# wir verwandeln die symbolische 2. Ableitung in eine Funktion\n",
    "f2_lam = lambdify(x, f2)\n",
    "# damit kann man jetzt auch rechnen, z.B. f2(3)\n",
    "f2_lam(3)"
   ]
  },
  {
   "cell_type": "markdown",
   "metadata": {},
   "source": [
    "### P1.10: Eine Funktion gleich 0 setzen und nach x auflösen\n",
    "\n",
    "Video: https://grypstube.uni-greifswald.de/w/qFvGawzYdNABTNU2M8ZA1k"
   ]
  },
  {
   "cell_type": "code",
   "execution_count": 50,
   "metadata": {},
   "outputs": [
    {
     "data": {
      "text/plain": [
       "[4]"
      ]
     },
     "execution_count": 50,
     "metadata": {},
     "output_type": "execute_result"
    }
   ],
   "source": [
    "from sympy import *\n",
    "\n",
    "x, y  = symbols(\"x y\", real = True) # für solve ist es notwendig, die Symbole x und y als reelle Zahlen zu deklarieren\n",
    "\n",
    "def f(x):\n",
    "    return(8-2*x)\n",
    "\n",
    "solve(f(x), x) # Hier wird x2 = 0 gesetzt und nach x aufgelöst (Ergebnis ist x = 0)"
   ]
  },
  {
   "cell_type": "markdown",
   "metadata": {},
   "source": [
    "### P1.11: Plotten von Funktionen\n",
    "\n",
    "Sie müssen für die Klausur keine Funktionen plotten können. Hier nur für den interessierte Anwender\\*innen:"
   ]
  },
  {
   "cell_type": "code",
   "execution_count": 51,
   "metadata": {},
   "outputs": [
    {
     "data": {
      "text/plain": [
       "[<matplotlib.lines.Line2D at 0x7fd759bcbc70>]"
      ]
     },
     "execution_count": 51,
     "metadata": {},
     "output_type": "execute_result"
    },
    {
     "data": {
      "image/png": "[encoded data removed]",
      "text/plain": [
       "<Figure size 432x288 with 1 Axes>"
      ]
     },
     "metadata": {
      "needs_background": "light"
     },
     "output_type": "display_data"
    }
   ],
   "source": [
    "import matplotlib.pyplot as plt\n",
    "import numpy as np\n",
    "\n",
    "# 100 linearly spaced numbers\n",
    "x = np.linspace(-5,5,100) # auf der X-Achse plotten wir im Bereich von -5 bis 5\n",
    "\n",
    "fig = plt.figure() # leeren Plot anlegen (zeigt noch nichts)\n",
    "\n",
    "ax = fig.add_subplot(1, 1, 1) # im leeren Plot-Objekt ein tatsächliches Plotfenster anlegen (ist dann leer)\n",
    "ax.spines['left'].set_position('center') # rücke die y-Achse in die Mitte des Plots\n",
    "ax.spines['bottom'].set_position('zero') # stelle sicher, dass die x-Achse später auf Höher der 0 geplottet wird\n",
    "ax.spines['right'].set_color('none') # mache die Linie die links den Plot begrenzt unsichtbar\n",
    "ax.spines['top'].set_color('none') # mache die Linie, die oben den Plot begrenzt unsichtbar\n",
    "\n",
    "def f(x):\n",
    "    return(10*x**3 + math.e**x)\n",
    "\n",
    "# plot the function\n",
    "plt.plot(x, f(x), 'r') # 1. Argument sind die x-Werte, die wieter oben mit np.linespace definiert wurden (100)\n",
    "                       # 2. Argument ist die Funktion\n",
    "                       # 3. Argument ist die Farbe der Linie (r für rot)\n"
   ]
  },
  {
   "cell_type": "markdown",
   "metadata": {},
   "source": [
    "### P1.12: Bestimmtes Integral berechnen\n",
    "\n",
    "Video: https://grypstube.uni-greifswald.de/w/s1HxrrkMhFk2Yx1uUVVoxD"
   ]
  },
  {
   "cell_type": "code",
   "execution_count": 31,
   "metadata": {},
   "outputs": [
    {
     "name": "stdout",
     "output_type": "stream",
     "text": [
      "24.0\n",
      "2.6645352591003757e-13\n"
     ]
    }
   ],
   "source": [
    "from scipy import integrate \n",
    "\n",
    "def f(x):\n",
    "    return(6*x**3+x)\n",
    "\n",
    "integral, error = integrate.quad(f, 1, 2) # 1. Argument ist der Funktionsname\n",
    "                                          # 2. Argument ist die untere Grenze des Integrals\n",
    "                                          # 3. Argument ist die obere Gernze des Integrals\n",
    "print(integral)\n",
    "print(error)"
   ]
  }
 ],
 "metadata": {
  "kernelspec": {
   "display_name": "Python 3",
   "language": "python",
   "name": "python3"
  },
  "language_info": {
   "codemirror_mode": {
    "name": "ipython",
    "version": 3
   },
   "file_extension": ".py",
   "mimetype": "text/x-python",
   "name": "python",
   "nbconvert_exporter": "python",
   "pygments_lexer": "ipython3",
   "version": "3.9.2"
  }
 },
 "nbformat": 4,
 "nbformat_minor": 4
}
