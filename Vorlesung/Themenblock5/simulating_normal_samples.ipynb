{
 "cells": [
  {
   "cell_type": "markdown",
   "id": "48a6e4ad-9607-4535-9545-d826cdff9411",
   "metadata": {},
   "source": [
    "# Simulated Data from Normal Distributions in Boxplots"
   ]
  },
  {
   "cell_type": "code",
   "execution_count": 23,
   "id": "d2c9f64e-f1b9-4188-b59c-9ad46e391c5c",
   "metadata": {},
   "outputs": [
    {
     "data": {
      "image/png": "[encoded data removed]",
      "text/plain": [
       "<Figure size 432x288 with 1 Axes>"
      ]
     },
     "metadata": {
      "needs_background": "light"
     },
     "output_type": "display_data"
    }
   ],
   "source": [
    "import numpy as np\n",
    "import matplotlib.pyplot as plt\n",
    "\n",
    "# number of data points, change this, play with this!\n",
    "nPoints = 10\n",
    "\n",
    "# Generate 10 sets of data points from a normal distribution\n",
    "mean = 3\n",
    "std_dev = 2\n",
    "num_sets = 10\n",
    "data_sets = []\n",
    "for _ in range(num_sets):\n",
    "    data = np.random.normal(mean, std_dev, nPoints)\n",
    "    data_sets.append(data)\n",
    "\n",
    "# Create a list of x-positions for each box\n",
    "positions = np.arange(1, num_sets + 1)\n",
    "\n",
    "# Create a boxplot for all the data sets\n",
    "plt.boxplot(data_sets, positions=positions, labels=positions)\n",
    "plt.title('Boxplot of Data Sets')\n",
    "plt.xlabel('Data Set')\n",
    "plt.ylabel('Value')\n",
    "\n",
    "# Display the plot\n",
    "plt.show()"
   ]
  }
 ],
 "metadata": {
  "kernelspec": {
   "display_name": "Python 3 (ipykernel)",
   "language": "python",
   "name": "python3"
  },
  "language_info": {
   "codemirror_mode": {
    "name": "ipython",
    "version": 3
   },
   "file_extension": ".py",
   "mimetype": "text/x-python",
   "name": "python",
   "nbconvert_exporter": "python",
   "pygments_lexer": "ipython3",
   "version": "3.9.2"
  }
 },
 "nbformat": 4,
 "nbformat_minor": 5
}
