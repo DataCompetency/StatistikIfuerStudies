{
 "cells": [
  {
   "cell_type": "markdown",
   "metadata": {},
   "source": [
    "# Python Material zu Themenblock 5: Schließende Statistik\n",
    "\n",
    "## t-Test\n",
    "\n",
    "### P5.1 Quantil aus der t-Verteilung\n",
    "\n",
    "Wir berechnen den kritischen Wert zu gegebenen Freiheitsgraden (degrees of freedom) und einem gegebenen Alpha-Fehler wie folgt (Beispiel im Vorlesungsskript S. 12):"
   ]
  },
  {
   "cell_type": "code",
   "execution_count": 1,
   "metadata": {},
   "outputs": [
    {
     "name": "stdout",
     "output_type": "stream",
     "text": [
      "Das 97.5 %-Quantil der t-Verteilung mit 18 Freiheitsgraden ist:\n"
     ]
    },
    {
     "data": {
      "text/plain": [
       "2.10092204024096"
      ]
     },
     "execution_count": 1,
     "metadata": {},
     "output_type": "execute_result"
    }
   ],
   "source": [
    "import scipy.stats\n",
    "\n",
    "alpha=0.05/2 # durch zwei teilen, wenn zweiseitig getestet wird\n",
    "dfs = 18 # Freiheitsgrade\n",
    "print(\"Das\", 100*(1-alpha), \"%-Quantil der t-Verteilung mit\", dfs, \"Freiheitsgraden ist:\")\n",
    "scipy.stats.t(df=18).ppf(1-alpha)"
   ]
  },
  {
   "cell_type": "markdown",
   "metadata": {},
   "source": [
    "### P5.2 p-Wert zu bekannter Teststatistik\n",
    "\n",
    "Beispiel im Vorlesungsskript auf S. 15:"
   ]
  },
  {
   "cell_type": "code",
   "execution_count": 2,
   "metadata": {},
   "outputs": [
    {
     "name": "stdout",
     "output_type": "stream",
     "text": [
      "Der p-Wert zur Teststatistik 1.77 mit 18 Freiheitsgraden ist:\n"
     ]
    },
    {
     "data": {
      "text/plain": [
       "0.046831817520512686"
      ]
     },
     "execution_count": 2,
     "metadata": {},
     "output_type": "execute_result"
    }
   ],
   "source": [
    "import scipy.stats\n",
    "\n",
    "T = 1.77 # Teststatistik\n",
    "dfs = 18 # Freiheitsgrade\n",
    "print(\"Der p-Wert zur Teststatistik\", T, \"mit\", dfs, \"Freiheitsgraden ist:\")\n",
    "1-scipy.stats.t(df=dfs).cdf(T)"
   ]
  },
  {
   "cell_type": "markdown",
   "metadata": {},
   "source": [
    "### P5.3 Klassischer t-Test basierend auf csv-Datei mit Daten\n"
   ]
  },
  {
   "cell_type": "markdown",
   "metadata": {},
   "source": [
    "Beispiel im Vorlesungsskript auf S. 19:"
   ]
  },
  {
   "cell_type": "code",
   "execution_count": 3,
   "metadata": {},
   "outputs": [
    {
     "name": "stdout",
     "output_type": "stream",
     "text": [
      "   treatment  response\n",
      "0      light        21\n",
      "1      light        39\n",
      "2      light        31\n",
      "3      light        13\n",
      "4      light        52\n",
      "5      light        39\n",
      "6      light        55\n",
      "7      light        50\n",
      "8      light        29\n",
      "9      light        17\n",
      "10      dark        22\n",
      "11      dark        16\n",
      "12      dark        20\n",
      "13      dark        14\n",
      "14      dark        32\n",
      "15      dark        28\n",
      "16      dark        36\n",
      "17      dark        41\n",
      "18      dark        17\n",
      "19      dark        22\n",
      "t-Test:\n",
      "Ttest_indResult(statistic=1.7748239349298847, pvalue=0.04642010587805299)\n",
      "1.7748239349298847\n",
      "Confidence Interval:\n",
      "(0.2250652639957771, inf)\n"
     ]
    },
    {
     "data": {
      "text/plain": [
       "0.04642010587805299"
      ]
     },
     "execution_count": 3,
     "metadata": {},
     "output_type": "execute_result"
    }
   ],
   "source": [
    "import pandas as pd\n",
    "from scipy import stats\n",
    "import statsmodels.stats.api as sms\n",
    "\n",
    "senf = pd.read_csv('mustard.csv')\n",
    "print(senf)\n",
    "X1 = senf[senf['treatment'] == 'light']['response'] # adapt field to column names!\n",
    "X2 = senf[senf['treatment'] == 'dark']['response'] # adapt field to column names!\n",
    "\n",
    "print(\"t-Test:\") # var_equal = True -> Default t-Test für gleiche Varianzen\n",
    "print(stats.ttest_ind(X1, X2, equal_var=True, alternative = \"greater\")) # einseitig Anstieg\n",
    "                                            # alternative = \"less\" für einseitig Abfall\n",
    "                                            # alternative = \"two-sided\" für zweiseitig\n",
    "        \n",
    "print(\"Confidence Interval:\")\n",
    "print(sms.CompareMeans(sms.DescrStatsW(X1), \n",
    "                       sms.DescrStatsW(X2)).tconfint_diff(alpha=0.05, \n",
    "                                                          usevar=\"pooled\",\n",
    "                                                          alternative = \"larger\"))\n",
    "                        # Achtung: hier heißt es usevar=\"pooled\" für gleiche Varianzen\n",
    "                        # Die Hypothesen sind:  \"two-sided\", \"larger\", \"smaller\""
   ]
  },
  {
   "cell_type": "markdown",
   "metadata": {},
   "source": [
    "<font size=\"3\"><div class=\"alert alert-warning\"><b>Achtung:</b> <br> \n",
    "Für den Studiengang **Pharmazie** endet der Stoff der Veranstaltung hier! (Bis zum Ende durcharbeiten ist natürlich trotzdem empfohlen, aber prüfen werden wir Sie über die folgenden Inhalte nicht. Dies gilt ausschließlich für Studierende der Pharmazie.)\n",
    "</div>"
   ]
  },
  {
   "cell_type": "markdown",
   "metadata": {},
   "source": [
    "### P5.4 Welch-t-Test basierend auf csv-Datei mit Daten\n",
    "\n",
    "Beispiel im Vorlesungsskript auf S. 22ff. Wir beginnen mit dem Boxplot. Der Boxplot sollte bei metrischen Daten vor jedem statistischen Test Standard sein:"
   ]
  },
  {
   "cell_type": "code",
   "execution_count": 6,
   "metadata": {},
   "outputs": [
    {
     "data": {
      "image/png": "[encoded data removed]",
      "text/plain": [
       "<Figure size 864x576 with 1 Axes>"
      ]
     },
     "metadata": {
      "needs_background": "light"
     },
     "output_type": "display_data"
    }
   ],
   "source": [
    "import pandas as pd\n",
    "import matplotlib.pyplot as plt\n",
    "\n",
    "senf = pd.read_csv('mustard.csv')\n",
    "fig, ax = plt.subplots(figsize=(12,8)) # hiermit vermeiden wir einen Überlapp der Überschrift\n",
    "bp = senf.boxplot(column=['response'], by='treatment', \n",
    "                  fontsize='large', showmeans=True,meanline=True, \n",
    "                  grid = False, ax=ax)\n",
    "plt.savefig('boxplot_mustard.pdf')"
   ]
  },
  {
   "cell_type": "markdown",
   "metadata": {},
   "source": [
    "Jetzt folgt der Welch-t-Test:"
   ]
  },
  {
   "cell_type": "code",
   "execution_count": 7,
   "metadata": {},
   "outputs": [
    {
     "name": "stdout",
     "output_type": "stream",
     "text": [
      "t-Test:\n",
      "Ttest_indResult(statistic=1.774823934929885, pvalue=0.048191388751293196)\n",
      "Confidence Interval:\n",
      "(0.11504344374869646, inf)\n"
     ]
    }
   ],
   "source": [
    "import pandas as pd\n",
    "from scipy import stats\n",
    "import statsmodels.stats.api as sms\n",
    "\n",
    "senf = pd.read_csv('mustard.csv')\n",
    "X1 = senf[senf['treatment'] == 'light']['response'] # adapt field to column names!\n",
    "X2 = senf[senf['treatment'] == 'dark']['response'] # adapt field to column names!\n",
    "\n",
    "print(\"t-Test:\") # var_equal = True -> Default t-Test für gleiche Varianzen\n",
    "print(stats.ttest_ind(X1, X2, equal_var=False, alternative = \"greater\")) # einseitig Anstieg\n",
    "                                            # alternative = \"less\" für einseitig Abfall\n",
    "                                            # alternative = \"two-sided\" für zweiseitig\n",
    "\n",
    "print(\"Confidence Interval:\")\n",
    "print(sms.CompareMeans(sms.DescrStatsW(X1), \n",
    "                       sms.DescrStatsW(X2)).tconfint_diff(alpha=0.05, \n",
    "                                                          usevar=\"unequal\",\n",
    "                                                          alternative = \"larger\"))\n",
    "                        # Achtung: hier heißt es usevar=\"pooled\" für gleiche Varianzen\n",
    "                        # Die Hypothesen sind:  \"two-sided\", \"larger\", \"smaller\""
   ]
  },
  {
   "cell_type": "markdown",
   "metadata": {},
   "source": [
    "### P5.5 Gepaarter t-Test\n",
    "\n",
    "Beispiel im Vorlesungsskript auf S. 26ff. Wir beginnen wieder mit dem Boxplot:"
   ]
  },
  {
   "cell_type": "code",
   "execution_count": 8,
   "metadata": {},
   "outputs": [
    {
     "name": "stdout",
     "output_type": "stream",
     "text": [
      "             City  1972  1968\n",
      "0            N.Y.  0.45  0.42\n",
      "1            L.A.  0.50  0.50\n",
      "2         Chicago  0.52  0.52\n",
      "3    Philadelphia  0.45  0.45\n",
      "4         Detroit  0.46  0.43\n",
      "5   San Francisco  0.55  0.55\n",
      "6          Boston  0.60  0.45\n",
      "7           Pitt.  0.49  0.34\n",
      "8       St. Louis  0.35  0.45\n",
      "9     Connecticut  0.55  0.54\n",
      "10     Wash. D.C.  0.52  0.42\n",
      "11          Cinn.  0.53  0.51\n",
      "12      Baltimore  0.57  0.49\n",
      "13         Newark  0.53  0.54\n",
      "14  Minn/St. Paul  0.59  0.50\n",
      "15        Buffalo  0.64  0.58\n",
      "16        Houston  0.50  0.49\n",
      "17      Patterson  0.57  0.56\n",
      "18         Dallas  0.64  0.63\n"
     ]
    },
    {
     "data": {
      "image/png": "[encoded data removed]",
      "text/plain": [
       "<Figure size 432x288 with 1 Axes>"
      ]
     },
     "metadata": {
      "needs_background": "light"
     },
     "output_type": "display_data"
    }
   ],
   "source": [
    "import pandas as pd\n",
    "import matplotlib.pyplot as plt\n",
    "\n",
    "women = pd.read_csv('women.csv')\n",
    "print(women)\n",
    "diffs = women['1972'] - women['1968']\n",
    "\n",
    "plt.boxplot(diffs)\n",
    "plt.savefig('boxplot_women.pdf')"
   ]
  },
  {
   "cell_type": "markdown",
   "metadata": {},
   "source": [
    "Es folgt der t-Test für gepaarte Stichproben:"
   ]
  },
  {
   "cell_type": "code",
   "execution_count": 9,
   "metadata": {},
   "outputs": [
    {
     "name": "stdout",
     "output_type": "stream",
     "text": [
      "p-value is: 0.012176298793418172\n",
      "Confidence interval is:\n"
     ]
    },
    {
     "data": {
      "text/plain": [
       "(0.009917895309433194, inf)"
      ]
     },
     "execution_count": 9,
     "metadata": {},
     "output_type": "execute_result"
    }
   ],
   "source": [
    "from scipy import stats\n",
    "import statsmodels.stats.api as sms\n",
    "import pandas as pd\n",
    "\n",
    "women = pd.read_csv('women.csv')\n",
    "diffs = women['1972'] - women['1968']\n",
    "\n",
    "T, p = stats.ttest_rel(women['1972'], women['1968'], alternative = \"greater\")\n",
    "print(\"p-value is:\", p)\n",
    "print(\"Confidence interval is:\")\n",
    "sms.DescrStatsW(diffs).tconfint_mean(alternative=\"larger\")"
   ]
  },
  {
   "cell_type": "markdown",
   "metadata": {},
   "source": [
    "## P5.6 Wilcoxon-Test\n",
    "\n",
    "Beispiel im Vorlesungsskript auf S. 31ff. Wir beginnen wieder mit dem Boxplot:"
   ]
  },
  {
   "cell_type": "code",
   "execution_count": 10,
   "metadata": {},
   "outputs": [
    {
     "data": {
      "image/png": "[encoded data removed]",
      "text/plain": [
       "<Figure size 432x288 with 1 Axes>"
      ]
     },
     "metadata": {
      "needs_background": "light"
     },
     "output_type": "display_data"
    }
   ],
   "source": [
    "import matplotlib.pyplot as plt\n",
    "\n",
    "pharmazie = [28, 30, 30.2, 30.3, 34.4, 34.3]\n",
    "geographie = [24.7, 25.7, 27, 30, 28.9]\n",
    "\n",
    "plt.boxplot([pharmazie, geographie])\n",
    "plt.savefig('boxplot_arm.pdf')"
   ]
  },
  {
   "cell_type": "markdown",
   "metadata": {},
   "source": [
    "Anschließend folgt der Wilcoxon-Test (hier benutzen wir die Funktion für den U-Test, aber der p-Wert ist identisch):"
   ]
  },
  {
   "cell_type": "code",
   "execution_count": 10,
   "metadata": {},
   "outputs": [
    {
     "name": "stdout",
     "output_type": "stream",
     "text": [
      "MannwhitneyuResult(statistic=27.5, pvalue=0.022173545386486773)\n"
     ]
    }
   ],
   "source": [
    "import scipy.stats as scs\n",
    "\n",
    "pharmazie = [28, 30, 30.2, 30.3, 34.4, 34.3]\n",
    "geographie = [24.7, 25.7, 27, 30, 28.9]\n",
    "\n",
    "print(scs.mannwhitneyu(pharmazie, geographie, alternative='two-sided', \n",
    "                               use_continuity = False))"
   ]
  },
  {
   "cell_type": "markdown",
   "metadata": {},
   "source": [
    "## $\\chi^{2}$-Tests\n",
    "\n",
    "### P5.7 $\\chi^{2}$-Anpassungstest\n",
    "\n",
    "Beispiel im Vorlesungsskript auf S. 39f:"
   ]
  },
  {
   "cell_type": "code",
   "execution_count": 12,
   "metadata": {},
   "outputs": [],
   "source": [
    "import scipy.stats as scs\n",
    "import numpy as np\n",
    "\n",
    "obs = np.array([2, 12, 18, 43])\n",
    "counts = obs.sum() # benötigen wir zur Berechnung der \"erwarteten counts\" in der nächsten Zeile\n",
    "exp = np.array([counts*0.1733, counts*0.07, counts*0.08, counts*0.6767]) # hier werden \"erwartete Counts\" angegeben\n",
    "\n",
    "scs.chisquare(obs, f_exp=exp)"
   ]
  },
  {
   "cell_type": "markdown",
   "metadata": {},
   "source": [
    "### P5.8 $\\chi^{2}$-Homogenitätstest\n",
    "\n",
    "Beispiel im Vorlesungsskript auf S. 42:"
   ]
  },
  {
   "cell_type": "code",
   "execution_count": 9,
   "metadata": {},
   "outputs": [
    {
     "name": "stdout",
     "output_type": "stream",
     "text": [
      "Chi2: 6.0618640891868605\n",
      "p-value: 0.013813180547006329\n"
     ]
    }
   ],
   "source": [
    "import scipy.stats as scs\n",
    "import numpy as np\n",
    "\n",
    "barley = np.array([[41, 15], [8, 11]])\n",
    "\n",
    "chi2, p, df, input_data = scs.chi2_contingency(barley, correction = False)\n",
    "print(\"Chi2: \" + str(chi2))\n",
    "print(\"p-value: \" + str(p))"
   ]
  },
  {
   "cell_type": "code",
   "execution_count": null,
   "metadata": {},
   "outputs": [],
   "source": []
  }
 ],
 "metadata": {
  "kernelspec": {
   "display_name": "Python 3 (ipykernel)",
   "language": "python",
   "name": "python3"
  },
  "language_info": {
   "codemirror_mode": {
    "name": "ipython",
    "version": 3
   },
   "file_extension": ".py",
   "mimetype": "text/x-python",
   "name": "python",
   "nbconvert_exporter": "python",
   "pygments_lexer": "ipython3",
   "version": "3.9.2"
  }
 },
 "nbformat": 4,
 "nbformat_minor": 4
}
