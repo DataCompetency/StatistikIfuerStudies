{
 "cells": [
  {
   "cell_type": "markdown",
   "metadata": {},
   "source": [
    "# Python Material zu Themenblock 4: Zufallsstichproben und empirische Verteilungen\n",
    "\n",
    "## P4.1 Das Einlesen von Urlisten aus Dateien\n",
    "\n",
    "Video: https://grypstube.uni-greifswald.de/w/q9ucS9iQhEsfi7kyeKPBtk\n",
    "\n",
    "S. 6 im Vorlesungsskript.\n",
    "\n",
    "Sie können Ihre Daten in gängigen Tabellenkalkulationsprogrammen (z.B. in Excel, Gnumeric, LibreOffice Calc) erfassen und anschließend im \\*.csv-Format speichern. Dieses Format lässt in Python gut einlesen. Dafür verwenden wir da Paket pandas."
   ]
  },
  {
   "cell_type": "code",
   "execution_count": 57,
   "metadata": {},
   "outputs": [
    {
     "data": {
      "text/html": [
       "<div>\n",
       "<style scoped>\n",
       "    .dataframe tbody tr th:only-of-type {\n",
       "        vertical-align: middle;\n",
       "    }\n",
       "\n",
       "    .dataframe tbody tr th {\n",
       "        vertical-align: top;\n",
       "    }\n",
       "\n",
       "    .dataframe thead th {\n",
       "        text-align: right;\n",
       "    }\n",
       "</style>\n",
       "<table border=\"1\" class=\"dataframe\">\n",
       "  <thead>\n",
       "    <tr style=\"text-align: right;\">\n",
       "      <th></th>\n",
       "      <th>Versuchsnummer</th>\n",
       "      <th>Ausprägung</th>\n",
       "    </tr>\n",
       "  </thead>\n",
       "  <tbody>\n",
       "    <tr>\n",
       "      <th>0</th>\n",
       "      <td>1</td>\n",
       "      <td>1</td>\n",
       "    </tr>\n",
       "    <tr>\n",
       "      <th>1</th>\n",
       "      <td>2</td>\n",
       "      <td>0</td>\n",
       "    </tr>\n",
       "    <tr>\n",
       "      <th>2</th>\n",
       "      <td>3</td>\n",
       "      <td>1</td>\n",
       "    </tr>\n",
       "    <tr>\n",
       "      <th>3</th>\n",
       "      <td>4</td>\n",
       "      <td>1</td>\n",
       "    </tr>\n",
       "    <tr>\n",
       "      <th>4</th>\n",
       "      <td>5</td>\n",
       "      <td>0</td>\n",
       "    </tr>\n",
       "    <tr>\n",
       "      <th>5</th>\n",
       "      <td>6</td>\n",
       "      <td>0</td>\n",
       "    </tr>\n",
       "    <tr>\n",
       "      <th>6</th>\n",
       "      <td>7</td>\n",
       "      <td>0</td>\n",
       "    </tr>\n",
       "    <tr>\n",
       "      <th>7</th>\n",
       "      <td>8</td>\n",
       "      <td>1</td>\n",
       "    </tr>\n",
       "    <tr>\n",
       "      <th>8</th>\n",
       "      <td>9</td>\n",
       "      <td>1</td>\n",
       "    </tr>\n",
       "    <tr>\n",
       "      <th>9</th>\n",
       "      <td>10</td>\n",
       "      <td>0</td>\n",
       "    </tr>\n",
       "  </tbody>\n",
       "</table>\n",
       "</div>"
      ],
      "text/plain": [
       "   Versuchsnummer  Ausprägung\n",
       "0               1           1\n",
       "1               2           0\n",
       "2               3           1\n",
       "3               4           1\n",
       "4               5           0\n",
       "5               6           0\n",
       "6               7           0\n",
       "7               8           1\n",
       "8               9           1\n",
       "9              10           0"
      ]
     },
     "execution_count": 57,
     "metadata": {},
     "output_type": "execute_result"
    }
   ],
   "source": [
    "import pandas as pd\n",
    "\n",
    "melon = pd.read_csv('urliste.csv', sep='\\t')\n",
    "melon"
   ]
  },
  {
   "cell_type": "markdown",
   "metadata": {},
   "source": [
    "## P4.2 Eine Tabelle direkt in Python erstellen\n",
    "\n",
    "Ergänzend zu S. 6 im Vorlesungsskript.\n",
    "\n",
    "Video: https://grypstube.uni-greifswald.de/w/7Xsof9JABkTFqYiFR6AdWf\n",
    "\n",
    "Wenn die Daten klein sind, kann es sinnvoll sein, sie direkt in Python einzutippen. Die aus urliste.csv eingelesenen Daten hätte man wie folgt direkt eingeben und als \\*.csv exportieren können:"
   ]
  },
  {
   "cell_type": "code",
   "execution_count": 58,
   "metadata": {},
   "outputs": [
    {
     "data": {
      "text/html": [
       "<div>\n",
       "<style scoped>\n",
       "    .dataframe tbody tr th:only-of-type {\n",
       "        vertical-align: middle;\n",
       "    }\n",
       "\n",
       "    .dataframe tbody tr th {\n",
       "        vertical-align: top;\n",
       "    }\n",
       "\n",
       "    .dataframe thead th {\n",
       "        text-align: right;\n",
       "    }\n",
       "</style>\n",
       "<table border=\"1\" class=\"dataframe\">\n",
       "  <thead>\n",
       "    <tr style=\"text-align: right;\">\n",
       "      <th></th>\n",
       "      <th>Nr.</th>\n",
       "      <th>Alter</th>\n",
       "      <th>Körpergröße</th>\n",
       "      <th>Haarfarbe</th>\n",
       "    </tr>\n",
       "  </thead>\n",
       "  <tbody>\n",
       "    <tr>\n",
       "      <th>0</th>\n",
       "      <td>1</td>\n",
       "      <td>20</td>\n",
       "      <td>1.76</td>\n",
       "      <td>1</td>\n",
       "    </tr>\n",
       "    <tr>\n",
       "      <th>1</th>\n",
       "      <td>2</td>\n",
       "      <td>21</td>\n",
       "      <td>1.83</td>\n",
       "      <td>3</td>\n",
       "    </tr>\n",
       "    <tr>\n",
       "      <th>2</th>\n",
       "      <td>3</td>\n",
       "      <td>19</td>\n",
       "      <td>1.60</td>\n",
       "      <td>2</td>\n",
       "    </tr>\n",
       "    <tr>\n",
       "      <th>3</th>\n",
       "      <td>4</td>\n",
       "      <td>18</td>\n",
       "      <td>1.50</td>\n",
       "      <td>2</td>\n",
       "    </tr>\n",
       "    <tr>\n",
       "      <th>4</th>\n",
       "      <td>5</td>\n",
       "      <td>20</td>\n",
       "      <td>1.79</td>\n",
       "      <td>1</td>\n",
       "    </tr>\n",
       "  </tbody>\n",
       "</table>\n",
       "</div>"
      ],
      "text/plain": [
       "   Nr.  Alter  Körpergröße  Haarfarbe\n",
       "0    1     20         1.76          1\n",
       "1    2     21         1.83          3\n",
       "2    3     19         1.60          2\n",
       "3    4     18         1.50          2\n",
       "4    5     20         1.79          1"
      ]
     },
     "execution_count": 58,
     "metadata": {},
     "output_type": "execute_result"
    }
   ],
   "source": [
    "import pandas as pd\n",
    "\n",
    "beispiel_haarfarbe = {\"Nr.\" : [1, 2, 3, 4, 5],\n",
    "                      \"Alter\" : [20, 21, 19, 18, 20],\n",
    "                      \"Körpergröße\" : [1.76, 1.83, 1.60, 1.50, 1.79],\n",
    "                      \"Haarfarbe\" : [1, 3, 2, 2, 1]}\n",
    "\n",
    "haarfarbe_pd = pd.DataFrame(data=beispiel_haarfarbe) # Vorlesungsskript S. 5\n",
    "haarfarbe_pd.to_csv(r'haarfarbe.csv', index = False, sep = \"\\t\", header = True)\n",
    "haarfarbe_pd"
   ]
  },
  {
   "cell_type": "markdown",
   "metadata": {},
   "source": [
    "## P4.3 Das Eingeben eines Vektors\n",
    "\n",
    "Ergänzend zu S. 6 im Vorlesungsskript.\n",
    "\n",
    "Video: https://grypstube.uni-greifswald.de/w/2PP6vutR2N6xGeg85aJTx1"
   ]
  },
  {
   "cell_type": "code",
   "execution_count": 59,
   "metadata": {},
   "outputs": [
    {
     "data": {
      "text/plain": [
       "[1, 0, 1, 1, 0, 0, 0, 1, 1, 0]"
      ]
     },
     "execution_count": 59,
     "metadata": {},
     "output_type": "execute_result"
    }
   ],
   "source": [
    "auspraegung = [1, 0, 1, 1, 0, 0, 0, 1, 1, 0] # Vorlesungskript S. 5\n",
    "auspraegung"
   ]
  },
  {
   "cell_type": "markdown",
   "metadata": {},
   "source": [
    "Für manche Berechnungen müssen sich die Werte in einem Numpy-Array befinden. Man erstellt das wie folgt:"
   ]
  },
  {
   "cell_type": "code",
   "execution_count": 60,
   "metadata": {},
   "outputs": [
    {
     "data": {
      "text/plain": [
       "array([1, 0, 1, 1, 0, 0, 0, 1, 1, 0])"
      ]
     },
     "execution_count": 60,
     "metadata": {},
     "output_type": "execute_result"
    }
   ],
   "source": [
    "import numpy as np\n",
    "\n",
    "auspraegung_np = np.array(auspraegung)\n",
    "auspraegung_np"
   ]
  },
  {
   "cell_type": "markdown",
   "metadata": {},
   "source": [
    "## P4.4 Berechnen des Modalwerts\n",
    "\n",
    "Video: https://grypstube.uni-greifswald.de/w/1oWTgN25sM5GFFaw9rhgFu\n",
    "\n",
    "Beispiel im Vorlesungsskript S. 9:"
   ]
  },
  {
   "cell_type": "code",
   "execution_count": 61,
   "metadata": {},
   "outputs": [
    {
     "data": {
      "text/plain": [
       "'pink'"
      ]
     },
     "execution_count": 61,
     "metadata": {},
     "output_type": "execute_result"
    }
   ],
   "source": [
    "import itertools # mit itertools kann man Dinge wiederholen\n",
    "from statistics import mode # mode = Modalwert\n",
    "\n",
    "# die folgenden Zeilen erstellen eine Liste mit Daten, hier itertools hilfreich\n",
    "r = [\"red\"]\n",
    "p = [\"pink\"]\n",
    "w = [\"white\"]\n",
    "flowers = list(itertools.chain.from_iterable(\n",
    "    itertools.repeat(x, 35) for x in r)) + list(\n",
    "    itertools.chain.from_iterable(\n",
    "        itertools.repeat(x, 72) for x in p)) + list(\n",
    "    itertools.chain.from_iterable(\n",
    "        itertools.repeat(x, 28) for x in w))\n",
    "\n",
    "mode(flowers) # hier wird der Modalwert berechnet"
   ]
  },
  {
   "cell_type": "markdown",
   "metadata": {},
   "source": [
    "## P4.5 Berechnen von Quantilen\n",
    "\n",
    "Video: https://grypstube.uni-greifswald.de/w/aDuhjZsyfSAb5eRoqxddhw\n",
    "\n",
    "Beispiel im Vorlesungsskript S. 11f:"
   ]
  },
  {
   "cell_type": "code",
   "execution_count": 62,
   "metadata": {},
   "outputs": [
    {
     "name": "stdout",
     "output_type": "stream",
     "text": [
      "Ausgabe von Quantilen [0.7, 0.72, 0.1111111111111111] berechnet mit Spalte in Dataframe:\n",
      "0.700000    4.30\n",
      "0.720000    4.48\n",
      "0.111111    2.00\n",
      "Name: Auspr., dtype: float64\n",
      "Ausgabe von Quanthttps://grypstube.uni-greifswald.de/w/1oWTgN25sM5GFFaw9rhgFuilen [0.7, 0.72, 0.1111111111111111] berechnet mit Liste:\n",
      "[4.3  4.48 2.  ]\n"
     ]
    }
   ],
   "source": [
    "#mport pandas as pd\n",
    "q = [0.7, 0.72, 1/9]\n",
    "krankheitstage = pd.read_csv('krankheitstage.csv', sep='\\t')\n",
    "print(\"Ausgabe von Quantilen\", q, \"berechnet mit Spalte in Dataframe:\")\n",
    "print(krankheitstage['Auspr.'].quantile(q))\n",
    "\n",
    "# oder ohne pandas data frame:\n",
    "import numpy as np\n",
    "krankheitstage = [4, 4, 5, 4, 6, 5, 1, 2, 3, 3]\n",
    "print(\"Ausgabe von Quanthttps://grypstube.uni-greifswald.de/w/1oWTgN25sM5GFFaw9rhgFuilen\", q, \"berechnet mit Liste:\")\n",
    "print(np.quantile(krankheitstage, q))"
   ]
  },
  {
   "cell_type": "markdown",
   "metadata": {},
   "source": [
    "### P4.6 Median\n",
    "\n",
    "Video: https://grypstube.uni-greifswald.de/w/8ZGtRPt22TVLL7S5VEC187\n",
    "\n",
    "Beispiel im Vorlesungsskript auf S. 12:"
   ]
  },
  {
   "cell_type": "code",
   "execution_count": 63,
   "metadata": {},
   "outputs": [
    {
     "name": "stdout",
     "output_type": "stream",
     "text": [
      "Ausgabe von Median berechnet mit Spalte in Dataframe:\n",
      "4.0\n",
      "Ausgabe von Median berechnet mit Liste:\n",
      "4.0\n"
     ]
    }
   ],
   "source": [
    "import pandas as pd\n",
    "\n",
    "krankheitstage = pd.read_csv('krankheitstage.csv', sep='\\t')\n",
    "print(\"Ausgabe von Median berechnet mit Spalte in Dataframe:\")\n",
    "print(krankheitstage['Auspr.'].median())\n",
    "\n",
    "# oder ohne pandas data frame:\n",
    "import numpy as np\n",
    "krankheitstage = [4, 4, 5, 4, 6, 5, 1, 2, 3, 3]\n",
    "print(\"Ausgabe von Median berechnet mit Liste:\")\n",
    "print(np.median(krankheitstage))"
   ]
  },
  {
   "cell_type": "markdown",
   "metadata": {},
   "source": [
    "### P4.7 Arithmetischen Mittelwert berechnen\n",
    "\n",
    "Video: https://grypstube.uni-greifswald.de/w/vativNbM7ugRjVaHNevtRV\n",
    "\n",
    "Beispiel im Vorlesungsskript auf S. 13:"
   ]
  },
  {
   "cell_type": "code",
   "execution_count": 64,
   "metadata": {},
   "outputs": [
    {
     "name": "stdout",
     "output_type": "stream",
     "text": [
      "Ausgabe des arithmetischen Mittelwerts berechnet mit Spalte in Dataframe:\n",
      "3.7\n",
      "Ausgabe des arithmetischen Mittelwerts berechnet mit Liste:\n",
      "3.7\n"
     ]
    }
   ],
   "source": [
    "import pandas as pd\n",
    "\n",
    "krankheitstage = pd.read_csv('krankheitstage.csv', sep='\\t')\n",
    "print(\"Ausgabe des arithmetischen Mittelwerts berechnet mit Spalte in Dataframe:\")\n",
    "print(krankheitstage['Auspr.'].mean())\n",
    "\n",
    "# oder ohne pandas data frame:\n",
    "import numpy as np\n",
    "krankheitstage = [4, 4, 5, 4, 6, 5, 1, 2, 3, 3]\n",
    "print(\"Ausgabe des arithmetischen Mittelwerts berechnet mit Liste:\")\n",
    "print(np.mean(krankheitstage))"
   ]
  },
  {
   "cell_type": "markdown",
   "metadata": {},
   "source": [
    "### P4.8 Entropie berechnen\n",
    "\n",
    "Video: https://grypstube.uni-greifswald.de/w/nrTuWhp6iesDdGzEZLdbw8\n",
    "\n",
    "Beispiel im Vorlesungsskript auf S. 14f:"
   ]
  },
  {
   "cell_type": "code",
   "execution_count": 65,
   "metadata": {},
   "outputs": [
    {
     "name": "stdout",
     "output_type": "stream",
     "text": [
      "Ausgabe der Entropie berechnet mit Spalte in Dataframe:\n",
      "2.4464393446710155\n",
      "Ausgabe der Entropie berechnet mit Liste:\n",
      "2.4464393446710155\n"
     ]
    }
   ],
   "source": [
    "# Vorsicht, numpy.entropy() berechnet die Entropie nicht so, wie wir das in der Vorlesung besprochen haben!\n",
    "\n",
    "# Wir definieren die entropy wie in der Vorlesung:\n",
    "def entropy(labels):\n",
    "  value, counts = np.unique(labels, return_counts=True)\n",
    "  norm_counts = counts / counts.sum()\n",
    "  return -(norm_counts * np.log(norm_counts)/np.log(2)).sum()\n",
    "\n",
    "import pandas as pd\n",
    "krankheitstage = pd.read_csv('krankheitstage.csv', sep='\\t')\n",
    "print(\"Ausgabe der Entropie berechnet mit Spalte in Dataframe:\")\n",
    "print(entropy(krankheitstage['Auspr.']))\n",
    "\n",
    "# oder ohne pandas data frame:\n",
    "krankheitstage = [4, 4, 5, 4, 6, 5, 1, 2, 3, 3]\n",
    "print(\"Ausgabe der Entropie berechnet mit Liste:\")\n",
    "print(entropy(krankheitstage))"
   ]
  },
  {
   "cell_type": "markdown",
   "metadata": {},
   "source": [
    "## P4.9 IQR einer Stichprobe berechnen\n",
    "\n",
    "Video: https://grypstube.uni-greifswald.de/w/dLAveMhkEZ7pBLsa91Wmt4\n",
    "\n",
    "Beispiel im Vorlesungsskript auf S. 15f:"
   ]
  },
  {
   "cell_type": "code",
   "execution_count": 66,
   "metadata": {},
   "outputs": [
    {
     "name": "stdout",
     "output_type": "stream",
     "text": [
      "Ausgabe des IQRs berechnet mit Spalte in Dataframe:\n",
      "1.75\n",
      "Ausgabe des IRQs berechnet mit Liste:\n",
      "1.75\n"
     ]
    }
   ],
   "source": [
    "import pandas as pd\n",
    "\n",
    "krankheitstage = pd.read_csv('krankheitstage.csv', sep='\\t')\n",
    "print(\"Ausgabe des IQRs berechnet mit Spalte in Dataframe:\")\n",
    "print(krankheitstage['Auspr.'].quantile(0.75) - krankheitstage['Auspr.'].quantile(0.25))\n",
    "\n",
    "# oder ohne pandas data frame:\n",
    "import numpy as np\n",
    "krankheitstage = [4, 4, 5, 4, 6, 5, 1, 2, 3, 3]\n",
    "IQR = np.quantile(krankheitstage, 0.75) - np.quantile(krankheitstage, 0.25)\n",
    "print(\"Ausgabe des IRQs berechnet mit Liste:\")\n",
    "print(IQR)"
   ]
  },
  {
   "cell_type": "markdown",
   "metadata": {},
   "source": [
    "## P4.10 Empirische Stichprobenvarianz berechnen\n",
    "\n",
    "Video: https://grypstube.uni-greifswald.de/w/dLAveMhkEZ7pBLsa91Wmt4\n",
    "\n",
    "Beispiel im Vorlesungsskript auf S. 17f:"
   ]
  },
  {
   "cell_type": "code",
   "execution_count": 67,
   "metadata": {},
   "outputs": [
    {
     "name": "stdout",
     "output_type": "stream",
     "text": [
      "Ausgabe der Varianz berechnet mit Spalte in Dataframe:\n",
      "2.2333333333333334\n",
      "Ausgabe der Varianz berechnet mit Liste:\n",
      "2.2333333333333334\n"
     ]
    }
   ],
   "source": [
    "import pandas as pd\n",
    "krankheitstage = pd.read_csv('krankheitstage.csv', sep='\\t')\n",
    "print(\"Ausgabe der Varianz berechnet mit Spalte in Dataframe:\")\n",
    "print(krankheitstage['Auspr.'].var())\n",
    "\n",
    "# oder ohne pandas data frame:\n",
    "from statistics import variance\n",
    "krankheitstage = [4, 4, 5, 4, 6, 5, 1, 2, 3, 3]\n",
    "print(\"Ausgabe der Varianz berechnet mit Liste:\")\n",
    "print(variance(krankheitstage))\n",
    "# Vorsicht: np.var() berechnet NICHT die korrigierte empirische Stichprobenvarianz!"
   ]
  },
  {
   "cell_type": "markdown",
   "metadata": {},
   "source": [
    "## P4.11 Standardabweichung berechnen\n",
    "\n",
    "Video: https://grypstube.uni-greifswald.de/w/vVx6yEdUpFQyNSX7R9XT1t\n",
    "\n",
    "Beispiel im Vorlesungsskript auf S. 17f:"
   ]
  },
  {
   "cell_type": "code",
   "execution_count": 68,
   "metadata": {},
   "outputs": [
    {
     "name": "stdout",
     "output_type": "stream",
     "text": [
      "Ausgabe der Standardabweichung berechnet mit Spalte in Dataframe:\n",
      "1.4944341180973264\n",
      "Ausgabe der Standardabweichung berechnet mit Liste:\n",
      "1.4944341180973264\n"
     ]
    }
   ],
   "source": [
    "import pandas as pd\n",
    "krankheitstage = pd.read_csv('krankheitstage.csv', sep='\\t')\n",
    "print(\"Ausgabe der Standardabweichung berechnet mit Spalte in Dataframe:\")\n",
    "print(krankheitstage['Auspr.'].std())\n",
    "\n",
    "# oder ohne pandas data frame:\n",
    "from statistics import stdev\n",
    "krankheitstage = [4, 4, 5, 4, 6, 5, 1, 2, 3, 3]\n",
    "print(\"Ausgabe der Standardabweichung berechnet mit Liste:\")\n",
    "print(stdev(krankheitstage))\n",
    "# Vorsicht: np.std() berechnet NICHT die korrigierte empirische Standardabweichung!"
   ]
  },
  {
   "cell_type": "markdown",
   "metadata": {},
   "source": [
    "## P4.12 Z-Transformation von Datenpunkten berechnen\n",
    "\n",
    "Video: https://grypstube.uni-greifswald.de/w/5Q6qEFVKfcTDTYwKXjvgWE\n",
    "\n",
    "Beispiel im Vorlesungsskript auf S. 18f."
   ]
  },
  {
   "cell_type": "code",
   "execution_count": 69,
   "metadata": {},
   "outputs": [
    {
     "data": {
      "text/plain": [
       "array([ 0.20074488,  0.20074488,  0.86989449,  0.20074488,  1.53904409,\n",
       "        0.86989449, -1.80670393, -1.13755433, -0.46840472, -0.46840472])"
      ]
     },
     "execution_count": 69,
     "metadata": {},
     "output_type": "execute_result"
    }
   ],
   "source": [
    "from statistics import stdev\n",
    "import numpy as np\n",
    "krankheitstage = [4, 4, 5, 4, 6, 5, 1, 2, 3, 3]\n",
    "standardisierte_krankheitstage = (krankheitstage - np.mean(krankheitstage))/stdev(krankheitstage)\n",
    "standardisierte_krankheitstage"
   ]
  },
  {
   "cell_type": "markdown",
   "metadata": {},
   "source": [
    "## P4.13 Kuchendiagramm erstellen\n",
    "\n",
    "Video: https://grypstube.uni-greifswald.de/w/ohLrkiksNni5UThN9iXMZF\n",
    "\n",
    "Beispiel im Vorlesungsskript auf S. 20:"
   ]
  },
  {
   "cell_type": "code",
   "execution_count": 70,
   "metadata": {},
   "outputs": [
    {
     "data": {
      "image/png": "[encoded data removed]",
      "text/plain": [
       "<Figure size 432x288 with 1 Axes>"
      ]
     },
     "metadata": {},
     "output_type": "display_data"
    }
   ],
   "source": [
    "import matplotlib.pyplot as plt\n",
    "import numpy as np\n",
    "\n",
    "y = np.array([52,21,29])\n",
    "mylabels = [\"Geographie\", \"Geologie\", \"Landschaftsoek.\"]\n",
    "plt.pie(y, labels = mylabels)\n",
    "plt.title(\"Studiengänge (B.Sc.)\", fontsize=28)\n",
    "plt.savefig('kreisdiag.pdf')\n",
    "plt.show() "
   ]
  },
  {
   "cell_type": "code",
   "execution_count": 71,
   "metadata": {},
   "outputs": [
    {
     "data": {
      "image/png": "[encoded data removed]",
      "text/plain": [
       "<Figure size 432x288 with 1 Axes>"
      ]
     },
     "metadata": {},
     "output_type": "display_data"
    }
   ],
   "source": [
    "import matplotlib.pyplot as plt\n",
    "import numpy as np\n",
    "\n",
    "y = np.array([150,35,20,5])\n",
    "mylabels = [\"Pharmazie\", \"LaOek\", \"Geo\", \"Philo\"]\n",
    "plt.pie(y, labels = mylabels)\n",
    "plt.title(\"Studiengänge\", fontsize=30)\n",
    "plt.savefig('kreisdiag2.pdf')\n",
    "plt.show() "
   ]
  },
  {
   "cell_type": "markdown",
   "metadata": {},
   "source": [
    "## P4.14 Balkendiagramm erstellen\n",
    "\n",
    "Video: https://grypstube.uni-greifswald.de/w/uPs1BhJuEjHFTa857cnHmd\n",
    "\n",
    "Beispiel im Vorlesungsskript auf S. 21:"
   ]
  },
  {
   "cell_type": "code",
   "execution_count": 72,
   "metadata": {
    "tags": []
   },
   "outputs": [
    {
     "data": {
      "image/png": "[encoded data removed]",
      "text/plain": [
       "<Figure size 432x288 with 1 Axes>"
      ]
     },
     "metadata": {
      "needs_background": "light"
     },
     "output_type": "display_data"
    }
   ],
   "source": [
    "import numpy as np\n",
    "import matplotlib.pyplot as plt\n",
    "\n",
    "y = np.array([52,21,29])\n",
    "mylabels = [\"Geographie\", \"Geologie\", \"Landschaftsök.\"]\n",
    "y_pos = np.arange(len(mylabels))\n",
    "\n",
    "plt.bar(y_pos, y, align='center', alpha=0.5)\n",
    "plt.xticks(y_pos, mylabels)\n",
    "plt.ylabel('Absolute Häufigkeit')\n",
    "plt.title('Balkendiagramm d. Studiengänge (B.Sc.)')\n",
    "plt.savefig('balkendiag.pdf')\n",
    "plt.show()"
   ]
  },
  {
   "cell_type": "markdown",
   "metadata": {},
   "source": [
    "Beispiel im Vorlesungsskript auf S. 26ff (wir erwarten nicht, dass Sie in der Klausur solche \"komplizierteren\" Plots erstellen):"
   ]
  },
  {
   "cell_type": "code",
   "execution_count": 73,
   "metadata": {},
   "outputs": [
    {
     "data": {
      "image/png": "[encoded data removed]",
      "text/plain": [
       "<Figure size 432x288 with 1 Axes>"
      ]
     },
     "metadata": {
      "needs_background": "light"
     },
     "output_type": "display_data"
    }
   ],
   "source": [
    "import numpy as np\n",
    "import matplotlib.pyplot as plt\n",
    "\n",
    "data = np.array([[46, 79, 35],\n",
    "                [29, 56, 23],\n",
    "                [105, 32, 0],\n",
    "                [38, 63, 60],\n",
    "                [22, 26, 8]])\n",
    "\n",
    "color_list = ['#7f6d5f', '#557f2d', '#2d7f5e', \n",
    "              '#81a832', '#a89c32']\n",
    "              # You can pick colors at e.g. https://www.w3schools.com/colors/colors_picker.asp\n",
    "\n",
    "X = np.arange(data.shape[1])\n",
    "for i in range(data.shape[0]):\n",
    "  plt.bar(X, data[i],\n",
    "    bottom = np.sum(data[:i], axis = 0),\n",
    "    color = color_list[i % len(color_list)])\n",
    "\n",
    "names = ['Chorro Creek', 'Los Osos Creek', 'Baywood']\n",
    "r = np.arange(len(names))\n",
    "\n",
    "plt.xticks(r, names, fontweight='bold')\n",
    "plt.xlabel(\"Area\")\n",
    "\n",
    "colors = {'Vogel':color_list[0], 'Haustier':color_list[1],\n",
    "         'Nutztier':color_list[2], 'Mensch':color_list[3],\n",
    "         'Landsäuger':color_list[4]}    \n",
    "\n",
    "labels = list(colors.keys())\n",
    "handles = [plt.Rectangle((0,0),1,1, color=colors[label]) for label in labels]\n",
    "plt.legend(handles, labels)\n",
    "\n",
    "plt.savefig('balkendiag_stacked.pdf')\n",
    "plt.show()"
   ]
  },
  {
   "cell_type": "code",
   "execution_count": 74,
   "metadata": {},
   "outputs": [
    {
     "data": {
      "image/png": "[encoded data removed]",
      "text/plain": [
       "<Figure size 432x288 with 1 Axes>"
      ]
     },
     "metadata": {
      "needs_background": "light"
     },
     "output_type": "display_data"
    }
   ],
   "source": [
    "import numpy as np\n",
    "import matplotlib.pyplot as plt\n",
    "\n",
    "data = np.array([[46, 79, 35],\n",
    "                [29, 56, 23],\n",
    "                [105, 32, 0],\n",
    "                [38, 63, 60],\n",
    "                [22, 26, 8]])\n",
    "\n",
    "data = data/data.sum(axis=0,keepdims=1) # berechne relative Häufigkeiten\n",
    "\n",
    "color_list = ['#7f6d5f', '#557f2d', '#2d7f5e', \n",
    "              '#81a832', '#a89c32']\n",
    "\n",
    "X = np.arange(data.shape[1])\n",
    "for i in range(data.shape[0]):\n",
    "  plt.bar(X, data[i],\n",
    "    bottom = np.sum(data[:i], axis = 0),\n",
    "    color = color_list[i % len(color_list)])\n",
    "\n",
    "names = ['Chorro Creek', 'Los Osos Creek', 'Baywood']\n",
    "r = np.arange(len(names))\n",
    "\n",
    "plt.xticks(r, names, fontweight='bold')\n",
    "plt.xlabel(\"Area\")\n",
    "\n",
    "colors = {'Vogel':color_list[0], 'Haustier':color_list[1],\n",
    "         'Nutztier':color_list[2], 'Mensch':color_list[3],\n",
    "         'Landsäuger':color_list[4]}    \n",
    "\n",
    "labels = list(colors.keys())\n",
    "handles = [plt.Rectangle((0,0),1,1, color=colors[label]) for label in labels]\n",
    "plt.legend(handles, labels)\n",
    "\n",
    "plt.savefig('balkendiag_stacked2.pdf')\n",
    "plt.show()"
   ]
  },
  {
   "cell_type": "markdown",
   "metadata": {},
   "source": [
    "## P4.14 Histogramm erstellen\n",
    "\n",
    "Video: https://grypstube.uni-greifswald.de/w/aNYCqE1559iQmVUkBRnHDG\n",
    "\n",
    "Beispiel im Vorlesungsskript auf S. 23:"
   ]
  },
  {
   "cell_type": "code",
   "execution_count": 75,
   "metadata": {},
   "outputs": [
    {
     "data": {
      "image/png": "[encoded data removed]",
      "text/plain": [
       "<Figure size 432x288 with 1 Axes>"
      ]
     },
     "metadata": {
      "needs_background": "light"
     },
     "output_type": "display_data"
    }
   ],
   "source": [
    "import matplotlib.pyplot as plt\n",
    "\n",
    "groesse = [1.68, 1.57, 1.76, 1.81, 1.67, 1.55, 1.89, 1.90, 1.84, \n",
    "           1.79, 1.75, 1.76, 1.77, 1.78, 1.48, 1.75, 1.76, 1.73, \n",
    "           1.73, 1.75, 1.71, 1.68, 1.67, 1.68, 1.62, 1.61, 1.63, \n",
    "           1.65, 1.76, 1.74]\n",
    "\n",
    "plt.hist(x=groesse, bins = 20) # bins beeinflusst die Zahl der Balken\n",
    "plt.xlabel('Körpergröße von ausgewählten Zuhörern')\n",
    "plt.ylabel('Absolute Häufigkeit')\n",
    "plt.title('Histrogramm')\n",
    "plt.savefig('histogram.pdf')\n",
    "plt.show()"
   ]
  },
  {
   "cell_type": "markdown",
   "metadata": {},
   "source": [
    "## P4.15 Boxplot erstellen\n",
    "\n",
    "Video: https://grypstube.uni-greifswald.de/w/cs9QYeBW7HNPtiH3rcu4yR\n",
    "\n",
    "Der Boxplot ist einer der wichtigsten Plots für Sie. Sie sollten für die Klausur dazu in der Lage sein, Boxplots zu erstellen und zu interpretieren.\n",
    "\n",
    "Beispiel im Vorlesungsskript auf S. 24f:"
   ]
  },
  {
   "cell_type": "code",
   "execution_count": 76,
   "metadata": {},
   "outputs": [
    {
     "data": {
      "image/png": "[encoded data removed]",
      "text/plain": [
       "<Figure size 432x288 with 1 Axes>"
      ]
     },
     "metadata": {
      "needs_background": "light"
     },
     "output_type": "display_data"
    }
   ],
   "source": [
    "import matplotlib.pyplot as plt\n",
    "\n",
    "groesse = [0.98, 2.85, 4.13, 3.27, 5.41, 5.85, 7.74, 3.46, 6.26, 6.96, 6.19, 3.05, 3.75, 3.73, 3.55, 6.42, \n",
    "           4.2, 4.73, 2.55, 3.21, 2.57, 3.19, 6.41, 4.94, 3.14, 3.88, 4.84, 6.26, 4.12, 9.43]\n",
    "\n",
    "plt.boxplot(x=groesse)\n",
    "#plt.ylim((0,15)) # <- diese Zeile aktivieren (Kommentar am Anfang entfernen)\n",
    "                  # um die y-Achse von 0 bis 2.5 zu skalieren\n",
    "plt.grid(axis='y', alpha=0.75)\n",
    "plt.title('Boxplot')\n",
    "plt.savefig('boxplot.pdf')\n",
    "plt.show()"
   ]
  },
  {
   "cell_type": "markdown",
   "metadata": {},
   "source": [
    "Beispiel im Vorlesungsskript auf S. 28:"
   ]
  },
  {
   "cell_type": "code",
   "execution_count": 77,
   "metadata": {},
   "outputs": [
    {
     "data": {
      "image/png": "[encoded data removed]",
      "text/plain": [
       "<Figure size 864x576 with 1 Axes>"
      ]
     },
     "metadata": {
      "needs_background": "light"
     },
     "output_type": "display_data"
    }
   ],
   "source": [
    "import pandas as pd\n",
    "import matplotlib.pyplot as plt\n",
    "\n",
    "corn = pd.read_csv('corn.csv')\n",
    "fig, ax = plt.subplots(figsize=(12,8)) # hiermit vermeiden wir einen Überlapp der Überschrift\n",
    "bp = corn.boxplot(column=['response'], by='treatment', \n",
    "                  fontsize='large', showmeans=True, meanline=True, \n",
    "                  grid = False, ax=ax)\n",
    "plt.savefig('boxplot_corn.pdf')"
   ]
  },
  {
   "cell_type": "markdown",
   "metadata": {},
   "source": [
    "## P4.16 Scatterplot erstellen\n",
    "\n",
    "Video: https://grypstube.uni-greifswald.de/w/c9wN8UPeJkVS5TwN23UHY3\n",
    "\n",
    "Beispiel im Vorlesungsskript auf S. 30:"
   ]
  },
  {
   "cell_type": "code",
   "execution_count": 78,
   "metadata": {},
   "outputs": [
    {
     "data": {
      "image/png": "[encoded data removed]",
      "text/plain": [
       "<Figure size 432x288 with 1 Axes>"
      ]
     },
     "metadata": {
      "needs_background": "light"
     },
     "output_type": "display_data"
    }
   ],
   "source": [
    "import pandas as pd\n",
    "import matplotlib.pyplot as plt\n",
    "\n",
    "broad = pd.read_csv('broad.csv', sep=\",\")\n",
    "broad.plot.scatter(x = 'weight', y = 'length')\n",
    "plt.savefig('scatterplot.pdf')"
   ]
  },
  {
   "cell_type": "markdown",
   "metadata": {},
   "source": [
    "## P4.17 Pearson Korrelationskoeffizient berechnen\n",
    "\n",
    "Video: https://grypstube.uni-greifswald.de/w/48iC2nzuUvG3JoKbsKsdQj\n",
    "\n",
    "Im Vorlesungsskript Beispiel auf S. 35f:"
   ]
  },
  {
   "cell_type": "code",
   "execution_count": 79,
   "metadata": {},
   "outputs": [
    {
     "name": "stdout",
     "output_type": "stream",
     "text": [
      "Der Pearson Korrelationskoeffizient ist 0.8983172313107093\n",
      "Die Funktion gibt außerdem den p-Wert zur Testhypothese H1 (rho ist nicht gleich 0) zurück.\n",
      "Tests und p-Werte werden wir in Themenblock 5 besprechen.\n",
      "Hier ist der p-Wert 0.00041301443855117434\n",
      "Mit einer Irrtumswahrscheinlichkeit von 5% ist der Korrelationskoeffizient 0.8983172313107093 ungleich null.\n",
      "Es handeltsich um einen positiven linearen Zusammenhang der Daten.\n"
     ]
    }
   ],
   "source": [
    "import pandas as pd\n",
    "import scipy.stats\n",
    "\n",
    "broad = pd.read_csv('broad.csv')\n",
    "\n",
    "cor_result = scipy.stats.pearsonr(broad['weight'], broad['length'])\n",
    "print(\"Der Pearson Korrelationskoeffizient ist\", cor_result[0])\n",
    "\n",
    "# Zusatzinformation, hier noch nicht Teil des Vorlesungsstoffs:\n",
    "print(\"Die Funktion gibt außerdem den p-Wert zur Testhypothese H1 (rho ist nicht gleich 0) zurück.\")\n",
    "print(\"Tests und p-Werte werden wir in Themenblock 5 besprechen.\")\n",
    "print(\"Hier ist der p-Wert\", cor_result[1])\n",
    "if cor_result[1] <= 0.05:\n",
    "    print(\"Mit einer Irrtumswahrscheinlichkeit von 5% ist der Korrelationskoeffizient\", cor_result[0], \"ungleich null.\")\n",
    "else:\n",
    "    print(\"Die Nullhypothese muss beibehalten werden (H0: rho = 0).\")\n",
    "    \n",
    "# Automatische Interpretation des Korrelationskoeffizienten (durchaus Teil des Vorlesungsstoffs):\n",
    "if cor_result[0] < 0:\n",
    "    print(\"Es handelt sich um einen negativen linearen Zusammenhang der Daten.\")\n",
    "elif cor_result[0] > 0:\n",
    "    print(\"Es handeltsich um einen positiven linearen Zusammenhang der Daten.\")\n",
    "else:\n",
    "    print(\"Es besteht kein linearer Zusammenhang.\")"
   ]
  },
  {
   "cell_type": "code",
   "execution_count": 80,
   "metadata": {},
   "outputs": [
    {
     "data": {
      "text/plain": [
       "(0.9136703195676659, 3.2622431152381464e-05)"
      ]
     },
     "execution_count": 80,
     "metadata": {},
     "output_type": "execute_result"
    }
   ],
   "source": [
    "import scipy.stats\n",
    "\n",
    "x = [48.2, 41.9, 42.9, 42.2, 47.5, 41.4, 41.3, 40.1, 49.8, 42.1, 45.1, 43.2]\n",
    "y = [38.4, 34.1, 36.4, 36.2, 38.3, 33.6, 32.9, 31.9, 39.8, 34.3, 37.6, 37.1]\n",
    "\n",
    "cor_result = scipy.stats.pearsonr(x,y)\n",
    "cor_result"
   ]
  },
  {
   "cell_type": "markdown",
   "metadata": {},
   "source": [
    "## P4.18 Spearman Korrelationskoeffizient berechnen\n",
    "\n",
    "Video: https://grypstube.uni-greifswald.de/w/1TdTmWK51ooiDbuXK8McH6\n",
    "\n",
    "Im Vorlesungsskript Beispiel auf S. 38f:"
   ]
  },
  {
   "cell_type": "code",
   "execution_count": 81,
   "metadata": {},
   "outputs": [
    {
     "name": "stdout",
     "output_type": "stream",
     "text": [
      "Der Spearman Korrelationskoeffizient ist 0.9446198561992519\n",
      "Die Funktion gibt außerdem den p-Wert zur Testhypothese H1 (S ist nicht gleich 0) zurück.\n",
      "Tests und p-Werte werden wir in Themenblock 5 besprechen.\n",
      "Hier ist der p-Wert 3.8480105736687686e-05\n",
      "Mit einer Irrtumswahrscheinlichkeit von 5% ist der Korrelationskoeffizient 0.9446198561992519 ungleich null.\n",
      "Es handelt sich um einen positiven Zusammenhang der Daten.\n"
     ]
    }
   ],
   "source": [
    "import pandas as pd\n",
    "import scipy.stats\n",
    "\n",
    "broad = pd.read_csv('broad.csv')\n",
    "\n",
    "cor_result = scipy.stats.spearmanr(broad['weight'], broad['length'])\n",
    "print(\"Der Spearman Korrelationskoeffizient ist\", cor_result[0])\n",
    "\n",
    "# Zusatzinformation, hier noch nicht Teil des Vorlesungsstoffs:\n",
    "print(\"Die Funktion gibt außerdem den p-Wert zur Testhypothese H1 (S ist nicht gleich 0) zurück.\")\n",
    "print(\"Tests und p-Werte werden wir in Themenblock 5 besprechen.\")\n",
    "print(\"Hier ist der p-Wert\", cor_result[1])\n",
    "if cor_result[1] <= 0.05:\n",
    "    print(\"Mit einer Irrtumswahrscheinlichkeit von 5% ist der Korrelationskoeffizient\", cor_result[0], \"ungleich null.\")\n",
    "else:\n",
    "    print(\"Die Nullhypothese muss beibehalten werden (H0: S = 0).\")\n",
    "    \n",
    "# Automatische Interpretation des Korrelationskoeffizienten (durchaus Teil des Vorlesungsstoffs):\n",
    "if cor_result[0] < 0:\n",
    "    print(\"Es handelt sich um einen negativen Zusammenhang der Daten.\")\n",
    "elif cor_result[0] > 0:\n",
    "    print(\"Es handelt sich um einen positiven Zusammenhang der Daten.\")\n",
    "else:\n",
    "    print(\"Es besteht kein Zusammenhang.\")"
   ]
  },
  {
   "cell_type": "code",
   "execution_count": 82,
   "metadata": {},
   "outputs": [
    {
     "name": "stdout",
     "output_type": "stream",
     "text": [
      "Der Spearman Korrelationskoeffizient ist 1.0\n"
     ]
    }
   ],
   "source": [
    "import pandas as pd\n",
    "import scipy.stats\n",
    "\n",
    "x = [2.1, 2.5, 0.7, 2.9, 2.7, 1.5, 1.9, 2.3, 1.7]\n",
    "y = [  3, 3.4, 1.2, 4,   3.8, 1.8, 2.8, 3.2, 2  ]\n",
    "cor_result = scipy.stats.spearmanr(x,y)\n",
    "print(\"Der Spearman Korrelationskoeffizient ist\", cor_result[0])\n"
   ]
  },
  {
   "cell_type": "markdown",
   "metadata": {},
   "source": [
    "## P4.19 Lineare Regression\n",
    "\n",
    "Video: https://grypstube.uni-greifswald.de/w/4oWm7xybVTi2YJanFB3RRJ\n",
    "\n",
    "Im Vorlesungsskript Beispiel auf S. 45ff:"
   ]
  },
  {
   "cell_type": "code",
   "execution_count": 85,
   "metadata": {},
   "outputs": [
    {
     "name": "stdout",
     "output_type": "stream",
     "text": [
      "Das Regressionsmodell lautet:\n",
      "y = 33.0 + ( 0.06721428571428575 ) * x\n",
      "                            OLS Regression Results                            \n",
      "==============================================================================\n",
      "Dep. Variable:                  yield   R-squared:                       0.652\n",
      "Model:                            OLS   Adj. R-squared:                  0.642\n",
      "Method:                 Least Squares   F-statistic:                     61.85\n",
      "Date:                Wed, 11 May 2022   Prob (F-statistic):           4.57e-09\n",
      "Time:                        13:19:03   Log-Likelihood:                -129.62\n",
      "No. Observations:                  35   AIC:                             263.2\n",
      "Df Residuals:                      33   BIC:                             266.3\n",
      "Df Model:                           1                                         \n",
      "Covariance Type:            nonrobust                                         \n",
      "==============================================================================\n",
      "                 coef    std err          t      P>|t|      [0.025      0.975]\n",
      "------------------------------------------------------------------------------\n",
      "const         33.0000      3.822      8.634      0.000      25.224      40.776\n",
      "fertilizer     0.0672      0.009      7.864      0.000       0.050       0.085\n",
      "==============================================================================\n",
      "Omnibus:                        4.566   Durbin-Watson:                   1.814\n",
      "Prob(Omnibus):                  0.102   Jarque-Bera (JB):                1.754\n",
      "Skew:                          -0.030   Prob(JB):                        0.416\n",
      "Kurtosis:                       1.905   Cond. No.                     1.00e+03\n",
      "==============================================================================\n",
      "\n",
      "Notes:\n",
      "[1] Standard Errors assume that the covariance matrix of the errors is correctly specified.\n",
      "[2] The condition number is large,  1e+03. This might indicate that there are\n",
      "strong multicollinearity or other numerical problems.\n"
     ]
    },
    {
     "data": {
      "text/plain": [
       "0.6520785957511989"
      ]
     },
     "execution_count": 85,
     "metadata": {},
     "output_type": "execute_result"
    }
   ],
   "source": [
    "import pandas as pd\n",
    "import statsmodels.api as sm\n",
    "\n",
    "wheat = pd.read_csv('wheat.csv')\n",
    "\n",
    "X = wheat['fertilizer']\n",
    "Y = wheat['yield']\n",
    "\n",
    "X2 = sm.add_constant(X)\n",
    "linreg = sm.OLS(Y, X2)\n",
    "model = linreg.fit()\n",
    "\n",
    "print(\"Das Regressionsmodell lautet:\")\n",
    "print(\"y =\", model.params[0],  \"+ (\", model.params[1], \") * x\")\n",
    "\n",
    "print(model.summary())\n",
    "model.rsquared"
   ]
  },
  {
   "cell_type": "code",
   "execution_count": 86,
   "metadata": {},
   "outputs": [
    {
     "name": "stdout",
     "output_type": "stream",
     "text": [
      "Das Regressionsmodell lautet:\n",
      "y = -583.6213781348918 + ( 5.128926223520818 ) * x\n",
      "                            OLS Regression Results                            \n",
      "==============================================================================\n",
      "Dep. Variable:                      y   R-squared:                       0.972\n",
      "Model:                            OLS   Adj. R-squared:                  0.970\n",
      "Method:                 Least Squares   F-statistic:                     352.0\n",
      "Date:                Wed, 11 May 2022   Prob (F-statistic):           4.01e-09\n",
      "Time:                        13:19:10   Log-Likelihood:                -72.814\n",
      "No. Observations:                  12   AIC:                             149.6\n",
      "Df Residuals:                      10   BIC:                             150.6\n",
      "Df Model:                           1                                         \n",
      "Covariance Type:            nonrobust                                         \n",
      "==============================================================================\n",
      "                 coef    std err          t      P>|t|      [0.025      0.975]\n",
      "------------------------------------------------------------------------------\n",
      "const       -583.6214     82.118     -7.107      0.000    -766.591    -400.651\n",
      "x1             5.1289      0.273     18.761      0.000       4.520       5.738\n",
      "==============================================================================\n",
      "Omnibus:                        3.167   Durbin-Watson:                   2.470\n",
      "Prob(Omnibus):                  0.205   Jarque-Bera (JB):                1.573\n",
      "Skew:                          -0.887   Prob(JB):                        0.455\n",
      "Kurtosis:                       2.979   Cond. No.                         747.\n",
      "==============================================================================\n",
      "\n",
      "Notes:\n",
      "[1] Standard Errors assume that the covariance matrix of the errors is correctly specified.\n"
     ]
    },
    {
     "name": "stderr",
     "output_type": "stream",
     "text": [
      "/opt/conda/lib/python3.9/site-packages/scipy/stats/stats.py:1603: UserWarning: kurtosistest only valid for n>=20 ... continuing anyway, n=12\n",
      "  warnings.warn(\"kurtosistest only valid for n>=20 ... continuing \"\n"
     ]
    },
    {
     "data": {
      "text/plain": [
       "0.9723741540866382"
      ]
     },
     "execution_count": 86,
     "metadata": {},
     "output_type": "execute_result"
    }
   ],
   "source": [
    "import statsmodels.api as sm\n",
    "import numpy as np\n",
    "\n",
    "Y =   [133, 295, 487, 63, 707, 1115, 353, 1533, 1527, 1601, 259, 1849]\n",
    "X =   [131, 171, 243, 115, 251, 331, 227, 395, 387, 435, 139, 475]\n",
    "\n",
    "X2 = sm.add_constant(X)\n",
    "linreg = sm.OLS(Y, X2)\n",
    "model = linreg.fit()\n",
    "\n",
    "print(\"Das Regressionsmodell lautet:\")\n",
    "print(\"y =\", model.params[0],  \"+ (\", model.params[1], \") * x\")\n",
    "\n",
    "print(model.summary())\n",
    "model.rsquared"
   ]
  },
  {
   "cell_type": "markdown",
   "metadata": {},
   "source": [
    "Die Warnung zum \"kurtosistest\" können Sie ignorieren, spielt in dieser Lehrveranstaltung keine Rolle."
   ]
  },
  {
   "cell_type": "code",
   "execution_count": 87,
   "metadata": {
    "tags": []
   },
   "outputs": [
    {
     "data": {
      "image/png": "[encoded data removed]",
      "text/plain": [
       "<Figure size 432x288 with 1 Axes>"
      ]
     },
     "metadata": {
      "needs_background": "light"
     },
     "output_type": "display_data"
    }
   ],
   "source": [
    "import matplotlib.pyplot as plt\n",
    "\n",
    "# Datenvisualisierung, bitte vorherige Code-Zelle zuerst ausführen!\n",
    "plt.scatter(X, Y)\n",
    "x = np.arange(min(X), max(X))\n",
    "plt.plot(x, model.params[0] + model.params[1] * x)\n",
    "plt.savefig('wheatmodel.pdf')"
   ]
  },
  {
   "cell_type": "code",
   "execution_count": 88,
   "metadata": {},
   "outputs": [
    {
     "data": {
      "image/png": "[encoded data removed]",
      "text/plain": [
       "<Figure size 432x288 with 1 Axes>"
      ]
     },
     "metadata": {
      "needs_background": "light"
     },
     "output_type": "display_data"
    }
   ],
   "source": [
    "# Residuenplot, bitte beiden vorhergehenden Zellen zuerst ausführen\n",
    "pred_val = model.fittedvalues.copy()\n",
    "true_val = Y\n",
    "#print(pred_val)\n",
    "#print(true_val)\n",
    "residual = true_val - pred_val\n",
    "plt.scatter(pred_val, residual)\n",
    "plt.title(\"Residual plot\")\n",
    "plt.axhline()\n",
    "plt.savefig('resids.pdf')"
   ]
  },
  {
   "cell_type": "code",
   "execution_count": null,
   "metadata": {},
   "outputs": [],
   "source": []
  }
 ],
 "metadata": {
  "kernelspec": {
   "display_name": "Python 3",
   "language": "python",
   "name": "python3"
  },
  "language_info": {
   "codemirror_mode": {
    "name": "ipython",
    "version": 3
   },
   "file_extension": ".py",
   "mimetype": "text/x-python",
   "name": "python",
   "nbconvert_exporter": "python",
   "pygments_lexer": "ipython3",
   "version": "3.9.2"
  }
 },
 "nbformat": 4,
 "nbformat_minor": 4
}
