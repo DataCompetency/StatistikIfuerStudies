{
 "cells": [
  {
   "cell_type": "markdown",
   "metadata": {},
   "source": [
    "# Python Material zu Themenblock 2: Grundlagen der Wahrscheinlichkeitsrechnung\n",
    "\n",
    "Im Vergleich zum JupyterNotebook zu Themenblock 1 ist hier der Bionomialkoeffizient und die Fakultätsberechnung neu. Ansonsten wiederholen sich die Inhalte weitgehend, bzw. es geht hauptsächlich um Standard-Taschenrechner-Funktionalität."
   ]
  },
  {
   "cell_type": "markdown",
   "metadata": {},
   "source": [
    "## P2.1 Biominalkoeffizient\n",
    "\n",
    "Video: https://grypstube.uni-greifswald.de/w/6oyn1K2PotmmomLLL1smU9\n",
    "\n",
    "$${8 \\choose 4}$$"
   ]
  },
  {
   "cell_type": "code",
   "execution_count": 26,
   "metadata": {},
   "outputs": [
    {
     "data": {
      "text/plain": [
       "70.0"
      ]
     },
     "execution_count": 26,
     "metadata": {},
     "output_type": "execute_result"
    }
   ],
   "source": [
    "import scipy.special # enthält binom()\n",
    "\n",
    "scipy.special.binom(8,4) # 1. Zahl ist die, die oben steht\n",
    "                         # 2. Zalh ist die, die unten steht"
   ]
  },
  {
   "cell_type": "markdown",
   "metadata": {},
   "source": [
    "## P2.2 Fakultät\n",
    "\n",
    "$$5!$$"
   ]
  },
  {
   "cell_type": "code",
   "execution_count": 27,
   "metadata": {},
   "outputs": [
    {
     "data": {
      "text/plain": [
       "120"
      ]
     },
     "execution_count": 27,
     "metadata": {},
     "output_type": "execute_result"
    }
   ],
   "source": [
    "import math # enthält factorial\n",
    "\n",
    "math.factorial(5)"
   ]
  },
  {
   "cell_type": "markdown",
   "metadata": {},
   "source": [
    "## P2.3 Beispiel der Tupel-Schnittmenge 2x Würfeln (S. 4)\n",
    "\n",
    "Video: https://grypstube.uni-greifswald.de/w/aHypdM85UzgjRw6Q6y8EgU\n",
    "\n",
    "Ereignis *beim 1. Wurf fällt eine 6*: $A = \\{(6,1), (6,2), (6,3), (6,4), (6,5), (6,6)\\}$\n",
    "\n",
    "Ereignis *beim 2. Wurf fällt eine 6*:  $B = \\{(1,6), (2,6), (3,6), (4,6), (5,6), (6,6)\\}$\n",
    "\n",
    "Gesucht ist: $A\\cup B$"
   ]
  },
  {
   "cell_type": "code",
   "execution_count": 28,
   "metadata": {},
   "outputs": [
    {
     "name": "stdout",
     "output_type": "stream",
     "text": [
      "{(6, 2), (6, 5), (6, 1), (4, 6), (6, 4), (2, 6), (5, 6), (3, 6), (6, 6), (1, 6), (6, 3)}\n"
     ]
    }
   ],
   "source": [
    "A = {(6,1), (6,2), (6,3), (6,4), (6,5), (6,6)}\n",
    "B = {(1,6), (2,6), (3,6), (4,6), (5,6), (6,6)}\n",
    "A_vereinigungsmenge_B = A.union(B)\n",
    "print(A_vereinigungsmenge_B)"
   ]
  },
  {
   "cell_type": "markdown",
   "metadata": {},
   "source": [
    "Gesucht ist: $A \\cap B$"
   ]
  },
  {
   "cell_type": "code",
   "execution_count": 29,
   "metadata": {},
   "outputs": [
    {
     "name": "stdout",
     "output_type": "stream",
     "text": [
      "{(6, 6)}\n"
     ]
    }
   ],
   "source": [
    "A_schnittmenge_B = A.intersection(B)\n",
    "print(A_schnittmenge_B)"
   ]
  },
  {
   "cell_type": "markdown",
   "metadata": {},
   "source": [
    "## P2.4 Beispiel Kombinatorik (S. 10)\n",
    "\n",
    "Video: https://grypstube.uni-greifswald.de/w/cNRuMK9G2kaq7yHQ2DuJB8\n",
    "\n",
    "In einer Urne liegen $n = 3$ Kugeln ($a, b, c$). Gesucht ist die Menge der Ergebnisse $\\Omega$ beim Ziehen von $k = 2$ Kugeln sowie ihre Kardinalität.\n",
    "\n",
    "Mit Zurücklegen, mit Beachten der Reihenfolge: $$n^{k} = 3^{2}$$"
   ]
  },
  {
   "cell_type": "code",
   "execution_count": 30,
   "metadata": {},
   "outputs": [
    {
     "data": {
      "text/plain": [
       "9"
      ]
     },
     "execution_count": 30,
     "metadata": {},
     "output_type": "execute_result"
    }
   ],
   "source": [
    "n = 3\n",
    "k = 2\n",
    "n**k"
   ]
  },
  {
   "cell_type": "markdown",
   "metadata": {},
   "source": [
    "Mit Zurücklegen, ohne Beachten der Reihenfolge:\n",
    "\n",
    "$${n + k - 1 \\choose k} = {3 + 2 - 1 \\choose 2}$$"
   ]
  },
  {
   "cell_type": "code",
   "execution_count": 31,
   "metadata": {},
   "outputs": [
    {
     "data": {
      "text/plain": [
       "6.0"
      ]
     },
     "execution_count": 31,
     "metadata": {},
     "output_type": "execute_result"
    }
   ],
   "source": [
    "import scipy.special\n",
    "\n",
    "n = 3\n",
    "k = 2\n",
    "scipy.special.binom(n+k-1, k)"
   ]
  },
  {
   "cell_type": "markdown",
   "metadata": {},
   "source": [
    "Ohne Zurücklegen, mit Beachtung der Reihenfolge:\n",
    "\n",
    "$$\\frac{n!}{(n-k)!} = 3 \\cdot 2 $$"
   ]
  },
  {
   "cell_type": "code",
   "execution_count": 32,
   "metadata": {},
   "outputs": [
    {
     "data": {
      "text/plain": [
       "6.0"
      ]
     },
     "execution_count": 32,
     "metadata": {},
     "output_type": "execute_result"
    }
   ],
   "source": [
    "import math\n",
    "\n",
    "n = 3\n",
    "k = 2\n",
    "math.factorial(n)/math.factorial(n-k)"
   ]
  },
  {
   "cell_type": "markdown",
   "metadata": {},
   "source": [
    "Ohne Zurücklegen, ohne Beachtung der Reihenfolge:\n",
    "\n",
    "$${n \\choose k} = {3 \\choose 2}$$"
   ]
  },
  {
   "cell_type": "code",
   "execution_count": 33,
   "metadata": {},
   "outputs": [
    {
     "data": {
      "text/plain": [
       "3.0"
      ]
     },
     "execution_count": 33,
     "metadata": {},
     "output_type": "execute_result"
    }
   ],
   "source": [
    "import scipy.special\n",
    "n = 3\n",
    "k = 2\n",
    "scipy.special.binom(n, k)"
   ]
  },
  {
   "cell_type": "markdown",
   "metadata": {},
   "source": [
    "## P2.5 Beispiel Stochastische Unabhängigkeit (S. 11)\n",
    "\n",
    "Video: https://grypstube.uni-greifswald.de/w/dC5gAV6HnrxJDw6PiXBSY4\n",
    "\n",
    "1 x Würfeln: $\\Omega = \\{\\omega_{1}, ..., \\omega_{6}\\}$ wobei $\\omega_{i}$ die Augenzahl $i$ ausdrückt. $P(\\omega_{i}) = \\frac{1}{6}$.\n",
    "\n",
    "$A$: Eine Zahl größer 3 wird gewürfelt.\n",
    "\n",
    "$B$: Eine durch 3-teilbare Zahl wird gewürfelt. \n",
    "\n",
    "Sind die Ereignisse stochastisch unabhängig?"
   ]
  },
  {
   "cell_type": "code",
   "execution_count": 34,
   "metadata": {},
   "outputs": [
    {
     "data": {
      "text/plain": [
       "True"
      ]
     },
     "execution_count": 34,
     "metadata": {},
     "output_type": "execute_result"
    }
   ],
   "source": [
    "Omega = {1, 2, 3, 4, 5, 6}\n",
    "A = {4, 5, 6}\n",
    "B = {3, 6}\n",
    "\n",
    "A_schnittmenge_B = A.intersection(B)\n",
    "\n",
    "P_von_A = len(A)/len(Omega) # Wahrscheinlichkeit für Ereignis A\n",
    "P_von_B = len(B)/len(Omega) # Wahrscheinlichkeit für Ereignis B\n",
    "P_von_A_schnittmenge_B = len(A_schnittmenge_B)/len(Omega) # Wahrscheinlichkeit für Ereignis der Schnittmenge von A und B\n",
    "\n",
    "# Prüfung der stochastischen Unabhängkeit der Mengen A und B mit dem == Operator\n",
    "P_von_A * P_von_B == P_von_A_schnittmenge_B ## gibt True zurück, stochastische Unabhängkeit ist gegeben."
   ]
  },
  {
   "cell_type": "markdown",
   "metadata": {},
   "source": [
    "## P2.6 Beispiel Studierende Uni/FH (S. 14)\n",
    "\n",
    "Video: https://grypstube.uni-greifswald.de/w/7EBdYMDDQ972UPGbAVP5wg\n",
    "\n",
    "Studienabbruchquoten 2005 für deutsche Studierende nach Universität (Uni) und Fachhochschule (FH) \n",
    "\n",
    "Ereignis $P(B|Uni)$: *Studienabbruch von Uni-Studenten*\n",
    "Ereignis $P(B|FH)$: *Studienabbruch von FH-Studenten*\n",
    "\n",
    "gegebenen sind:\n",
    "\n",
    "  * $P(B|Uni) = 0.26$\n",
    "  * $P(B|FH) = 0.22$\n",
    "  * $P(Uni) = \\frac{3}{4}$\n",
    "  * $P(FH) = \\frac{1}{4}$\n",
    "\n",
    "\n",
    "Wie groß ist dann $P(B)$, die Studienabbruchquote von Studenten insgesamt?"
   ]
  },
  {
   "cell_type": "code",
   "execution_count": 35,
   "metadata": {},
   "outputs": [
    {
     "name": "stdout",
     "output_type": "stream",
     "text": [
      "0.25\n"
     ]
    }
   ],
   "source": [
    "P_B_gegeben_A = 0.26\n",
    "P_B_gegeben_nicht_A = 0.22\n",
    "P_A = 3/4\n",
    "P_nicht_A = 1/4\n",
    "\n",
    "P_B = P_B_gegeben_A * P_A + P_B_gegeben_nicht_A * P_nicht_A # Berechnung der totalen Wahrscheinlichkeit\n",
    "print(P_B)"
   ]
  },
  {
   "cell_type": "markdown",
   "metadata": {},
   "source": [
    "## P2.7 Beispiel Einkommen/Rauchen (S. 17)\n",
    "\n",
    "Video: https://grypstube.uni-greifswald.de/w/g3dSFssAx1zC5dpAAbS5Wv\n",
    "\n",
    "Im Rahmen einer fiktiven Studie wurden Menschen nach Ihrem Einkommen und ihren Rauchgewohnheiten befragt:\n",
    "\n",
    "  * Die Hälfte der befragten Personen gab an, ein geringes Einkommen zu haben ($<1500$ Euro/Monat, $G$),\n",
    "  * 40% gaben an, ein mittleres Einkommen zwischen 1500 und 3000 Euro/Monat zu verdienen ($M$),\n",
    "  * 10% verfügten mit über 3000 Euro/Monat über ein besonders hohes Einkommen ($H$).\n",
    "  * 30% der Menschen mit geringem Einkommen waren Raucher [$P(R|G)$],\n",
    "  * 30% der Menschen mit mittlerem Einkommen waren Raucher [$P(R|M)$],\n",
    "  * und 15% der Menschen mit hohem Einkommen gaben an, Raucher zu sein [$P(R|H)$].\n",
    "\n",
    "Wie hoch war der Anteil an Personen mit hohem Einkommen unter den Rauchern [$P(H|R)$]?"
   ]
  },
  {
   "cell_type": "code",
   "execution_count": 11,
   "metadata": {},
   "outputs": [
    {
     "name": "stdout",
     "output_type": "stream",
     "text": [
      "0.05263157894736841\n"
     ]
    }
   ],
   "source": [
    "P_G = 0.5\n",
    "P_M = 0.4\n",
    "P_H = 0.1\n",
    "P_R_gegeben_G = 0.3\n",
    "P_R_gegeben_M = 0.3\n",
    "P_R_gegeben_H = 0.15\n",
    "\n",
    "P_R = P_R_gegeben_G * P_G + P_R_gegeben_M * P_M + P_R_gegeben_H * P_H # totale Wahrscheinlichkeit\n",
    "\n",
    "P_H_gegeben_R = P_R_gegeben_H * P_H / P_R # Satz von Bayes\n",
    "print(P_H_gegeben_R)"
   ]
  }
 ],
 "metadata": {
  "kernelspec": {
   "display_name": "Python 3",
   "language": "python",
   "name": "python3"
  },
  "language_info": {
   "codemirror_mode": {
    "name": "ipython",
    "version": 3
   },
   "file_extension": ".py",
   "mimetype": "text/x-python",
   "name": "python",
   "nbconvert_exporter": "python",
   "pygments_lexer": "ipython3",
   "version": "3.9.2"
  }
 },
 "nbformat": 4,
 "nbformat_minor": 4
}
