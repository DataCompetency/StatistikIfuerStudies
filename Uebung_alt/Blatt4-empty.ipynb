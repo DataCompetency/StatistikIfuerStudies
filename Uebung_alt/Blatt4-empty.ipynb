{
 "cells": [
  {
   "cell_type": "markdown",
   "metadata": {},
   "source": [
    "# Statistik I für Naturwissenschaftler*innen: Übungsblatt 4"
   ]
  },
  {
   "cell_type": "markdown",
   "metadata": {},
   "source": [
    "## Aufgabe 1\n",
    "\n",
    "Eine Zufallsvariable $X: \\Omega \\rightarrow \\mathbb{R}$ erfasst die Zahl, die beim einmaligen Werfen eines Oktaeder-Würfels oben liegt. (Ein Oktaeder-Würfel hat 8 Seiten und ist mit den Zahlen 1 bis 8 beschriftet.) Berechnen Sie (anhand der Definitionen aus der Vorlesung!)\n",
    "\n",
    "    a) Erwartungswert\n",
    "    b) Varianz und Standardabweichung\n",
    "    c) Median\n",
    "    d) Interquartilsabstand\n",
    "\n",
    "der Zufallsvariable."
   ]
  },
  {
   "cell_type": "code",
   "execution_count": null,
   "metadata": {},
   "outputs": [],
   "source": []
  },
  {
   "cell_type": "markdown",
   "metadata": {},
   "source": [
    "## Aufgabe 2\n",
    "\n",
    "Eine Zufallsvariable $X: \\Omega \\rightarrow \\mathbb{R}$ hat die Dichtefunktion \n",
    "\n",
    "$$f(x) = \\begin{cases}\n",
    "          0.01x + 0.05 & \\text{ für } 0 \\leq x \\leq 10\\\\\n",
    "0 & \\text{ sonst}\\\\\n",
    "         \\end{cases}$$\n",
    "\n",
    "Berechnen Sie Erwartungswert, Varianz und Standardabweichung!\n"
   ]
  },
  {
   "cell_type": "code",
   "execution_count": null,
   "metadata": {},
   "outputs": [],
   "source": []
  },
  {
   "cell_type": "markdown",
   "metadata": {},
   "source": [
    "## Aufgabe 3\n",
    "\n",
    "Auf dem Fischerfest stehen zwei Stände, die Lose verkaufen. Der erste Stand wirbt mit einer Gewinnchance von 25%, der zweite wirbt mit einer Gewinnchance von 40%. Sie kaufen je ein Los bei beiden Ständen. Betrachten Sie die Verteilung der Anzahl der Gewinnlose, die Sie dabei ziehen. Berechnen Sie Erwartungswert und Varianz dieser Verteilung."
   ]
  },
  {
   "cell_type": "code",
   "execution_count": null,
   "metadata": {},
   "outputs": [],
   "source": []
  },
  {
   "cell_type": "markdown",
   "metadata": {},
   "source": [
    "## Aufgabe 5\n",
    "\n",
    "In einer Schulklasse sind 33 Schüler\\*innen, 12 aus Dorf A, 8 aus Dorf B und 13 aus Dorf C. Jeden Tag wird zufällig ein\\*e Schüler\\*in unter den 33 Schüler\\*innen ausgelost, der die Tafel wischen muss. Angenommen, Sie wollten die Wahrscheinlichkeit bestimmen, dass in einer Woche kein\\*e Schüler\\*in aus Dorf A, zwei Schüler\\*innen aus Dorf B und 3 Schüler\\*innen aus Dorf C die Tafel wischen müssen. Welche Verteilung würden Sie dann verwenden, um die beschriebene Wahrscheinlichkeit zu berechnen?"
   ]
  },
  {
   "cell_type": "code",
   "execution_count": null,
   "metadata": {},
   "outputs": [],
   "source": []
  },
  {
   "cell_type": "markdown",
   "metadata": {},
   "source": [
    "## Aufgabe 6\n",
    "\n",
    "In einer Schulklasse sind 33 Schüler\\*innen, 19 aus Dorf A und 14 aus Dorf B. Jeden Tag wird zufällig ein\\*e Schüler\\*in unter den Schüler\\*innen, die in der Woche noch nicht mit Wischen dran gewesen waren, ausgelost, der\\*die die Tafel wischen muss. Angenommen, Sie wollten die Wahrscheinlichkeit bestimmen, dass in einer Woche 3 Schüler\\*innen aus Dorf A und 2 Schüler\\*innen aus Dorf B die Tafel wischen müssen. Welche Verteilung würden Sie dann verwenden, um die beschriebene Wahrscheinlichkeit zu berechnen?"
   ]
  },
  {
   "cell_type": "code",
   "execution_count": null,
   "metadata": {},
   "outputs": [],
   "source": []
  },
  {
   "cell_type": "markdown",
   "metadata": {},
   "source": [
    "## Aufgabe 7\n",
    "\n",
    "Nova Scotia Duck Tolling Retriever (kurz Toller; eine Hunderasse mit kleiner Population und Blutbank von allen Individuen in Deutschland) gelten im Jugendalter als anfällig für Autoimmunerkrankungen. Autoimmunkrankheiten werden allgemein mit dem MHC-Lokus im Genom assoziiert. In den Jahren 2004 bis 2008 wurden in Deutschland 250 Toller-Welpen aufgezogen, davon entwickelten 10 im Jugendalter eine Autoimmunkrankheit, das entspricht einer Wahrscheinlichkeit von 0.04, mit der ein Toller im Jugendalter an einer Autoimmunkrankheit erkrankt (Zahlen adaptiert aus http://www.drc.de/aktuell/DRC-Tollerzuechter_Stellungnahme.pdf).  Die Zahl der an Autoimmunerkrankungen leidenden Hunde wurde anonymisiert erfasst, d.h. es ist nicht möglich, den *Immunkrankheitsstatus* von Individuen einzelnen Proben in der Blutbank zuzuordnen. Eine Wissenschaftlerin möchte den MHC-Lokus von erkrankten Tollern sequenzieren (und glaubt, diesen im Nachhinein aufgrund seiner Sequenzeigenschaften dem Status *erkrankt* oder *nicht erkrankt* zuordnen zu können). Sie schlägt vor, $\\frac{3}{0.04} = 75$ Proben aus der Blutbank (beschränkt auf die 250 zwischen 2004 und 2008 aufgezogenen Hunde) zufällig auszuwählen und auf einem Illumina-Chip zu sequenzieren, und hofft, dass mindestens drei Proben von erkrankten Hunden dabei sein werden. Sei $X:= \\text{Anzahl Proben von erkrankten Hunden in der Stichprobe}$.\n",
    "\n",
    "a) Wie ist die Zufallsvariable ($X:= \\text{Anzahl Proben von erkrankten Hunden in der Stichprobe}$) verteilt?\n",
    "\n",
    "b) Berechnen Sie die Wahrscheinlichkeit, dass mindestens die Probe eines erkrankten Hundes unter 25 Proben ist, und zwar einmal \"ohne Zurücklegen\" und einmal \"mit Zurücklegen\" (unabhängig von Ihren Überlegungen zu Teil a)."
   ]
  },
  {
   "cell_type": "code",
   "execution_count": null,
   "metadata": {},
   "outputs": [],
   "source": []
  }
 ],
 "metadata": {
  "kernelspec": {
   "display_name": "Python 3",
   "language": "python",
   "name": "python3"
  },
  "language_info": {
   "codemirror_mode": {
    "name": "ipython",
    "version": 3
   },
   "file_extension": ".py",
   "mimetype": "text/x-python",
   "name": "python",
   "nbconvert_exporter": "python",
   "pygments_lexer": "ipython3",
   "version": "3.9.2"
  }
 },
 "nbformat": 4,
 "nbformat_minor": 4
}
