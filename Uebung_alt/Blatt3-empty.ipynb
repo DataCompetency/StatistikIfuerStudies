{
 "cells": [
  {
   "cell_type": "markdown",
   "metadata": {},
   "source": [
    "# Statistik I für Naturwissenschaftler*innen: Übungsblatt 3\n",
    "\n",
    "Bitte beachten Sie: in der Online-Klausur werden Sie nicht nach Rechenwegen gefragt werden. Die Angabe von numerisch korrekten Ergebnissen reicht dort aus. Insofern macht es Sinn, dass Sie sich zur Zeitersparnis mit Python vertraut machen.\n",
    "\n",
    "## Aufgabe 1\n",
    "\n",
    "Zur Beringung werden Vögel einzeln in einer Falle gefangen und nach der Beringung umgehend wieder freigelassen. Wir nehmen an, dass der Anteil von männlichen Vögeln unter allen Vögeln 48% beträgt. Wenn wir insgesamt 80 Vögel fangen, wie hoch ist dann die Wahrscheinlichkeit, dass genau die Hälfte der gefangenen Vögel männlich ist?"
   ]
  },
  {
   "cell_type": "code",
   "execution_count": null,
   "metadata": {},
   "outputs": [],
   "source": []
  },
  {
   "cell_type": "markdown",
   "metadata": {},
   "source": [
    "## Aufgabe 2\n",
    "\n",
    "Folgende Tabelle gibt die empirische Wahrscheinlichkeitsverteilung dafür an, dass ein*e zufällig*e ausgewählte*r Hörer*in der Statistik I Vorlesung dem $k = 1, ..., 6$-ten Fachsemester eines Studiengangs angehört:\n",
    "\n",
    "| Fachsemester $k$ | 1      | 2      | 3      | 4      | 5      | 6      |\n",
    "|----------------|--------|--------|--------|--------|--------|--------|\n",
    "| $P(X = k)$       | 0.1849 | 0.6222 | 0.0123 | 0.1665 | 0.0043 | 0.0098 |\n",
    "\n",
    "   a) Was ist die Wahrscheinlichkeit, dass ein zufällig ausgewählter Hörer höchstens im 4. Fachsemester ist?\n",
    "   \n",
    "   b) Was ist die Wahrscheinlichkeit, dass ein Hörer mindestens im 3., aber höchstens im 5. Fachsemester ist?"
   ]
  },
  {
   "cell_type": "code",
   "execution_count": null,
   "metadata": {},
   "outputs": [],
   "source": []
  },
  {
   "cell_type": "markdown",
   "metadata": {},
   "source": [
    "## Aufgabe 3\n",
    "\n",
    "Eine Zufallsvariable $X$ ist stetig gleichverteilt auf dem Intervall von 0 bis 20.\n",
    "\n",
    "   a) Geben Sie die Dichtefunktion an\n",
    "\n",
    "   b) Bestimmten Sie die Wahrscheinlichkeit $P(5.5 < X \\leq 8)$"
   ]
  },
  {
   "cell_type": "code",
   "execution_count": null,
   "metadata": {},
   "outputs": [],
   "source": []
  },
  {
   "cell_type": "markdown",
   "metadata": {},
   "source": [
    "## Aufgabe 4\n",
    "\n",
    "Umseitig finden Sie eine Tabelle (im PDF Übungsblatt) der Flächeninhalte unter dem Graphen der Standardnormalverteilung. Nutzen Sie diese Tabelle, um folgende Werte anzugeben:\n",
    "\n",
    "  a) Das 75\\%-Quantil: $\\tilde{z}_{0.75}$\n",
    "  \n",
    "  b) Den Flächeninhalt unter der Dichtefunktion auf dem Intervall von $z = 0.99$ bis $z = 1.44$: $P(0.99 < Z \\leq 1.44)$\n",
    "  \n",
    "  c) Das 3\\%-Quantil: $\\tilde{z}_{0.03}$\n",
    "  \n",
    "  d) Den Flächeninhalt unter der Dichtefunktion auf dem Intervall von $z = -\\infty$ bis $z = -2$: $P(Z \\leq -2)$"
   ]
  },
  {
   "cell_type": "code",
   "execution_count": null,
   "metadata": {},
   "outputs": [],
   "source": []
  },
  {
   "cell_type": "markdown",
   "metadata": {},
   "source": [
    "## Aufgabe 5\n",
    "\n",
    "Eine Schule wird von 506 Schülerinnen und 484 Schülern besucht. 115 Schülerinnen und 110 Schüler tragen eine Brille. Hängt die Wahrscheinlichkeit, dass ein\\*e Jugendliche\\*r, der diese Schule besucht, eine Brille trägt, vom Geschlecht ab?"
   ]
  },
  {
   "cell_type": "code",
   "execution_count": null,
   "metadata": {},
   "outputs": [],
   "source": []
  }
 ],
 "metadata": {
  "kernelspec": {
   "display_name": "Python 3",
   "language": "python",
   "name": "python3"
  },
  "language_info": {
   "codemirror_mode": {
    "name": "ipython",
    "version": 3
   },
   "file_extension": ".py",
   "mimetype": "text/x-python",
   "name": "python",
   "nbconvert_exporter": "python",
   "pygments_lexer": "ipython3",
   "version": "3.9.2"
  }
 },
 "nbformat": 4,
 "nbformat_minor": 4
}
